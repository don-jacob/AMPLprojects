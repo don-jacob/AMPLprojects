{
 "cells": [
  {
   "cell_type": "code",
   "execution_count": 26,
   "metadata": {},
   "outputs": [],
   "source": [
    "from amplpy import AMPL, Environment\n",
    "ampl = AMPL(Environment('D:\\\\amplide.mswin64\\\\amplide.mswin64'))"
   ]
  },
  {
   "cell_type": "code",
   "execution_count": 27,
   "metadata": {},
   "outputs": [],
   "source": [
    "#ampl.option['solver'] = 'cplexamp'\n",
    "#we can do this to set the solver we want."
   ]
  },
  {
   "cell_type": "code",
   "execution_count": 28,
   "metadata": {},
   "outputs": [],
   "source": [
    "ampl.read('./Model3.mod')"
   ]
  },
  {
   "cell_type": "code",
   "execution_count": 29,
   "metadata": {},
   "outputs": [],
   "source": [
    "ampl.readData('./Model3.dat')"
   ]
  },
  {
   "cell_type": "code",
   "execution_count": 30,
   "metadata": {},
   "outputs": [
    {
     "name": "stdout",
     "output_type": "stream",
     "text": [
      "maximize Total_Profit:\n",
      "\t25*X['bands'] + 30*X['coils'];\n",
      "subject to Time:\n",
      "\t0.005*X['bands'] + 0.00714286*X['coils'] <= 40;\n"
     ]
    }
   ],
   "source": [
    "print(ampl.getObjective('Total_Profit').get())\n",
    "print(ampl.getConstraint('Time').get())"
   ]
  },
  {
   "cell_type": "code",
   "execution_count": 31,
   "metadata": {},
   "outputs": [
    {
     "name": "stdout",
     "output_type": "stream",
     "text": [
      "maximize Total_Profit:\n",
      "\t25*X['bands'] + 30*X['coils'];\n",
      "\n",
      "subject to Time:\n",
      "\t0.005*X['bands'] + 0.00714286*X['coils'] <= 40;\n",
      "\n"
     ]
    }
   ],
   "source": [
    "ampl.eval('expand Total_Profit;')\n",
    "ampl.eval('expand Time;')"
   ]
  },
  {
   "cell_type": "code",
   "execution_count": 32,
   "metadata": {},
   "outputs": [
    {
     "name": "stdout",
     "output_type": "stream",
     "text": [
      "MINOS 5.51: optimal solution found.\n",
      "2 iterations, objective 192000\n"
     ]
    }
   ],
   "source": [
    "ampl.solve()"
   ]
  },
  {
   "cell_type": "code",
   "execution_count": 33,
   "metadata": {},
   "outputs": [
    {
     "name": "stdout",
     "output_type": "stream",
     "text": [
      "191999.99999999997\n"
     ]
    }
   ],
   "source": [
    "print(ampl.getObjective('Total_Profit').get().value())"
   ]
  },
  {
   "cell_type": "code",
   "execution_count": 34,
   "metadata": {},
   "outputs": [
    {
     "name": "stdout",
     "output_type": "stream",
     "text": [
      "   index0    |    X.val    \n",
      "  'bands'    |     6000    \n",
      "  'coils'    | 1399.9999999999993\n",
      "\n"
     ]
    }
   ],
   "source": [
    "values = ampl.getVariable('X').getValues()\n",
    "print(values)"
   ]
  },
  {
   "cell_type": "code",
   "execution_count": 35,
   "metadata": {},
   "outputs": [
    {
     "name": "stdout",
     "output_type": "stream",
     "text": [
      "        X.val\n",
      "bands  6000.0\n",
      "coils  1400.0\n"
     ]
    }
   ],
   "source": [
    "df = values.toPandas()\n",
    "print(df)"
   ]
  },
  {
   "cell_type": "code",
   "execution_count": 36,
   "metadata": {},
   "outputs": [
    {
     "name": "stdout",
     "output_type": "stream",
     "text": [
      "[('bands', 6000.0), ('coils', 1399.9999999999993)]\n"
     ]
    }
   ],
   "source": [
    "l = values.toList()\n",
    "print(l)"
   ]
  },
  {
   "cell_type": "code",
   "execution_count": 37,
   "metadata": {},
   "outputs": [
    {
     "name": "stdout",
     "output_type": "stream",
     "text": [
      "{'bands': 6000.0, 'coils': 1399.9999999999993}\n"
     ]
    }
   ],
   "source": [
    "d = values.toDict()\n",
    "print(d)"
   ]
  }
 ],
 "metadata": {
  "kernelspec": {
   "display_name": "Python 3",
   "language": "python",
   "name": "python3"
  },
  "language_info": {
   "codemirror_mode": {
    "name": "ipython",
    "version": 3
   },
   "file_extension": ".py",
   "mimetype": "text/x-python",
   "name": "python",
   "nbconvert_exporter": "python",
   "pygments_lexer": "ipython3",
   "version": "3.7.1"
  }
 },
 "nbformat": 4,
 "nbformat_minor": 2
}
