{
 "cells": [
  {
   "cell_type": "code",
   "execution_count": 130,
   "metadata": {},
   "outputs": [],
   "source": [
    "import pandas as pd\n",
    "from amplpy import AMPL, Environment"
   ]
  },
  {
   "cell_type": "code",
   "execution_count": 131,
   "metadata": {},
   "outputs": [],
   "source": [
    "ampl = AMPL(Environment('/opt/ampl.linux64'))"
   ]
  },
  {
   "cell_type": "code",
   "execution_count": 132,
   "metadata": {},
   "outputs": [],
   "source": [
    "ampl.reset()"
   ]
  },
  {
   "cell_type": "code",
   "execution_count": 133,
   "metadata": {},
   "outputs": [
    {
     "name": "stdout",
     "output_type": "stream",
     "text": [
      "minos\n",
      "cplex\n"
     ]
    }
   ],
   "source": [
    "print(ampl.getOption('solver'))\n",
    "ampl.setOption('solver','cplex')\n",
    "print(ampl.getOption('solver'))"
   ]
  },
  {
   "cell_type": "code",
   "execution_count": 134,
   "metadata": {},
   "outputs": [],
   "source": [
    "model=\"\"\"\n",
    "#PART1: DECISION VARIABLES/UNKNOWN VARIABLES\n",
    "var x1 >= 0;\n",
    "var x2 >= 0;\n",
    "var x3 >= 0;\n",
    "\n",
    "#PART2: OBJECTIVE FUNCTION\n",
    "minimize objfunc: x1 + 3*x2 + 3*x3;\n",
    "\n",
    "#PART3: CONSTRAINTS\n",
    "s.t. c1: x1 + 2*x2 >= 3;\n",
    "s.t. c2: x3 + x2 >= 5;\n",
    "s.t. c3: x1 + x3 = 4;\n",
    "\n",
    "#Each constraint has a name. That's how we will refer to each constraint.\n",
    "#The objective function has a name.\n",
    "#Notice c3 is an equality constraint\n",
    "\"\"\""
   ]
  },
  {
   "cell_type": "code",
   "execution_count": 135,
   "metadata": {},
   "outputs": [],
   "source": [
    "ampl.eval(model)"
   ]
  },
  {
   "cell_type": "code",
   "execution_count": 136,
   "metadata": {},
   "outputs": [
    {
     "name": "stdout",
     "output_type": "stream",
     "text": [
      "minimize objfunc:\n",
      "\tx1 + 3*x2 + 3*x3;\n",
      "minimize objfunc:\n",
      "\tx1 + 3*x2 + 3*x3;\n",
      "\n"
     ]
    }
   ],
   "source": [
    "print(ampl.getObjective('objfunc').get())\n",
    "ampl.eval('expand objfunc;')"
   ]
  },
  {
   "cell_type": "code",
   "execution_count": 137,
   "metadata": {},
   "outputs": [
    {
     "name": "stdout",
     "output_type": "stream",
     "text": [
      "subject to c1: x1 + 2*x2 >= 3;\n",
      "subject to c2: x3 + x2 >= 5;\n",
      "subject to c3: x1 + x3 == 4;\n"
     ]
    }
   ],
   "source": [
    "for i in ampl.getConstraints():\n",
    "    print(i[1])\n",
    "#print(ampl.getConstraint('c1'))\n",
    "#print(ampl.getConstraint('c2'))\n",
    "#print(ampl.getConstraint('c3'))"
   ]
  },
  {
   "cell_type": "code",
   "execution_count": 138,
   "metadata": {},
   "outputs": [
    {
     "name": "stdout",
     "output_type": "stream",
     "text": [
      "subject to c1:\n",
      "\tx1 + 2*x2 >= 3;\n",
      "\n",
      "subject to c2:\n",
      "\tx2 + x3 >= 5;\n",
      "\n",
      "subject to c3:\n",
      "\tx1 + x3 = 4;\n",
      "\n"
     ]
    }
   ],
   "source": [
    "ampl.eval('expand c1;')\n",
    "ampl.eval('expand c2;')\n",
    "ampl.eval('expand c3;')"
   ]
  },
  {
   "cell_type": "code",
   "execution_count": 139,
   "metadata": {},
   "outputs": [
    {
     "name": "stdout",
     "output_type": "stream",
     "text": [
      "Coefficients of x1:\n",
      "\tc1       1\n",
      "\tc3       1\n",
      "\tobjfunc  1\n",
      "\n",
      "Coefficients of x2:\n",
      "\tc1       2\n",
      "\tc2       1\n",
      "\tobjfunc  3\n",
      "\n",
      "Coefficients of x3:\n",
      "\tc2       1\n",
      "\tc3       1\n",
      "\tobjfunc  3\n",
      "\n"
     ]
    }
   ],
   "source": [
    "ampl.eval('expand x1;')\n",
    "ampl.eval('expand x2;')\n",
    "ampl.eval('expand x3;')"
   ]
  },
  {
   "cell_type": "code",
   "execution_count": 140,
   "metadata": {},
   "outputs": [
    {
     "name": "stdout",
     "output_type": "stream",
     "text": [
      "_nvars = 3\n",
      "_ncons = 3\n",
      "\n"
     ]
    }
   ],
   "source": [
    "ampl.eval('display _nvars, _ncons;')"
   ]
  },
  {
   "cell_type": "code",
   "execution_count": 141,
   "metadata": {},
   "outputs": [
    {
     "name": "stdout",
     "output_type": "stream",
     "text": [
      "CPLEX 12.8.0.0: optimal solution; objective 15.33333333\n",
      "2 dual simplex iterations (0 in phase I)\n"
     ]
    }
   ],
   "source": [
    "ampl.solve()"
   ]
  },
  {
   "cell_type": "code",
   "execution_count": 142,
   "metadata": {},
   "outputs": [
    {
     "name": "stdout",
     "output_type": "stream",
     "text": [
      "15.333333333333332\n"
     ]
    }
   ],
   "source": [
    "print(ampl.getObjective('objfunc').get().value())"
   ]
  },
  {
   "cell_type": "code",
   "execution_count": 143,
   "metadata": {},
   "outputs": [],
   "source": [
    "#### Shadow Price or Dual Price or Marginal Price"
   ]
  },
  {
   "cell_type": "code",
   "execution_count": 144,
   "metadata": {},
   "outputs": [
    {
     "name": "stdout",
     "output_type": "stream",
     "text": [
      "    c1.dual\n",
      "0  0.333333\n",
      "    c2.dual\n",
      "0  2.333333\n",
      "    c3.dual\n",
      "0  0.666667\n"
     ]
    }
   ],
   "source": [
    "for i in ampl.getConstraints():\n",
    "    print(i[1].getValues().toPandas())"
   ]
  },
  {
   "cell_type": "code",
   "execution_count": 145,
   "metadata": {},
   "outputs": [
    {
     "name": "stdout",
     "output_type": "stream",
     "text": [
      "   x1.val   \n",
      "0.33333333333333331\n",
      "\n",
      "   x2.val   \n",
      "1.3333333333333333\n",
      "\n",
      "   x3.val   \n",
      "3.6666666666666665\n",
      "\n"
     ]
    }
   ],
   "source": [
    "for i in ampl.getVariables():\n",
    "    print(i[1].getValues())"
   ]
  },
  {
   "cell_type": "code",
   "execution_count": 123,
   "metadata": {},
   "outputs": [
    {
     "data": {
      "text/html": [
       "<div>\n",
       "<style scoped>\n",
       "    .dataframe tbody tr th:only-of-type {\n",
       "        vertical-align: middle;\n",
       "    }\n",
       "\n",
       "    .dataframe tbody tr th {\n",
       "        vertical-align: top;\n",
       "    }\n",
       "\n",
       "    .dataframe thead th {\n",
       "        text-align: right;\n",
       "    }\n",
       "</style>\n",
       "<table border=\"1\" class=\"dataframe\">\n",
       "  <thead>\n",
       "    <tr style=\"text-align: right;\">\n",
       "      <th></th>\n",
       "      <th>X_LowerBound</th>\n",
       "      <th>X_Solution</th>\n",
       "      <th>X_UpperBound</th>\n",
       "      <th>X_ReducedCosts</th>\n",
       "    </tr>\n",
       "    <tr>\n",
       "      <th>DecisionVariable_X</th>\n",
       "      <th></th>\n",
       "      <th></th>\n",
       "      <th></th>\n",
       "      <th></th>\n",
       "    </tr>\n",
       "  </thead>\n",
       "  <tbody>\n",
       "    <tr>\n",
       "      <th>x1</th>\n",
       "      <td>0.0</td>\n",
       "      <td>0.333333</td>\n",
       "      <td>inf</td>\n",
       "      <td>2.220446e-16</td>\n",
       "    </tr>\n",
       "    <tr>\n",
       "      <th>x2</th>\n",
       "      <td>0.0</td>\n",
       "      <td>1.333333</td>\n",
       "      <td>inf</td>\n",
       "      <td>0.000000e+00</td>\n",
       "    </tr>\n",
       "    <tr>\n",
       "      <th>x3</th>\n",
       "      <td>0.0</td>\n",
       "      <td>3.666667</td>\n",
       "      <td>inf</td>\n",
       "      <td>0.000000e+00</td>\n",
       "    </tr>\n",
       "  </tbody>\n",
       "</table>\n",
       "</div>"
      ],
      "text/plain": [
       "                    X_LowerBound  X_Solution  X_UpperBound  X_ReducedCosts\n",
       "DecisionVariable_X                                                        \n",
       "x1                           0.0    0.333333           inf    2.220446e-16\n",
       "x2                           0.0    1.333333           inf    0.000000e+00\n",
       "x3                           0.0    3.666667           inf    0.000000e+00"
      ]
     },
     "execution_count": 123,
     "metadata": {},
     "output_type": "execute_result"
    }
   ],
   "source": [
    "X_result = list()\n",
    "items = ('c1',\n",
    "        'number_of_pages_in_magazine',\n",
    "        'number_of_minutes_in_radio')\n",
    "for v in ampl.getVariables():\n",
    "    X_result.append([\n",
    "        v[0],\n",
    "        v[1].lb(), \n",
    "        v[1].value(),\n",
    "        v[1].ub(),\n",
    "        v[1].rc()\n",
    "    ])\n",
    "df_X_result = pd.DataFrame(X_result)\n",
    "df_X_result.rename(columns={0:'DecisionVariable_X',\n",
    "                            1:'X_LowerBound',\n",
    "                            2:'X_Solution',\n",
    "                            3:'X_UpperBound',\n",
    "                            4:'X_ReducedCosts'},\n",
    "                   inplace=True)\n",
    "df_X_result.set_index('DecisionVariable_X',inplace=True)\n",
    "df_X_result"
   ]
  }
 ],
 "metadata": {
  "kernelspec": {
   "display_name": "Python 3",
   "language": "python",
   "name": "python3"
  },
  "language_info": {
   "codemirror_mode": {
    "name": "ipython",
    "version": 3
   },
   "file_extension": ".py",
   "mimetype": "text/x-python",
   "name": "python",
   "nbconvert_exporter": "python",
   "pygments_lexer": "ipython3",
   "version": "3.7.1"
  }
 },
 "nbformat": 4,
 "nbformat_minor": 2
}
