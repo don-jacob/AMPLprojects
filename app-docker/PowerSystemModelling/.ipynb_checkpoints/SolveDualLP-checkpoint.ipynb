{
 "cells": [
  {
   "cell_type": "code",
   "execution_count": 63,
   "metadata": {},
   "outputs": [],
   "source": [
    "import pandas as pd\n",
    "from amplpy import AMPL, Environment"
   ]
  },
  {
   "cell_type": "code",
   "execution_count": 64,
   "metadata": {},
   "outputs": [],
   "source": [
    "ampl = AMPL(Environment('/opt/ampl.linux64'))"
   ]
  },
  {
   "cell_type": "code",
   "execution_count": 78,
   "metadata": {},
   "outputs": [],
   "source": [
    "ampl.reset()"
   ]
  },
  {
   "cell_type": "code",
   "execution_count": 79,
   "metadata": {},
   "outputs": [
    {
     "name": "stdout",
     "output_type": "stream",
     "text": [
      "cplex\n",
      "cplex\n"
     ]
    }
   ],
   "source": [
    "print(ampl.getOption('solver'))\n",
    "ampl.setOption('solver','cplex')\n",
    "print(ampl.getOption('solver'))"
   ]
  },
  {
   "cell_type": "code",
   "execution_count": 68,
   "metadata": {},
   "outputs": [],
   "source": [
    "primalModel=\"\"\"\n",
    "#PART1: DECISION VARIABLES/UNKNOWN VARIABLES\n",
    "var x1 >= 0;\n",
    "var x2 >= 0;\n",
    "var x3 >= 0;\n",
    "\n",
    "#PART2: OBJECTIVE FUNCTION\n",
    "maximize objfunc: 5*x1 + 2*x2 + x3;\n",
    "\n",
    "#PART3: CONSTRAINTS\n",
    "s.t. c1: 1*x1 + 3*x2 + 0*x3 <= 6;\n",
    "s.t. c2: 0*x1 + 1*x2 + 1*x3 <= 4;\n",
    "s.t. c3: 3*x1 + 1*x2 + 0*x3 <= 7;\n",
    "\n",
    "#Each constraint has a name. That's how we will refer to each constraint.\n",
    "#The objective function has a name.\n",
    "\"\"\""
   ]
  },
  {
   "cell_type": "code",
   "execution_count": 69,
   "metadata": {},
   "outputs": [],
   "source": [
    "dualModel=\"\"\"\n",
    "#PART1: DECISION VARIABLES/UNKNOWN VARIABLES\n",
    "var y1 >= 0;\n",
    "var y2 >= 0;\n",
    "var y3 >= 0;\n",
    "\n",
    "#PART2: OBJECTIVE FUNCTION\n",
    "minimize objfunc: 6*y1 + 4*y2 + 7*y3;\n",
    "\n",
    "#PART3: CONSTRAINTS\n",
    "s.t. c1: 1*y1 + 0*y2 + 3*y3 >= 5;\n",
    "s.t. c2: 3*y1 + 1*y2 + 1*y3 >= 2;\n",
    "s.t. c3: 0*y1 + 1*y2 + 0*y3 >= 1;\n",
    "\n",
    "#Each constraint has a name. That's how we will refer to each constraint.\n",
    "#The objective function has a name.\n",
    "\"\"\""
   ]
  },
  {
   "cell_type": "code",
   "execution_count": 71,
   "metadata": {},
   "outputs": [],
   "source": [
    "ampl.eval(primalModel)"
   ]
  },
  {
   "cell_type": "code",
   "execution_count": 60,
   "metadata": {},
   "outputs": [
    {
     "name": "stdout",
     "output_type": "stream",
     "text": [
      "maximize objfunc:\n",
      "\t5*x1 + 2*x2 + x3;\n",
      "maximize objfunc:\n",
      "\t5*x1 + 2*x2 + x3;\n",
      "\n"
     ]
    }
   ],
   "source": [
    "\"\"\"\n",
    "#print(ampl.getConstraint('c1'))\n",
    "#print(ampl.getConstraint('c2'))\n",
    "#print(ampl.getConstraint('c3'))\n",
    "\"\"\""
   ]
  },
  {
   "cell_type": "code",
   "execution_count": 77,
   "metadata": {},
   "outputs": [
    {
     "name": "stdout",
     "output_type": "stream",
     "text": [
      "maximize objfunc:\n",
      "\t5*x1 + 2*x2 + x3;\n",
      "maximize objfunc:\n",
      "\t5*x1 + 2*x2 + x3;\n",
      "\n",
      "subject to c1: 1*x1 + 3*x2 + 0*x3 <= 6;\n",
      "subject to c2: 0*x1 + 1*x2 + 1*x3 <= 4;\n",
      "subject to c3: 3*x1 + 1*x2 + 0*x3 <= 7;\n",
      "subject to c1:\n",
      "\tx1 + 3*x2 <= 6;\n",
      "\n",
      "subject to c2:\n",
      "\tx2 + x3 <= 4;\n",
      "\n",
      "subject to c3:\n",
      "\t3*x1 + x2 <= 7;\n",
      "\n",
      "Coefficients of x1:\n",
      "\tc1       1\n",
      "\tc3       3\n",
      "\tobjfunc  5\n",
      "\n",
      "Coefficients of x2:\n",
      "\tc1       3\n",
      "\tc2       1\n",
      "\tc3       1\n",
      "\tobjfunc  2\n",
      "\n",
      "Coefficients of x3:\n",
      "\tc2       1\n",
      "\tobjfunc  1\n",
      "\n",
      "_nvars = 3\n",
      "_ncons = 3\n",
      "\n"
     ]
    }
   ],
   "source": [
    "print(ampl.getObjective('objfunc').get())\n",
    "ampl.eval('expand objfunc;')\n",
    "for i in ampl.getConstraints():\n",
    "    print(i[1])\n",
    "ampl.eval('expand c1;')\n",
    "ampl.eval('expand c2;')\n",
    "ampl.eval('expand c3;')\n",
    "ampl.eval('expand x1;')\n",
    "ampl.eval('expand x2;')\n",
    "ampl.eval('expand x3;')\n",
    "ampl.eval('display _nvars, _ncons;')"
   ]
  },
  {
   "cell_type": "code",
   "execution_count": 74,
   "metadata": {},
   "outputs": [
    {
     "name": "stdout",
     "output_type": "stream",
     "text": [
      "primal\n",
      "CPLEX 12.8.0.0: primal\n",
      "CPLEX 12.8.0.0: optimal solution; objective 15.66666667\n",
      "0 simplex iterations (0 in phase I)\n",
      "15.666666666666664\n"
     ]
    }
   ],
   "source": [
    "ampl.setOption('cplex_options','primal')\n",
    "print(ampl.getOption('cplex_options'))\n",
    "ampl.solve()\n",
    "print(ampl.getObjective('objfunc').get().value())"
   ]
  },
  {
   "cell_type": "code",
   "execution_count": 75,
   "metadata": {},
   "outputs": [
    {
     "name": "stdout",
     "output_type": "stream",
     "text": [
      "dual\n",
      "CPLEX 12.8.0.0: dual\n",
      "CPLEX 12.8.0.0: optimal solution; objective 15.66666667\n",
      "0 simplex iterations (0 in phase I) on the dual problem\n",
      "15.666666666666664\n"
     ]
    }
   ],
   "source": [
    "ampl.setOption('cplex_options','dual')\n",
    "print(ampl.getOption('cplex_options'))\n",
    "ampl.solve()\n",
    "print(ampl.getObjective('objfunc').get().value())"
   ]
  },
  {
   "cell_type": "markdown",
   "metadata": {},
   "source": [
    "#### Shadow Price or Dual Price or Marginal Price"
   ]
  },
  {
   "cell_type": "code",
   "execution_count": 47,
   "metadata": {},
   "outputs": [
    {
     "name": "stdout",
     "output_type": "stream",
     "text": [
      "   c1.dual\n",
      "0      0.0\n",
      "   c2.dual\n",
      "0      1.0\n",
      "    c3.dual\n",
      "0  1.666667\n"
     ]
    }
   ],
   "source": [
    "for i in ampl.getConstraints():\n",
    "    print(i[1].getValues().toPandas())"
   ]
  },
  {
   "cell_type": "code",
   "execution_count": 48,
   "metadata": {},
   "outputs": [
    {
     "name": "stdout",
     "output_type": "stream",
     "text": [
      "   x1.val   \n",
      "2.333333333333333\n",
      "\n",
      "   x2.val   \n",
      "     0      \n",
      "\n",
      "   x3.val   \n",
      "     4      \n",
      "\n"
     ]
    }
   ],
   "source": [
    "for i in ampl.getVariables():\n",
    "    print(i[1].getValues())"
   ]
  },
  {
   "cell_type": "markdown",
   "metadata": {},
   "source": [
    "### Decision Variable Solution and Reduced Cost"
   ]
  },
  {
   "cell_type": "code",
   "execution_count": 50,
   "metadata": {},
   "outputs": [
    {
     "data": {
      "text/html": [
       "<div>\n",
       "<style scoped>\n",
       "    .dataframe tbody tr th:only-of-type {\n",
       "        vertical-align: middle;\n",
       "    }\n",
       "\n",
       "    .dataframe tbody tr th {\n",
       "        vertical-align: top;\n",
       "    }\n",
       "\n",
       "    .dataframe thead th {\n",
       "        text-align: right;\n",
       "    }\n",
       "</style>\n",
       "<table border=\"1\" class=\"dataframe\">\n",
       "  <thead>\n",
       "    <tr style=\"text-align: right;\">\n",
       "      <th></th>\n",
       "      <th>X_LowerBound</th>\n",
       "      <th>X_Solution</th>\n",
       "      <th>X_UpperBound</th>\n",
       "      <th>X_ReducedCosts</th>\n",
       "    </tr>\n",
       "    <tr>\n",
       "      <th>DecisionVariable_X</th>\n",
       "      <th></th>\n",
       "      <th></th>\n",
       "      <th></th>\n",
       "      <th></th>\n",
       "    </tr>\n",
       "  </thead>\n",
       "  <tbody>\n",
       "    <tr>\n",
       "      <th>x1</th>\n",
       "      <td>0.0</td>\n",
       "      <td>2.333333</td>\n",
       "      <td>inf</td>\n",
       "      <td>0.000000</td>\n",
       "    </tr>\n",
       "    <tr>\n",
       "      <th>x2</th>\n",
       "      <td>0.0</td>\n",
       "      <td>0.000000</td>\n",
       "      <td>inf</td>\n",
       "      <td>-0.666667</td>\n",
       "    </tr>\n",
       "    <tr>\n",
       "      <th>x3</th>\n",
       "      <td>0.0</td>\n",
       "      <td>4.000000</td>\n",
       "      <td>inf</td>\n",
       "      <td>0.000000</td>\n",
       "    </tr>\n",
       "  </tbody>\n",
       "</table>\n",
       "</div>"
      ],
      "text/plain": [
       "                    X_LowerBound  X_Solution  X_UpperBound  X_ReducedCosts\n",
       "DecisionVariable_X                                                        \n",
       "x1                           0.0    2.333333           inf        0.000000\n",
       "x2                           0.0    0.000000           inf       -0.666667\n",
       "x3                           0.0    4.000000           inf        0.000000"
      ]
     },
     "execution_count": 50,
     "metadata": {},
     "output_type": "execute_result"
    }
   ],
   "source": [
    "X_result = list()\n",
    "for v in ampl.getVariables():\n",
    "    X_result.append([\n",
    "        v[0],\n",
    "        v[1].lb(), \n",
    "        v[1].value(),\n",
    "        v[1].ub(),\n",
    "        v[1].rc()\n",
    "    ])\n",
    "df_X_result = pd.DataFrame(X_result)\n",
    "df_X_result.rename(columns={0:'DecisionVariable_X',\n",
    "                            1:'X_LowerBound',\n",
    "                            2:'X_Solution',\n",
    "                            3:'X_UpperBound',\n",
    "                            4:'X_ReducedCosts'},\n",
    "                   inplace=True)\n",
    "df_X_result.set_index('DecisionVariable_X',inplace=True)\n",
    "df_X_result"
   ]
  },
  {
   "cell_type": "code",
   "execution_count": 80,
   "metadata": {},
   "outputs": [
    {
     "name": "stdout",
     "output_type": "stream",
     "text": [
      "primal\n",
      "CPLEX 12.8.0.0: primal\n",
      "CPLEX 12.8.0.0: optimal solution; objective 15.66666667\n",
      "1 dual simplex iterations (0 in phase I)\n",
      "15.666666666666666\n"
     ]
    }
   ],
   "source": [
    "ampl.reset()\n",
    "ampl.eval(dualModel)\n",
    "ampl.setOption('cplex_options','primal')\n",
    "print(ampl.getOption('cplex_options'))\n",
    "ampl.solve()\n",
    "print(ampl.getObjective('objfunc').get().value())"
   ]
  },
  {
   "cell_type": "code",
   "execution_count": null,
   "metadata": {},
   "outputs": [],
   "source": []
  }
 ],
 "metadata": {
  "kernelspec": {
   "display_name": "Python 3",
   "language": "python",
   "name": "python3"
  },
  "language_info": {
   "codemirror_mode": {
    "name": "ipython",
    "version": 3
   },
   "file_extension": ".py",
   "mimetype": "text/x-python",
   "name": "python",
   "nbconvert_exporter": "python",
   "pygments_lexer": "ipython3",
   "version": "3.7.1"
  }
 },
 "nbformat": 4,
 "nbformat_minor": 2
}
