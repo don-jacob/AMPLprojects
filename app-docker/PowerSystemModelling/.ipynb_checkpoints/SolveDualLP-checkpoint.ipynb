{
 "cells": [
  {
   "cell_type": "code",
   "execution_count": 63,
   "metadata": {},
   "outputs": [],
   "source": [
    "import pandas as pd\n",
    "from amplpy import AMPL, Environment"
   ]
  },
  {
   "cell_type": "code",
   "execution_count": 64,
   "metadata": {},
   "outputs": [],
   "source": [
    "ampl = AMPL(Environment('/opt/ampl.linux64'))"
   ]
  },
  {
   "cell_type": "code",
   "execution_count": 78,
   "metadata": {},
   "outputs": [],
   "source": [
    "ampl.reset()"
   ]
  },
  {
   "cell_type": "code",
   "execution_count": 79,
   "metadata": {},
   "outputs": [
    {
     "name": "stdout",
     "output_type": "stream",
     "text": [
      "cplex\n",
      "cplex\n"
     ]
    }
   ],
   "source": [
    "print(ampl.getOption('solver'))\n",
    "ampl.setOption('solver','cplex')\n",
    "print(ampl.getOption('solver'))"
   ]
  },
  {
   "cell_type": "code",
   "execution_count": 68,
   "metadata": {},
   "outputs": [],
   "source": [
    "primalModel=\"\"\"\n",
    "#PART1: DECISION VARIABLES/UNKNOWN VARIABLES\n",
    "var x1 >= 0;\n",
    "var x2 >= 0;\n",
    "var x3 >= 0;\n",
    "\n",
    "#PART2: OBJECTIVE FUNCTION\n",
    "maximize objfunc: 5*x1 + 2*x2 + x3;\n",
    "\n",
    "#PART3: CONSTRAINTS\n",
    "s.t. c1: 1*x1 + 3*x2 + 0*x3 <= 6;\n",
    "s.t. c2: 0*x1 + 1*x2 + 1*x3 <= 4;\n",
    "s.t. c3: 3*x1 + 1*x2 + 0*x3 <= 7;\n",
    "\n",
    "#Each constraint has a name. That's how we will refer to each constraint.\n",
    "#The objective function has a name.\n",
    "\"\"\""
   ]
  },
  {
   "cell_type": "code",
   "execution_count": 69,
   "metadata": {},
   "outputs": [],
   "source": [
    "dualModel=\"\"\"\n",
    "#PART1: DECISION VARIABLES/UNKNOWN VARIABLES\n",
    "var y1 >= 0;\n",
    "var y2 >= 0;\n",
    "var y3 >= 0;\n",
    "\n",
    "#PART2: OBJECTIVE FUNCTION\n",
    "minimize objfunc: 6*y1 + 4*y2 + 7*y3;\n",
    "\n",
    "#PART3: CONSTRAINTS\n",
    "s.t. c1: 1*y1 + 0*y2 + 3*y3 >= 5;\n",
    "s.t. c2: 3*y1 + 1*y2 + 1*y3 >= 2;\n",
    "s.t. c3: 0*y1 + 1*y2 + 0*y3 >= 1;\n",
    "\n",
    "#Each constraint has a name. That's how we will refer to each constraint.\n",
    "#The objective function has a name.\n",
    "\"\"\""
   ]
  },
  {
   "cell_type": "code",
   "execution_count": 74,
   "metadata": {},
   "outputs": [
    {
     "name": "stdout",
     "output_type": "stream",
     "text": [
      "primal\n",
      "CPLEX 12.8.0.0: primal\n",
      "CPLEX 12.8.0.0: optimal solution; objective 15.66666667\n",
      "0 simplex iterations (0 in phase I)\n",
      "15.666666666666664\n"
     ]
    }
   ],
   "source": [
    "ampl.reset()\n",
    "ampl.setOption('cplex_options','primal')\n",
    "print(ampl.getOption('cplex_options'))\n",
    "ampl.eval(primalModel)\n",
    "ampl.solve()\n",
    "print(ampl.getObjective('objfunc').get().value())"
   ]
  },
  {
   "cell_type": "code",
   "execution_count": 81,
   "metadata": {},
   "outputs": [
    {
     "name": "stdout",
     "output_type": "stream",
     "text": [
      "primal\n",
      "CPLEX 12.8.0.0: primal\n",
      "CPLEX 12.8.0.0: optimal solution; objective 15.66666667\n",
      "1 dual simplex iterations (0 in phase I)\n",
      "15.666666666666666\n"
     ]
    }
   ],
   "source": [
    "ampl.reset()\n",
    "ampl.setOption('cplex_options','primal')\n",
    "print(ampl.getOption('cplex_options'))\n",
    "ampl.eval(dualModel)\n",
    "ampl.solve()\n",
    "print(ampl.getObjective('objfunc').get().value())"
   ]
  },
  {
   "cell_type": "code",
   "execution_count": 82,
   "metadata": {},
   "outputs": [
    {
     "name": "stdout",
     "output_type": "stream",
     "text": [
      "dual\n",
      "CPLEX 12.8.0.0: dual\n",
      "CPLEX 12.8.0.0: optimal solution; objective 15.66666667\n",
      "1 dual simplex iterations (0 in phase I) on the dual problem\n",
      "15.666666666666664\n"
     ]
    }
   ],
   "source": [
    "ampl.reset()\n",
    "ampl.setOption('cplex_options','dual')\n",
    "print(ampl.getOption('cplex_options'))\n",
    "ampl.eval(primalModel)\n",
    "ampl.solve()\n",
    "print(ampl.getObjective('objfunc').get().value())"
   ]
  }
 ],
 "metadata": {
  "kernelspec": {
   "display_name": "Python 3",
   "language": "python",
   "name": "python3"
  },
  "language_info": {
   "codemirror_mode": {
    "name": "ipython",
    "version": 3
   },
   "file_extension": ".py",
   "mimetype": "text/x-python",
   "name": "python",
   "nbconvert_exporter": "python",
   "pygments_lexer": "ipython3",
   "version": "3.7.1"
  }
 },
 "nbformat": 4,
 "nbformat_minor": 2
}
