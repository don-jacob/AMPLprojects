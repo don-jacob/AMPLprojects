{
 "cells": [
  {
   "cell_type": "code",
   "execution_count": 3,
   "metadata": {},
   "outputs": [],
   "source": [
    "import pandas as pd\n",
    "from amplpy import AMPL, Environment"
   ]
  },
  {
   "cell_type": "code",
   "execution_count": 4,
   "metadata": {},
   "outputs": [],
   "source": [
    "ampl = AMPL(Environment('/opt/ampl.linux64'))"
   ]
  },
  {
   "cell_type": "code",
   "execution_count": 5,
   "metadata": {},
   "outputs": [],
   "source": [
    "ampl.reset()"
   ]
  },
  {
   "cell_type": "code",
   "execution_count": 6,
   "metadata": {},
   "outputs": [
    {
     "name": "stdout",
     "output_type": "stream",
     "text": [
      "minos\n",
      "cplex\n"
     ]
    }
   ],
   "source": [
    "print(ampl.getOption('solver'))\n",
    "ampl.setOption('solver','cplex')\n",
    "print(ampl.getOption('solver'))"
   ]
  },
  {
   "cell_type": "code",
   "execution_count": 7,
   "metadata": {},
   "outputs": [],
   "source": [
    "model=\"\"\"\n",
    "#PART1: DECISION VARIABLES/UNKNOWN VARIABLES\n",
    "var x1 >= 0;\n",
    "var x2 >= 0;\n",
    "var x3 >= 0;\n",
    "\n",
    "#PART2: OBJECTIVE FUNCTION\n",
    "maximize objfunc: x1 + x2 + 2*x3;\n",
    "\n",
    "#PART3: CONSTRAINTS\n",
    "s.t. c1: x2 + 2*x3 <= 3;\n",
    "s.t. c2: -x1 + 3*x3 <= 2;\n",
    "s.t. c3: 2*x1 + x2 + x3 <= 1;\n",
    "\n",
    "#Each constraint has a name. That's how we will refer to each constraint.\n",
    "#The objective function has a name.\n",
    "#Notice c3 is an equality constraint\n",
    "\"\"\""
   ]
  },
  {
   "cell_type": "code",
   "execution_count": 8,
   "metadata": {},
   "outputs": [],
   "source": [
    "ampl.eval(model)"
   ]
  },
  {
   "cell_type": "code",
   "execution_count": 9,
   "metadata": {},
   "outputs": [
    {
     "name": "stdout",
     "output_type": "stream",
     "text": [
      "maximize objfunc:\n",
      "\tx1 + x2 + 2*x3;\n",
      "maximize objfunc:\n",
      "\tx1 + x2 + 2*x3;\n",
      "\n"
     ]
    }
   ],
   "source": [
    "print(ampl.getObjective('objfunc').get())\n",
    "ampl.eval('expand objfunc;')"
   ]
  },
  {
   "cell_type": "code",
   "execution_count": 10,
   "metadata": {},
   "outputs": [
    {
     "name": "stdout",
     "output_type": "stream",
     "text": [
      "subject to c1: x2 + 2*x3 <= 3;\n",
      "subject to c2: -x1 + 3*x3 <= 2;\n",
      "subject to c3: 2*x1 + x2 + x3 <= 1;\n"
     ]
    }
   ],
   "source": [
    "for i in ampl.getConstraints():\n",
    "    print(i[1])\n",
    "#print(ampl.getConstraint('c1'))\n",
    "#print(ampl.getConstraint('c2'))\n",
    "#print(ampl.getConstraint('c3'))"
   ]
  },
  {
   "cell_type": "code",
   "execution_count": 11,
   "metadata": {},
   "outputs": [
    {
     "name": "stdout",
     "output_type": "stream",
     "text": [
      "subject to c1:\n",
      "\tx2 + 2*x3 <= 3;\n",
      "\n",
      "subject to c2:\n",
      "\t-x1 + 3*x3 <= 2;\n",
      "\n",
      "subject to c3:\n",
      "\t2*x1 + x2 + x3 <= 1;\n",
      "\n"
     ]
    }
   ],
   "source": [
    "ampl.eval('expand c1;')\n",
    "ampl.eval('expand c2;')\n",
    "ampl.eval('expand c3;')"
   ]
  },
  {
   "cell_type": "code",
   "execution_count": 12,
   "metadata": {},
   "outputs": [
    {
     "name": "stdout",
     "output_type": "stream",
     "text": [
      "Coefficients of x1:\n",
      "\tc2       -1\n",
      "\tc3        2\n",
      "\tobjfunc   1\n",
      "\n",
      "Coefficients of x2:\n",
      "\tc1       1\n",
      "\tc3       1\n",
      "\tobjfunc  1\n",
      "\n"
     ]
    }
   ],
   "source": [
    "ampl.eval('expand x1;')\n",
    "ampl.eval('expand x2;')"
   ]
  },
  {
   "cell_type": "code",
   "execution_count": 13,
   "metadata": {},
   "outputs": [
    {
     "name": "stdout",
     "output_type": "stream",
     "text": [
      "_nvars = 3\n",
      "_ncons = 3\n",
      "\n"
     ]
    }
   ],
   "source": [
    "ampl.eval('display _nvars, _ncons;')"
   ]
  },
  {
   "cell_type": "code",
   "execution_count": 14,
   "metadata": {},
   "outputs": [
    {
     "name": "stdout",
     "output_type": "stream",
     "text": [
      "CPLEX 12.8.0.0: optimal solution; objective 1.666666667\n",
      "2 dual simplex iterations (1 in phase I)\n"
     ]
    }
   ],
   "source": [
    "ampl.solve()"
   ]
  },
  {
   "cell_type": "code",
   "execution_count": 15,
   "metadata": {},
   "outputs": [
    {
     "name": "stdout",
     "output_type": "stream",
     "text": [
      "1.6666666666666665\n"
     ]
    }
   ],
   "source": [
    "print(ampl.getObjective('objfunc').get().value())"
   ]
  },
  {
   "cell_type": "markdown",
   "metadata": {},
   "source": [
    "#### Shadow Price or Dual Price or Marginal Price"
   ]
  },
  {
   "cell_type": "code",
   "execution_count": 16,
   "metadata": {},
   "outputs": [
    {
     "name": "stdout",
     "output_type": "stream",
     "text": [
      "   c1.dual\n",
      "0      0.0\n",
      "    c2.dual\n",
      "0  0.333333\n",
      "   c3.dual\n",
      "0      1.0\n"
     ]
    }
   ],
   "source": [
    "for i in ampl.getConstraints():\n",
    "    print(i[1].getValues().toPandas())"
   ]
  },
  {
   "cell_type": "code",
   "execution_count": 17,
   "metadata": {},
   "outputs": [
    {
     "name": "stdout",
     "output_type": "stream",
     "text": [
      "   x1.val   \n",
      "     0      \n",
      "\n",
      "   x2.val   \n",
      "0.33333333333333337\n",
      "\n",
      "   x3.val   \n",
      "0.66666666666666663\n",
      "\n"
     ]
    }
   ],
   "source": [
    "for i in ampl.getVariables():\n",
    "    print(i[1].getValues())"
   ]
  },
  {
   "cell_type": "markdown",
   "metadata": {},
   "source": [
    "### Decision Variable Solution and Reduced Cost"
   ]
  },
  {
   "cell_type": "code",
   "execution_count": 18,
   "metadata": {},
   "outputs": [
    {
     "data": {
      "text/html": [
       "<div>\n",
       "<style scoped>\n",
       "    .dataframe tbody tr th:only-of-type {\n",
       "        vertical-align: middle;\n",
       "    }\n",
       "\n",
       "    .dataframe tbody tr th {\n",
       "        vertical-align: top;\n",
       "    }\n",
       "\n",
       "    .dataframe thead th {\n",
       "        text-align: right;\n",
       "    }\n",
       "</style>\n",
       "<table border=\"1\" class=\"dataframe\">\n",
       "  <thead>\n",
       "    <tr style=\"text-align: right;\">\n",
       "      <th></th>\n",
       "      <th>X_LowerBound</th>\n",
       "      <th>X_Solution</th>\n",
       "      <th>X_UpperBound</th>\n",
       "      <th>X_ReducedCosts</th>\n",
       "    </tr>\n",
       "    <tr>\n",
       "      <th>DecisionVariable_X</th>\n",
       "      <th></th>\n",
       "      <th></th>\n",
       "      <th></th>\n",
       "      <th></th>\n",
       "    </tr>\n",
       "  </thead>\n",
       "  <tbody>\n",
       "    <tr>\n",
       "      <th>x1</th>\n",
       "      <td>0.0</td>\n",
       "      <td>0.000000</td>\n",
       "      <td>inf</td>\n",
       "      <td>-0.666667</td>\n",
       "    </tr>\n",
       "    <tr>\n",
       "      <th>x2</th>\n",
       "      <td>0.0</td>\n",
       "      <td>0.333333</td>\n",
       "      <td>inf</td>\n",
       "      <td>0.000000</td>\n",
       "    </tr>\n",
       "    <tr>\n",
       "      <th>x3</th>\n",
       "      <td>0.0</td>\n",
       "      <td>0.666667</td>\n",
       "      <td>inf</td>\n",
       "      <td>0.000000</td>\n",
       "    </tr>\n",
       "  </tbody>\n",
       "</table>\n",
       "</div>"
      ],
      "text/plain": [
       "                    X_LowerBound  X_Solution  X_UpperBound  X_ReducedCosts\n",
       "DecisionVariable_X                                                        \n",
       "x1                           0.0    0.000000           inf       -0.666667\n",
       "x2                           0.0    0.333333           inf        0.000000\n",
       "x3                           0.0    0.666667           inf        0.000000"
      ]
     },
     "execution_count": 18,
     "metadata": {},
     "output_type": "execute_result"
    }
   ],
   "source": [
    "X_result = list()\n",
    "for v in ampl.getVariables():\n",
    "    X_result.append([\n",
    "        v[0],\n",
    "        v[1].lb(), \n",
    "        v[1].value(),\n",
    "        v[1].ub(),\n",
    "        v[1].rc()\n",
    "    ])\n",
    "df_X_result = pd.DataFrame(X_result)\n",
    "df_X_result.rename(columns={0:'DecisionVariable_X',\n",
    "                            1:'X_LowerBound',\n",
    "                            2:'X_Solution',\n",
    "                            3:'X_UpperBound',\n",
    "                            4:'X_ReducedCosts'},\n",
    "                   inplace=True)\n",
    "df_X_result.set_index('DecisionVariable_X',inplace=True)\n",
    "df_X_result"
   ]
  }
 ],
 "metadata": {
  "kernelspec": {
   "display_name": "Python 3",
   "language": "python",
   "name": "python3"
  },
  "language_info": {
   "codemirror_mode": {
    "name": "ipython",
    "version": 3
   },
   "file_extension": ".py",
   "mimetype": "text/x-python",
   "name": "python",
   "nbconvert_exporter": "python",
   "pygments_lexer": "ipython3",
   "version": "3.7.1"
  }
 },
 "nbformat": 4,
 "nbformat_minor": 2
}
