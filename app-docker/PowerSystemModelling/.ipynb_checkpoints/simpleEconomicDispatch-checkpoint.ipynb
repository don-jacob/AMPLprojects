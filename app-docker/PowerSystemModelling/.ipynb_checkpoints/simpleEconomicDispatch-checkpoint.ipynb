{
 "cells": [
  {
   "cell_type": "code",
   "execution_count": 30,
   "metadata": {},
   "outputs": [],
   "source": [
    "import pandas as pd\n",
    "from amplpy import AMPL, Environment"
   ]
  },
  {
   "cell_type": "code",
   "execution_count": 31,
   "metadata": {},
   "outputs": [],
   "source": [
    "ampl = AMPL(Environment('/opt/ampl.linux64'))"
   ]
  },
  {
   "cell_type": "code",
   "execution_count": 38,
   "metadata": {},
   "outputs": [],
   "source": [
    "ampl.reset()"
   ]
  },
  {
   "cell_type": "code",
   "execution_count": 39,
   "metadata": {},
   "outputs": [
    {
     "name": "stdout",
     "output_type": "stream",
     "text": [
      "minos\n",
      "cplex\n"
     ]
    }
   ],
   "source": [
    "print(ampl.getOption('solver'))\n",
    "ampl.setOption('solver','cplex')\n",
    "print(ampl.getOption('solver'))"
   ]
  },
  {
   "cell_type": "code",
   "execution_count": 40,
   "metadata": {},
   "outputs": [],
   "source": [
    "ampl.read('./simpleEconomicDispatch.mod')"
   ]
  },
  {
   "cell_type": "code",
   "execution_count": 41,
   "metadata": {},
   "outputs": [],
   "source": [
    "ampl.read('./simpleEconomicDispatch.dat')"
   ]
  },
  {
   "cell_type": "code",
   "execution_count": 42,
   "metadata": {},
   "outputs": [
    {
     "name": "stdout",
     "output_type": "stream",
     "text": [
      "minimize genMW:\n",
      "\t3*X['G1']*X['G1'] + 4.05*X['G2']*X['G2'] + 4.05*X['G3']*X['G3'] + 3.99*\n",
      "\tX['G4']*X['G4'] + 3.88*X['G5']*X['G5'] + 20*X['G1'] + 18.07*X['G2'] + \n",
      "\t15.55*X['G3'] + 19.21*X['G4'] + 26.18*X['G5'] + 505.65;\n",
      "subject to power_balance: sum{p in generators} X[p] == load;\n"
     ]
    }
   ],
   "source": [
    "print(ampl.getObjective('genMW').get())\n",
    "print(ampl.getConstraint('power_balance'))"
   ]
  },
  {
   "cell_type": "code",
   "execution_count": 52,
   "metadata": {},
   "outputs": [
    {
     "data": {
      "text/plain": [
       "['G1', 'G2', 'G3', 'G4', 'G5']"
      ]
     },
     "execution_count": 52,
     "metadata": {},
     "output_type": "execute_result"
    }
   ],
   "source": [
    "variables = list([''.join(['G',str(i+1)]) for i in range(5)])"
   ]
  },
  {
   "cell_type": "code",
   "execution_count": 53,
   "metadata": {},
   "outputs": [
    {
     "name": "stdout",
     "output_type": "stream",
     "text": [
      "subject to power_balance: sum{p in generators} X[p] == load;\n",
      "\n",
      "Variables and their bounds\n",
      "var X['G1'] >=28, <=206;\n",
      "var X['G2'] >=90, <=284;\n",
      "var X['G3'] >=68, <=189;\n",
      "var X['G4'] >=76, <=266;\n",
      "var X['G5'] >=19, <=53;\n",
      "\n",
      "Constraints and their limits\n",
      "subject to power_balance:\n",
      "\tX['G1'] + X['G2'] + X['G3'] + X['G4'] + X['G5'] = 400;\n",
      "\n",
      "Objective Function\n",
      "minimize genMW:\n",
      "\t3*X['G1']*X['G1'] + 4.05*X['G2']*X['G2'] + 4.05*X['G3']*X['G3'] + 3.99*\n",
      "\tX['G4']*X['G4'] + 3.88*X['G5']*X['G5'] + 20*X['G1'] + 18.07*X['G2'] + \n",
      "\t15.55*X['G3'] + 19.21*X['G4'] + 26.18*X['G5'] + 505.65;\n"
     ]
    }
   ],
   "source": [
    "print(ampl.getConstraint('power_balance'))\n",
    "#print(ampl.getConstraint('Time').get('reheat'))\n",
    "#print(ampl.getConstraint('Time').get('roll'))\n",
    "print()\n",
    "print('Variables and their bounds')\n",
    "for i in ampl.getVariables():\n",
    "    [print(i[1].get(j)) for j in variables]\n",
    "print()\n",
    "print('Constraints and their limits')\n",
    "for i in ampl.getConstraints():\n",
    "    if i[0] == 'power_balance': print(i[1].get())\n",
    "print()\n",
    "print('Objective Function')\n",
    "print(ampl.getObjective('genMW').get())"
   ]
  },
  {
   "cell_type": "code",
   "execution_count": 54,
   "metadata": {},
   "outputs": [
    {
     "name": "stdout",
     "output_type": "stream",
     "text": [
      "minimize genMW:\n",
      "\t3*X['G1']*X['G1'] + 4.05*X['G2']*X['G2'] + 4.05*X['G3']*X['G3'] + 3.99*\n",
      "\tX['G4']*X['G4'] + 3.88*X['G5']*X['G5'] + 20*X['G1'] + 18.07*X['G2'] + \n",
      "\t15.55*X['G3'] + 19.21*X['G4'] + 26.18*X['G5'] + 505.65;\n",
      "\n",
      "subject to power_balance:\n",
      "\tX['G1'] + X['G2'] + X['G3'] + X['G4'] + X['G5'] = 400;\n",
      "\n"
     ]
    }
   ],
   "source": [
    "ampl.eval('expand genMW;')\n",
    "ampl.eval('expand power_balance;')"
   ]
  },
  {
   "cell_type": "code",
   "execution_count": 55,
   "metadata": {},
   "outputs": [
    {
     "name": "stdout",
     "output_type": "stream",
     "text": [
      "Coefficients of X['G1']:\n",
      "\tpower_balance   1\n",
      "\tgenMW          20 + nonlinear\n",
      "\n",
      "Coefficients of X['G2']:\n",
      "\tpower_balance   1\n",
      "\tgenMW          18.07 + nonlinear\n",
      "\n",
      "Coefficients of X['G3']:\n",
      "\tpower_balance   1\n",
      "\tgenMW          15.55 + nonlinear\n",
      "\n",
      "Coefficients of X['G4']:\n",
      "\tpower_balance   1\n",
      "\tgenMW          19.21 + nonlinear\n",
      "\n",
      "Coefficients of X['G5']:\n",
      "\tpower_balance   1\n",
      "\tgenMW          26.18 + nonlinear\n",
      "\n"
     ]
    }
   ],
   "source": [
    "for variable in variables:\n",
    "    ampl.eval('expand X[\"{}\"];'.format(variable))"
   ]
  },
  {
   "cell_type": "code",
   "execution_count": 56,
   "metadata": {},
   "outputs": [
    {
     "name": "stdout",
     "output_type": "stream",
     "text": [
      "_nvars = 5\n",
      "_ncons = 1\n",
      "\n"
     ]
    }
   ],
   "source": [
    "ampl.eval('display _nvars, _ncons;')"
   ]
  },
  {
   "cell_type": "code",
   "execution_count": 43,
   "metadata": {},
   "outputs": [
    {
     "name": "stdout",
     "output_type": "stream",
     "text": [
      "CPLEX 12.8.0.0: optimal solution; objective 131455.0003\n",
      "8 separable QP barrier iterations\n",
      "No basis.\n"
     ]
    }
   ],
   "source": [
    "ampl.solve()"
   ]
  },
  {
   "cell_type": "code",
   "execution_count": 58,
   "metadata": {},
   "outputs": [
    {
     "name": "stdout",
     "output_type": "stream",
     "text": [
      "131455.00029586835\n"
     ]
    }
   ],
   "source": [
    "print(ampl.getObjective('genMW').get().value())"
   ]
  },
  {
   "cell_type": "markdown",
   "metadata": {},
   "source": [
    "### Shadow Price or Dual Price or Marginal Price"
   ]
  },
  {
   "cell_type": "code",
   "execution_count": 59,
   "metadata": {},
   "outputs": [
    {
     "name": "stdout",
     "output_type": "stream",
     "text": [
      "genMW = 131455\n",
      "\n",
      "power_balance.dual\n",
      "637.06535138009554\n",
      "\n"
     ]
    }
   ],
   "source": [
    "ampl.eval('display genMW;')\n",
    "for i in ampl.getConstraints():\n",
    "    print(i[1].getValues())\n",
    "#print(ampl.getConstraint('Time').getValues())"
   ]
  },
  {
   "cell_type": "markdown",
   "metadata": {},
   "source": [
    "### Decision Variable Solution and Reduced Cost"
   ]
  },
  {
   "cell_type": "code",
   "execution_count": 60,
   "metadata": {},
   "outputs": [
    {
     "data": {
      "text/html": [
       "<div>\n",
       "<style scoped>\n",
       "    .dataframe tbody tr th:only-of-type {\n",
       "        vertical-align: middle;\n",
       "    }\n",
       "\n",
       "    .dataframe tbody tr th {\n",
       "        vertical-align: top;\n",
       "    }\n",
       "\n",
       "    .dataframe thead th {\n",
       "        text-align: right;\n",
       "    }\n",
       "</style>\n",
       "<table border=\"1\" class=\"dataframe\">\n",
       "  <thead>\n",
       "    <tr style=\"text-align: right;\">\n",
       "      <th></th>\n",
       "      <th>X_LowerBound</th>\n",
       "      <th>X_Solution</th>\n",
       "      <th>X_UpperBound</th>\n",
       "      <th>X_ReducedCosts</th>\n",
       "    </tr>\n",
       "    <tr>\n",
       "      <th>DecisionVariable_X</th>\n",
       "      <th></th>\n",
       "      <th></th>\n",
       "      <th></th>\n",
       "      <th></th>\n",
       "    </tr>\n",
       "  </thead>\n",
       "  <tbody>\n",
       "    <tr>\n",
       "      <th>G1</th>\n",
       "      <td>28.0</td>\n",
       "      <td>102.844225</td>\n",
       "      <td>206.0</td>\n",
       "      <td>6.452080e-08</td>\n",
       "    </tr>\n",
       "    <tr>\n",
       "      <th>G2</th>\n",
       "      <td>90.0</td>\n",
       "      <td>90.000000</td>\n",
       "      <td>284.0</td>\n",
       "      <td>1.100046e+02</td>\n",
       "    </tr>\n",
       "    <tr>\n",
       "      <th>G3</th>\n",
       "      <td>68.0</td>\n",
       "      <td>76.730291</td>\n",
       "      <td>189.0</td>\n",
       "      <td>1.858668e-06</td>\n",
       "    </tr>\n",
       "    <tr>\n",
       "      <th>G4</th>\n",
       "      <td>76.0</td>\n",
       "      <td>77.425484</td>\n",
       "      <td>266.0</td>\n",
       "      <td>1.224965e-05</td>\n",
       "    </tr>\n",
       "    <tr>\n",
       "      <th>G5</th>\n",
       "      <td>19.0</td>\n",
       "      <td>53.000000</td>\n",
       "      <td>53.0</td>\n",
       "      <td>-1.996054e+02</td>\n",
       "    </tr>\n",
       "  </tbody>\n",
       "</table>\n",
       "</div>"
      ],
      "text/plain": [
       "                    X_LowerBound  X_Solution  X_UpperBound  X_ReducedCosts\n",
       "DecisionVariable_X                                                        \n",
       "G1                          28.0  102.844225         206.0    6.452080e-08\n",
       "G2                          90.0   90.000000         284.0    1.100046e+02\n",
       "G3                          68.0   76.730291         189.0    1.858668e-06\n",
       "G4                          76.0   77.425484         266.0    1.224965e-05\n",
       "G5                          19.0   53.000000          53.0   -1.996054e+02"
      ]
     },
     "execution_count": 60,
     "metadata": {},
     "output_type": "execute_result"
    }
   ],
   "source": [
    "X_result = list()\n",
    "for p in variables:\n",
    "    X_result.append([\n",
    "        p,\n",
    "        ampl.getVariable('X').get(p).lb(), \n",
    "        ampl.getVariable('X').get(p).value(),\n",
    "        ampl.getVariable('X').get(p).ub(),\n",
    "        ampl.getVariable('X').get(p).rc()\n",
    "    ])\n",
    "df_X_result = pd.DataFrame(X_result)\n",
    "df_X_result.rename(columns={0:'DecisionVariable_X',\n",
    "                            1:'X_LowerBound',\n",
    "                            2:'X_Solution',\n",
    "                            3:'X_UpperBound',\n",
    "                            4:'X_ReducedCosts'},\n",
    "                   inplace=True)\n",
    "df_X_result.set_index('DecisionVariable_X',inplace=True)\n",
    "df_X_result"
   ]
  },
  {
   "cell_type": "code",
   "execution_count": 61,
   "metadata": {},
   "outputs": [
    {
     "name": "stdout",
     "output_type": "stream",
     "text": [
      "   index0    |      X      \n",
      "    'G1'     | 102.84422524076939\n",
      "    'G2'     | 90.000000159946822\n",
      "    'G3'     | 76.730290523304163\n",
      "    'G4'     | 77.425484164128179\n",
      "    'G5'     | 52.999999911851475\n",
      "\n",
      "   index0    |    X.val    \n",
      "    'G1'     | 102.84422524076939\n",
      "    'G2'     | 90.000000159946822\n",
      "    'G3'     | 76.730290523304163\n",
      "    'G4'     | 77.425484164128179\n",
      "    'G5'     | 52.999999911851475\n",
      "\n",
      "[('G1', 102.84422524076939), ('G2', 90.00000015994682), ('G3', 76.73029052330416), ('G4', 77.42548416412818), ('G5', 52.999999911851475)]\n",
      "{'G1': 102.84422524076939, 'G2': 90.00000015994682, 'G3': 76.73029052330416, 'G4': 77.42548416412818, 'G5': 52.999999911851475}\n"
     ]
    }
   ],
   "source": [
    "print(ampl.getData('X'))\n",
    "values = ampl.getVariable('X').getValues()\n",
    "print(values)\n",
    "df = values.toPandas()\n",
    "print(values.toList())\n",
    "print(values.toDict())"
   ]
  },
  {
   "cell_type": "code",
   "execution_count": null,
   "metadata": {},
   "outputs": [],
   "source": []
  }
 ],
 "metadata": {
  "kernelspec": {
   "display_name": "Python 3",
   "language": "python",
   "name": "python3"
  },
  "language_info": {
   "codemirror_mode": {
    "name": "ipython",
    "version": 3
   },
   "file_extension": ".py",
   "mimetype": "text/x-python",
   "name": "python",
   "nbconvert_exporter": "python",
   "pygments_lexer": "ipython3",
   "version": "3.7.1"
  }
 },
 "nbformat": 4,
 "nbformat_minor": 2
}
