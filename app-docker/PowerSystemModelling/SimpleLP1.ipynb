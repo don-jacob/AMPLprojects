{
 "cells": [
  {
   "cell_type": "code",
   "execution_count": 1,
   "metadata": {},
   "outputs": [],
   "source": [
    "import pandas as pd\n",
    "from amplpy import AMPL, Environment"
   ]
  },
  {
   "cell_type": "code",
   "execution_count": 17,
   "metadata": {},
   "outputs": [],
   "source": [
    "ampl = AMPL(Environment('/opt/ampl.linux64'))"
   ]
  },
  {
   "cell_type": "code",
   "execution_count": 18,
   "metadata": {},
   "outputs": [],
   "source": [
    "ampl.reset()"
   ]
  },
  {
   "cell_type": "code",
   "execution_count": 19,
   "metadata": {},
   "outputs": [
    {
     "name": "stdout",
     "output_type": "stream",
     "text": [
      "minos\n",
      "cplex\n"
     ]
    }
   ],
   "source": [
    "print(ampl.getOption('solver'))\n",
    "ampl.setOption('solver','cplex')\n",
    "print(ampl.getOption('solver'))"
   ]
  },
  {
   "cell_type": "code",
   "execution_count": 20,
   "metadata": {},
   "outputs": [],
   "source": [
    "model=\"\"\"\n",
    "#PART1: DECISION VARIABLES/UNKNOWN VARIABLES\n",
    "var x1 >= 0;\n",
    "var x2 >= 0;\n",
    "\n",
    "#PART2: OBJECTIVE FUNCTION\n",
    "maximize objfunc: x1 + x2;\n",
    "\n",
    "#PART3: CONSTRAINTS\n",
    "s.t. c1: x1 + 2*x2 <= 4;\n",
    "s.t. c2: 4*x1 + 2*x2 <= 12;\n",
    "s.t. c3: -x1 + x2 <= 1;\n",
    "\n",
    "#Each constraint has a name. That's how we will refer to each constraint.\n",
    "#The objective function has a name.\n",
    "#Notice c3 is an equality constraint\n",
    "\"\"\""
   ]
  },
  {
   "cell_type": "code",
   "execution_count": 21,
   "metadata": {},
   "outputs": [],
   "source": [
    "ampl.eval(model)"
   ]
  },
  {
   "cell_type": "code",
   "execution_count": 22,
   "metadata": {},
   "outputs": [
    {
     "name": "stdout",
     "output_type": "stream",
     "text": [
      "maximize objfunc:\n",
      "\tx1 + x2;\n",
      "maximize objfunc:\n",
      "\tx1 + x2;\n",
      "\n"
     ]
    }
   ],
   "source": [
    "print(ampl.getObjective('objfunc').get())\n",
    "ampl.eval('expand objfunc;')"
   ]
  },
  {
   "cell_type": "code",
   "execution_count": 23,
   "metadata": {},
   "outputs": [
    {
     "name": "stdout",
     "output_type": "stream",
     "text": [
      "subject to c1: x1 + 2*x2 <= 4;\n",
      "subject to c2: 4*x1 + 2*x2 <= 12;\n",
      "subject to c3: -x1 + x2 <= 1;\n"
     ]
    }
   ],
   "source": [
    "for i in ampl.getConstraints():\n",
    "    print(i[1])\n",
    "#print(ampl.getConstraint('c1'))\n",
    "#print(ampl.getConstraint('c2'))\n",
    "#print(ampl.getConstraint('c3'))"
   ]
  },
  {
   "cell_type": "code",
   "execution_count": 24,
   "metadata": {},
   "outputs": [
    {
     "name": "stdout",
     "output_type": "stream",
     "text": [
      "subject to c1:\n",
      "\tx1 + 2*x2 <= 4;\n",
      "\n",
      "subject to c2:\n",
      "\t4*x1 + 2*x2 <= 12;\n",
      "\n",
      "subject to c3:\n",
      "\t-x1 + x2 <= 1;\n",
      "\n"
     ]
    }
   ],
   "source": [
    "ampl.eval('expand c1;')\n",
    "ampl.eval('expand c2;')\n",
    "ampl.eval('expand c3;')"
   ]
  },
  {
   "cell_type": "code",
   "execution_count": 25,
   "metadata": {},
   "outputs": [
    {
     "name": "stdout",
     "output_type": "stream",
     "text": [
      "Coefficients of x1:\n",
      "\tc1        1\n",
      "\tc2        4\n",
      "\tc3       -1\n",
      "\tobjfunc   1\n",
      "\n",
      "Coefficients of x2:\n",
      "\tc1       2\n",
      "\tc2       2\n",
      "\tc3       1\n",
      "\tobjfunc  1\n",
      "\n"
     ]
    }
   ],
   "source": [
    "ampl.eval('expand x1;')\n",
    "ampl.eval('expand x2;')"
   ]
  },
  {
   "cell_type": "code",
   "execution_count": 26,
   "metadata": {},
   "outputs": [
    {
     "name": "stdout",
     "output_type": "stream",
     "text": [
      "_nvars = 2\n",
      "_ncons = 3\n",
      "\n"
     ]
    }
   ],
   "source": [
    "ampl.eval('display _nvars, _ncons;')"
   ]
  },
  {
   "cell_type": "code",
   "execution_count": 27,
   "metadata": {},
   "outputs": [
    {
     "name": "stdout",
     "output_type": "stream",
     "text": [
      "CPLEX 12.8.0.0: optimal solution; objective 3.333333333\n",
      "2 dual simplex iterations (1 in phase I)\n"
     ]
    }
   ],
   "source": [
    "ampl.solve()"
   ]
  },
  {
   "cell_type": "code",
   "execution_count": 28,
   "metadata": {},
   "outputs": [
    {
     "name": "stdout",
     "output_type": "stream",
     "text": [
      "3.333333333333333\n"
     ]
    }
   ],
   "source": [
    "print(ampl.getObjective('objfunc').get().value())"
   ]
  },
  {
   "cell_type": "markdown",
   "metadata": {},
   "source": [
    "#### Shadow Price or Dual Price or Marginal Price"
   ]
  },
  {
   "cell_type": "code",
   "execution_count": 29,
   "metadata": {},
   "outputs": [
    {
     "name": "stdout",
     "output_type": "stream",
     "text": [
      "    c1.dual\n",
      "0  0.333333\n",
      "    c2.dual\n",
      "0  0.166667\n",
      "   c3.dual\n",
      "0      0.0\n"
     ]
    }
   ],
   "source": [
    "for i in ampl.getConstraints():\n",
    "    print(i[1].getValues().toPandas())"
   ]
  },
  {
   "cell_type": "code",
   "execution_count": 30,
   "metadata": {},
   "outputs": [
    {
     "name": "stdout",
     "output_type": "stream",
     "text": [
      "   x1.val   \n",
      "2.6666666666666665\n",
      "\n",
      "   x2.val   \n",
      "0.66666666666666663\n",
      "\n"
     ]
    }
   ],
   "source": [
    "for i in ampl.getVariables():\n",
    "    print(i[1].getValues())"
   ]
  },
  {
   "cell_type": "markdown",
   "metadata": {},
   "source": [
    "### Decision Variable Solution and Reduced Cost"
   ]
  },
  {
   "cell_type": "code",
   "execution_count": 31,
   "metadata": {},
   "outputs": [
    {
     "data": {
      "text/html": [
       "<div>\n",
       "<style scoped>\n",
       "    .dataframe tbody tr th:only-of-type {\n",
       "        vertical-align: middle;\n",
       "    }\n",
       "\n",
       "    .dataframe tbody tr th {\n",
       "        vertical-align: top;\n",
       "    }\n",
       "\n",
       "    .dataframe thead th {\n",
       "        text-align: right;\n",
       "    }\n",
       "</style>\n",
       "<table border=\"1\" class=\"dataframe\">\n",
       "  <thead>\n",
       "    <tr style=\"text-align: right;\">\n",
       "      <th></th>\n",
       "      <th>X_LowerBound</th>\n",
       "      <th>X_Solution</th>\n",
       "      <th>X_UpperBound</th>\n",
       "      <th>X_ReducedCosts</th>\n",
       "    </tr>\n",
       "    <tr>\n",
       "      <th>DecisionVariable_X</th>\n",
       "      <th></th>\n",
       "      <th></th>\n",
       "      <th></th>\n",
       "      <th></th>\n",
       "    </tr>\n",
       "  </thead>\n",
       "  <tbody>\n",
       "    <tr>\n",
       "      <th>x1</th>\n",
       "      <td>0.0</td>\n",
       "      <td>2.666667</td>\n",
       "      <td>inf</td>\n",
       "      <td>0.0</td>\n",
       "    </tr>\n",
       "    <tr>\n",
       "      <th>x2</th>\n",
       "      <td>0.0</td>\n",
       "      <td>0.666667</td>\n",
       "      <td>inf</td>\n",
       "      <td>0.0</td>\n",
       "    </tr>\n",
       "  </tbody>\n",
       "</table>\n",
       "</div>"
      ],
      "text/plain": [
       "                    X_LowerBound  X_Solution  X_UpperBound  X_ReducedCosts\n",
       "DecisionVariable_X                                                        \n",
       "x1                           0.0    2.666667           inf             0.0\n",
       "x2                           0.0    0.666667           inf             0.0"
      ]
     },
     "execution_count": 31,
     "metadata": {},
     "output_type": "execute_result"
    }
   ],
   "source": [
    "X_result = list()\n",
    "for v in ampl.getVariables():\n",
    "    X_result.append([\n",
    "        v[0],\n",
    "        v[1].lb(), \n",
    "        v[1].value(),\n",
    "        v[1].ub(),\n",
    "        v[1].rc()\n",
    "    ])\n",
    "df_X_result = pd.DataFrame(X_result)\n",
    "df_X_result.rename(columns={0:'DecisionVariable_X',\n",
    "                            1:'X_LowerBound',\n",
    "                            2:'X_Solution',\n",
    "                            3:'X_UpperBound',\n",
    "                            4:'X_ReducedCosts'},\n",
    "                   inplace=True)\n",
    "df_X_result.set_index('DecisionVariable_X',inplace=True)\n",
    "df_X_result"
   ]
  }
 ],
 "metadata": {
  "kernelspec": {
   "display_name": "Python 3",
   "language": "python",
   "name": "python3"
  },
  "language_info": {
   "codemirror_mode": {
    "name": "ipython",
    "version": 3
   },
   "file_extension": ".py",
   "mimetype": "text/x-python",
   "name": "python",
   "nbconvert_exporter": "python",
   "pygments_lexer": "ipython3",
   "version": "3.7.1"
  }
 },
 "nbformat": 4,
 "nbformat_minor": 2
}
