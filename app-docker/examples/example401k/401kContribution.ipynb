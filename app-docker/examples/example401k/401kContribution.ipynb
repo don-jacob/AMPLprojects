{
 "cells": [
  {
   "cell_type": "markdown",
   "metadata": {},
   "source": [
    "# 401k Contribution\n",
    "\n",
    "1. In this example I used Integer Programming, AMPL and Python to optimally allocate contributions to Roth and Traditional.\n",
    "2. Input: \n",
    "    * Roth Annual Max = 5500 (default)\n",
    "    * Total Annual Contribution = Traditional + Roth = 18500 (default)\n",
    "3. Ouput:\n",
    "    * Bi-Weekly dollar amount to contribute to Roth\n",
    "    * Bi-Weekly dollar amount to contribute to Traditional\n",
    "    * Surplus \n",
    "4. Objective Function: Maximize contribution to Roth, remianing contribute to Traditional. Any amount remaining after contributing Roth and Traditional, assign it to Surplus.  \n",
    "5. Surplus amount would be something we need to contribute lumpsum in a single paycheck. Surplus is the amount of dollars we could not allocate to Roth and Traditional in \\\\$1 increments. If we were to split the Surplus equally in each paycheck that would be a fractional dollar (cents). My investment plan does not allow for contributing in cents. The minimum contribution has to be in \\\\$1 increments. "
   ]
  },
  {
   "cell_type": "code",
   "execution_count": 1,
   "metadata": {},
   "outputs": [],
   "source": [
    "#NUMBER_OF_MONTHS = 12\n",
    "ROTH_MAX = 6000\n",
    "MAX_CONTRIBUTION = 19500 #Max 401k contribution\n",
    "NO_OF_PAY_PERIODS_IN_A_YEAR = 26\n",
    "ROTH_CONTRIBUTION_SO_FAR = 0.0\n",
    "TRADITIONAL_CONTRIBUTION_SO_FAR = 0.0\n",
    "NO_OF_PAY_PERIODS_CONTRIBUTED = 0\n",
    "REMAINING_PAY_PERIODS=NO_OF_PAY_PERIODS_IN_A_YEAR-NO_OF_PAY_PERIODS_CONTRIBUTED\n",
    "TOTAL_CONTRIBUTION_SO_FAR=ROTH_CONTRIBUTION_SO_FAR+TRADITIONAL_CONTRIBUTION_SO_FAR"
   ]
  },
  {
   "cell_type": "code",
   "execution_count": 2,
   "metadata": {},
   "outputs": [],
   "source": [
    "model = \"\"\"\n",
    "#PART 1: DECISION VARIABLES\n",
    "var roth >= 0 integer;\n",
    "var traditional >= 0 integer;\n",
    "var surplus >= 0;\n",
    "\n",
    "#PART 2: OBJECTIVE FUNCTION\n",
    "maximize z: roth*{REMAINING_PAY_PERIODS}*4 + traditional*{REMAINING_PAY_PERIODS}*2 + {TOTAL_CONTRIBUTION_SO_FAR} + surplus;\n",
    "#The second 2 here is because I value roth twice more than traditional. \n",
    "\n",
    "#PART 3: CONSTRAINTS\n",
    "s.t. M1: roth*{REMAINING_PAY_PERIODS} + {ROTH_CONTRIBUTION_SO_FAR}  <= {ROTH_MAX};\n",
    "s.t. M2: roth*{REMAINING_PAY_PERIODS} + traditional*{REMAINING_PAY_PERIODS} + {TOTAL_CONTRIBUTION_SO_FAR} + surplus <= {MAX_CONTRIBUTION};\n",
    "\"\"\".format(\n",
    "    ROTH_MAX=ROTH_MAX, \n",
    "    MAX_CONTRIBUTION=MAX_CONTRIBUTION, \n",
    "    REMAINING_PAY_PERIODS=REMAINING_PAY_PERIODS,\n",
    "    TOTAL_CONTRIBUTION_SO_FAR=TOTAL_CONTRIBUTION_SO_FAR,\n",
    "    ROTH_CONTRIBUTION_SO_FAR=ROTH_CONTRIBUTION_SO_FAR\n",
    ")"
   ]
  },
  {
   "cell_type": "code",
   "execution_count": 3,
   "metadata": {},
   "outputs": [
    {
     "name": "stdout",
     "output_type": "stream",
     "text": [
      "\n",
      "#PART 1: DECISION VARIABLES\n",
      "var roth >= 0 integer;\n",
      "var traditional >= 0 integer;\n",
      "var surplus >= 0;\n",
      "\n",
      "#PART 2: OBJECTIVE FUNCTION\n",
      "maximize z: roth*26*4 + traditional*26*2 + 0.0 + surplus;\n",
      "#The second 2 here is because I value roth twice more than traditional. \n",
      "\n",
      "#PART 3: CONSTRAINTS\n",
      "s.t. M1: roth*26 + 0.0  <= 6000;\n",
      "s.t. M2: roth*26 + traditional*26 + 0.0 + surplus <= 19500;\n",
      "\n"
     ]
    }
   ],
   "source": [
    "print(model)"
   ]
  },
  {
   "cell_type": "code",
   "execution_count": 6,
   "metadata": {},
   "outputs": [
    {
     "name": "stdout",
     "output_type": "stream",
     "text": [
      "minos\n",
      "cplex\n",
      "CPLEX 12.9.0.0: optimal integer solution; objective 50960\n",
      "0 MIP simplex iterations\n",
      "0 branch-and-bound nodes\n"
     ]
    }
   ],
   "source": [
    "from amplpy import AMPL, Environment\n",
    "\n",
    "ampl = AMPL(Environment('/media/second_drive/PERSONAL_PROJECTS/AMPLprojects/app-docker/amplide.linux64'))\n",
    "print(ampl.getOption('solver'))\n",
    "ampl.setOption('solver','cplex')\n",
    "print(ampl.getOption('solver'))\n",
    "#ampl.read('example.mod') #read the model\n",
    "ampl.eval(model)\n",
    "ampl.solve()\n",
    "#ampl.eval('objective z; solve;')\n",
    "#ampl.display('z', 'roth', 'traditional', 'surplus')"
   ]
  },
  {
   "cell_type": "code",
   "execution_count": 7,
   "metadata": {},
   "outputs": [],
   "source": [
    "z=ampl.getValue('z')\n",
    "roth=ampl.getValue('roth')\n",
    "traditional=ampl.getValue('traditional')\n",
    "surplus=ampl.getValue('surplus')"
   ]
  },
  {
   "cell_type": "code",
   "execution_count": 8,
   "metadata": {},
   "outputs": [
    {
     "name": "stdout",
     "output_type": "stream",
     "text": [
      "50960.0\n",
      "230.0\n",
      "520.0\n",
      "0.0\n"
     ]
    }
   ],
   "source": [
    "print(z)\n",
    "print(roth)\n",
    "print(traditional)\n",
    "print(surplus)"
   ]
  },
  {
   "cell_type": "code",
   "execution_count": 9,
   "metadata": {},
   "outputs": [
    {
     "name": "stdout",
     "output_type": "stream",
     "text": [
      "subject to M1:\n",
      "\t26*roth <= 6000;\n",
      "  M1.dual   \n",
      "     0      \n",
      "\n",
      "subject to M2:\n",
      "\t26*roth + 26*traditional + surplus <= 19500;\n",
      "  M2.dual   \n",
      "     1      \n",
      "\n"
     ]
    }
   ],
   "source": [
    "for const in ampl.getConstraints():\n",
    "    print(const[1].get())\n",
    "    print(const[1].getValues())"
   ]
  },
  {
   "cell_type": "code",
   "execution_count": 10,
   "metadata": {},
   "outputs": [
    {
     "name": "stdout",
     "output_type": "stream",
     "text": [
      "\n",
      "objective function                 = 50960.0\n",
      "bi-weekly roth contribution        = $230.0\n",
      "bi-weekly traditional contribution = $520.0\n",
      "roth contribution                  = $5980.0\n",
      "traditional contribution           = $13520.0\n",
      "total (without surplus)            = $19500.0\n",
      "total (with surplus)               = $19500.0\n",
      "\n"
     ]
    }
   ],
   "source": [
    "annual_roth_amt = roth*REMAINING_PAY_PERIODS\n",
    "annual_traditional_amt = traditional*REMAINING_PAY_PERIODS\n",
    "pstring = \"\"\"\n",
    "objective function                 = {z}\n",
    "bi-weekly roth contribution        = ${roth}\n",
    "bi-weekly traditional contribution = ${traditional}\n",
    "roth contribution                  = ${rothContribution}\n",
    "traditional contribution           = ${traditionalContribution}\n",
    "total (without surplus)            = ${total}\n",
    "total (with surplus)               = ${totalS}\n",
    "\"\"\"\n",
    "\n",
    "\n",
    "print(pstring.format(z=z,\n",
    "                     roth=roth,\n",
    "                     traditional=traditional,\n",
    "                     rothContribution=annual_roth_amt+ROTH_CONTRIBUTION_SO_FAR,\n",
    "                     traditionalContribution=annual_traditional_amt+TRADITIONAL_CONTRIBUTION_SO_FAR,\n",
    "                     total=annual_roth_amt+annual_traditional_amt+TOTAL_CONTRIBUTION_SO_FAR,\n",
    "                     totalS=annual_roth_amt+annual_traditional_amt+TOTAL_CONTRIBUTION_SO_FAR+surplus\n",
    "                    ))"
   ]
  },
  {
   "cell_type": "code",
   "execution_count": 11,
   "metadata": {},
   "outputs": [],
   "source": [
    "variables = list()\n",
    "for variable in ampl.getVariables():\n",
    "        #print(variable[1].get())\n",
    "        variables.append((variable[0],\n",
    "                          variable[1].lb(),\n",
    "                          variable[1].value(),\n",
    "                          variable[1].ub(),\n",
    "                          variable[1].rc()))"
   ]
  },
  {
   "cell_type": "code",
   "execution_count": 12,
   "metadata": {},
   "outputs": [
    {
     "name": "stdout",
     "output_type": "stream",
     "text": [
      "_nvars = 3\n",
      "_ncons = 2\n",
      "\n"
     ]
    }
   ],
   "source": [
    "ampl.eval('display _nvars, _ncons;')"
   ]
  },
  {
   "cell_type": "code",
   "execution_count": 13,
   "metadata": {},
   "outputs": [],
   "source": [
    "import pandas as pd\n",
    "df = pd.DataFrame(variables, columns=['Variable',\n",
    "                                      'LowerBound',\n",
    "                                      'Value',\n",
    "                                      'UpperBound',\n",
    "                                      'ReducedCost']).set_index('Variable')"
   ]
  },
  {
   "cell_type": "code",
   "execution_count": 14,
   "metadata": {},
   "outputs": [
    {
     "data": {
      "text/html": [
       "<div>\n",
       "<style scoped>\n",
       "    .dataframe tbody tr th:only-of-type {\n",
       "        vertical-align: middle;\n",
       "    }\n",
       "\n",
       "    .dataframe tbody tr th {\n",
       "        vertical-align: top;\n",
       "    }\n",
       "\n",
       "    .dataframe thead th {\n",
       "        text-align: right;\n",
       "    }\n",
       "</style>\n",
       "<table border=\"1\" class=\"dataframe\">\n",
       "  <thead>\n",
       "    <tr style=\"text-align: right;\">\n",
       "      <th></th>\n",
       "      <th>LowerBound</th>\n",
       "      <th>Value</th>\n",
       "      <th>UpperBound</th>\n",
       "      <th>ReducedCost</th>\n",
       "    </tr>\n",
       "    <tr>\n",
       "      <th>Variable</th>\n",
       "      <th></th>\n",
       "      <th></th>\n",
       "      <th></th>\n",
       "      <th></th>\n",
       "    </tr>\n",
       "  </thead>\n",
       "  <tbody>\n",
       "    <tr>\n",
       "      <th>roth</th>\n",
       "      <td>0.0</td>\n",
       "      <td>230.0</td>\n",
       "      <td>230.0</td>\n",
       "      <td>78.0</td>\n",
       "    </tr>\n",
       "    <tr>\n",
       "      <th>surplus</th>\n",
       "      <td>0.0</td>\n",
       "      <td>0.0</td>\n",
       "      <td>inf</td>\n",
       "      <td>0.0</td>\n",
       "    </tr>\n",
       "    <tr>\n",
       "      <th>traditional</th>\n",
       "      <td>0.0</td>\n",
       "      <td>520.0</td>\n",
       "      <td>750.0</td>\n",
       "      <td>26.0</td>\n",
       "    </tr>\n",
       "  </tbody>\n",
       "</table>\n",
       "</div>"
      ],
      "text/plain": [
       "             LowerBound  Value  UpperBound  ReducedCost\n",
       "Variable                                               \n",
       "roth                0.0  230.0       230.0         78.0\n",
       "surplus             0.0    0.0         inf          0.0\n",
       "traditional         0.0  520.0       750.0         26.0"
      ]
     },
     "execution_count": 14,
     "metadata": {},
     "output_type": "execute_result"
    }
   ],
   "source": [
    "df"
   ]
  },
  {
   "cell_type": "code",
   "execution_count": null,
   "metadata": {},
   "outputs": [],
   "source": []
  }
 ],
 "metadata": {
  "kernelspec": {
   "display_name": "Python 3",
   "language": "python",
   "name": "python3"
  },
  "language_info": {
   "codemirror_mode": {
    "name": "ipython",
    "version": 3
   },
   "file_extension": ".py",
   "mimetype": "text/x-python",
   "name": "python",
   "nbconvert_exporter": "python",
   "pygments_lexer": "ipython3",
   "version": "3.7.5"
  }
 },
 "nbformat": 4,
 "nbformat_minor": 2
}
