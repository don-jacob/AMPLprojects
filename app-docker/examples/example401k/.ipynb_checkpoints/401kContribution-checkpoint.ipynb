{
 "cells": [
  {
   "cell_type": "markdown",
   "metadata": {},
   "source": [
    "# 401k Contribution\n",
    "\n",
    "1. In this example I used Integer Programming, AMPL and Python to optimally allocate contributions to Roth and Traditional.\n",
    "2. Input: \n",
    "    * Roth Annual Max = 5500 (default)\n",
    "    * Total Annual Contribution = Traditional + Roth = 18500 (default)\n",
    "3. Ouput:\n",
    "    * Bi-Weekly dollar amount to contribute to Roth\n",
    "    * Bi-Weekly dollar amount to contribute to Traditional\n",
    "    * Surplus \n",
    "4. Objective Function: Maximize contribution to Roth, remianing contribute to Traditional. Any amount remaining after contributing Roth and Traditional, assign it to Surplus.  \n",
    "5. Surplus amount would be something we need to contribute lumpsum in a single paycheck. Surplus is the amount of dollars we could not allocate to Roth and Traditional in \\\\$1 increments. If we were to split the Surplus equally in each paycheck that would be a fractional dollar (cents). My investment plan does not allow for contributing in cents. The minimum contribution has to be in \\\\$1 increments. "
   ]
  },
  {
   "cell_type": "code",
   "execution_count": 27,
   "metadata": {},
   "outputs": [],
   "source": [
    "NUMBER_OF_MONTHS = 11\n",
    "ROTH_CONTRIBUTION_SO_FAR = 229*2\n",
    "#TRADITIONAL_CONTRIBUTION_SO_FAR = \n",
    "ROTH_MAX = 5500\n",
    "MAX_CONTRIBUTION = 19000 #Max 401k contribution"
   ]
  },
  {
   "cell_type": "code",
   "execution_count": 28,
   "metadata": {},
   "outputs": [],
   "source": [
    "model = \"\"\"\n",
    "#PART 1: DECISION VARIABLES\n",
    "var roth >= 0 integer;\n",
    "var traditional >= 0 integer;\n",
    "var surplus >= 0 integer;\n",
    "\n",
    "#PART 2: OBJECTIVE FUNCTION\n",
    "maximize z: roth*2*{NUMBER_OF_MONTHS}*2 + traditional*2*{NUMBER_OF_MONTHS} + surplus;\n",
    "#The second 2 here is because I value roth twice more than traditional. \n",
    "\n",
    "#PART 3: CONSTRAINTS\n",
    "s.t. M1: roth*2*{NUMBER_OF_MONTHS}  <= {ROTH_MAX};\n",
    "s.t. M2: roth*2*{NUMBER_OF_MONTHS} + traditional*2*{NUMBER_OF_MONTHS} + surplus = {MAX_CONTRIBUTION};\n",
    "\"\"\".format(ROTH_MAX=ROTH_MAX, MAX_CONTRIBUTION=MAX_CONTRIBUTION, NUMBER_OF_MONTHS=NUMBER_OF_MONTHS)"
   ]
  },
  {
   "cell_type": "code",
   "execution_count": 29,
   "metadata": {},
   "outputs": [
    {
     "name": "stdout",
     "output_type": "stream",
     "text": [
      "minos\n",
      "cplex\n",
      "CPLEX 12.8.0.0: optimal integer solution; objective 24500\n",
      "0 MIP simplex iterations\n",
      "0 branch-and-bound nodes\n"
     ]
    }
   ],
   "source": [
    "from amplpy import AMPL, Environment\n",
    "\n",
    "ampl = AMPL(Environment('/opt/ampl.linux64'))\n",
    "print(ampl.getOption('solver'))\n",
    "ampl.setOption('solver','cplex')\n",
    "print(ampl.getOption('solver'))\n",
    "#ampl.read('example.mod') #read the model\n",
    "ampl.eval(model)\n",
    "ampl.eval('objective z; solve;')\n",
    "#ampl.display('z', 'roth', 'traditional', 'surplus')"
   ]
  },
  {
   "cell_type": "code",
   "execution_count": 30,
   "metadata": {},
   "outputs": [],
   "source": [
    "z=ampl.getValue('z')\n",
    "roth=ampl.getValue('roth')\n",
    "traditional=ampl.getValue('traditional')\n",
    "surplus=ampl.getValue('surplus')\n",
    "\n",
    "annual_roth_amt = roth*NUMBER_OF_MONTHS*2\n",
    "annual_traditional_amt = traditional*NUMBER_OF_MONTHS*2"
   ]
  },
  {
   "cell_type": "code",
   "execution_count": 31,
   "metadata": {},
   "outputs": [
    {
     "name": "stdout",
     "output_type": "stream",
     "text": [
      "\n",
      "objective function = 24500.0\n",
      "bi-weekly roth contribution = $250.0\n",
      "bi-weekly traditional contribution = $613.0\n",
      "surplus (amount left after optimal allocation) = $14.0\n",
      "total (without surplus)  = $18986.0\n",
      "total (with surplus)  = $19000.0\n",
      "\n"
     ]
    }
   ],
   "source": [
    "pstring = \"\"\"\n",
    "objective function = {z}\n",
    "bi-weekly roth contribution = ${roth}\n",
    "bi-weekly traditional contribution = ${traditional}\n",
    "surplus (amount left after optimal allocation) = ${surplus}\n",
    "total (without surplus)  = ${total}\n",
    "total (with surplus)  = ${totalS}\n",
    "\"\"\"\n",
    "\n",
    "\n",
    "print(pstring.format(z=z,\n",
    "                     roth=roth,\n",
    "                     traditional=traditional,\n",
    "                     surplus=surplus,\n",
    "                     total=annual_roth_amt+annual_traditional_amt,\n",
    "                     totalS=annual_roth_amt+annual_traditional_amt+surplus))"
   ]
  },
  {
   "cell_type": "code",
   "execution_count": null,
   "metadata": {},
   "outputs": [],
   "source": []
  },
  {
   "cell_type": "code",
   "execution_count": null,
   "metadata": {},
   "outputs": [],
   "source": []
  }
 ],
 "metadata": {
  "kernelspec": {
   "display_name": "Python 3",
   "language": "python",
   "name": "python3"
  },
  "language_info": {
   "codemirror_mode": {
    "name": "ipython",
    "version": 3
   },
   "file_extension": ".py",
   "mimetype": "text/x-python",
   "name": "python",
   "nbconvert_exporter": "python",
   "pygments_lexer": "ipython3",
   "version": "3.7.1"
  }
 },
 "nbformat": 4,
 "nbformat_minor": 2
}
