{
 "cells": [
  {
   "cell_type": "code",
   "execution_count": 1,
   "metadata": {},
   "outputs": [],
   "source": [
    "from amplpy import AMPL, Environment\n",
    "#this is for windows only. after dockerizing not required anymore.\n",
    "#ampl = AMPL(Environment('D:\\\\amplide.mswin64\\\\amplide.mswin64')) \n",
    "ampl = AMPL(Environment('/opt/ampl.linux64')) "
   ]
  },
  {
   "cell_type": "code",
   "execution_count": 2,
   "metadata": {},
   "outputs": [],
   "source": [
    "#ampl.option['solver'] = 'cplexamp'\n",
    "#we can do this to set the solver we want."
   ]
  },
  {
   "cell_type": "code",
   "execution_count": 3,
   "metadata": {},
   "outputs": [],
   "source": [
    "ampl.read('./Model3.mod')"
   ]
  },
  {
   "cell_type": "code",
   "execution_count": 4,
   "metadata": {},
   "outputs": [],
   "source": [
    "ampl.readData('./Model3a.dat')"
   ]
  },
  {
   "cell_type": "code",
   "execution_count": 5,
   "metadata": {},
   "outputs": [
    {
     "name": "stdout",
     "output_type": "stream",
     "text": [
      "maximize Total_Profit:\n",
      "\t25*X['bands'] + 30*X['coils'];\n",
      "subject to Time:\n",
      "\t0.005*X['bands'] + 0.00714286*X['coils'] <= 40;\n"
     ]
    }
   ],
   "source": [
    "print(ampl.getObjective('Total_Profit').get())\n",
    "print(ampl.getConstraint('Time').get())"
   ]
  },
  {
   "cell_type": "code",
   "execution_count": 6,
   "metadata": {},
   "outputs": [
    {
     "name": "stdout",
     "output_type": "stream",
     "text": [
      "maximize Total_Profit:\n",
      "\t25*X['bands'] + 30*X['coils'];\n",
      "\n",
      "subject to Time:\n",
      "\t0.005*X['bands'] + 0.00714286*X['coils'] <= 40;\n",
      "\n"
     ]
    }
   ],
   "source": [
    "ampl.eval('expand Total_Profit;')\n",
    "ampl.eval('expand Time;')"
   ]
  },
  {
   "cell_type": "code",
   "execution_count": 7,
   "metadata": {},
   "outputs": [
    {
     "name": "stdout",
     "output_type": "stream",
     "text": [
      "MINOS 5.51: optimal solution found.\n",
      "2 iterations, objective 192000\n"
     ]
    }
   ],
   "source": [
    "ampl.solve()"
   ]
  },
  {
   "cell_type": "code",
   "execution_count": 8,
   "metadata": {},
   "outputs": [
    {
     "name": "stdout",
     "output_type": "stream",
     "text": [
      "191999.99999999997\n"
     ]
    }
   ],
   "source": [
    "print(ampl.getObjective('Total_Profit').get().value())"
   ]
  },
  {
   "cell_type": "code",
   "execution_count": 9,
   "metadata": {},
   "outputs": [
    {
     "name": "stdout",
     "output_type": "stream",
     "text": [
      "Coefficients of X['bands']:\n",
      "\tTime           0.005\n",
      "\tTotal_Profit  25\n",
      "\n",
      "Coefficients of X['coils']:\n",
      "\tTime           0.00714286\n",
      "\tTotal_Profit  30\n",
      "\n"
     ]
    }
   ],
   "source": [
    "ampl.eval('expand X[\"bands\"];')\n",
    "ampl.eval('expand X[\"coils\"];')"
   ]
  },
  {
   "cell_type": "code",
   "execution_count": 10,
   "metadata": {},
   "outputs": [
    {
     "name": "stdout",
     "output_type": "stream",
     "text": [
      "var X['bands'] >=0, <=6000;\n",
      "6000.0\n",
      "1399.9999999999993\n"
     ]
    }
   ],
   "source": [
    "print(ampl.getVariable('X').get('bands'))\n",
    "print(ampl.getVariable('X').get('bands').value())\n",
    "print(ampl.getVariable('X').get('coils').value())"
   ]
  },
  {
   "cell_type": "code",
   "execution_count": 11,
   "metadata": {},
   "outputs": [
    {
     "name": "stdout",
     "output_type": "stream",
     "text": [
      "   index0    |      X      \n",
      "  'bands'    |     6000    \n",
      "  'coils'    | 1399.9999999999993\n",
      "\n"
     ]
    }
   ],
   "source": [
    "print(ampl.getData('X'))"
   ]
  },
  {
   "cell_type": "code",
   "execution_count": 12,
   "metadata": {},
   "outputs": [
    {
     "name": "stdout",
     "output_type": "stream",
     "text": [
      "   index0    |    X.val    \n",
      "  'bands'    |     6000    \n",
      "  'coils'    | 1399.9999999999993\n",
      "\n"
     ]
    }
   ],
   "source": [
    "values = ampl.getVariable('X').getValues()\n",
    "print(values)"
   ]
  },
  {
   "cell_type": "code",
   "execution_count": 13,
   "metadata": {},
   "outputs": [
    {
     "name": "stdout",
     "output_type": "stream",
     "text": [
      "        X.val\n",
      "bands  6000.0\n",
      "coils  1400.0\n"
     ]
    }
   ],
   "source": [
    "df = values.toPandas()\n",
    "print(df)"
   ]
  },
  {
   "cell_type": "code",
   "execution_count": 14,
   "metadata": {},
   "outputs": [
    {
     "name": "stdout",
     "output_type": "stream",
     "text": [
      "[('bands', 6000.0), ('coils', 1399.9999999999993)]\n"
     ]
    }
   ],
   "source": [
    "l = values.toList()\n",
    "print(l)"
   ]
  },
  {
   "cell_type": "code",
   "execution_count": 15,
   "metadata": {},
   "outputs": [
    {
     "name": "stdout",
     "output_type": "stream",
     "text": [
      "{'bands': 6000.0, 'coils': 1399.9999999999993}\n"
     ]
    }
   ],
   "source": [
    "d = values.toDict()\n",
    "print(d)"
   ]
  }
 ],
 "metadata": {
  "kernelspec": {
   "display_name": "Python 3",
   "language": "python",
   "name": "python3"
  },
  "language_info": {
   "codemirror_mode": {
    "name": "ipython",
    "version": 3
   },
   "file_extension": ".py",
   "mimetype": "text/x-python",
   "name": "python",
   "nbconvert_exporter": "python",
   "pygments_lexer": "ipython3",
   "version": "3.7.1"
  }
 },
 "nbformat": 4,
 "nbformat_minor": 2
}
