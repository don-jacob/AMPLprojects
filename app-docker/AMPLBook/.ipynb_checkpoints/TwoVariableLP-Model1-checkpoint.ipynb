{
 "cells": [
  {
   "cell_type": "markdown",
   "metadata": {},
   "source": [
    "The AMPL linear program that you type into the file parallels the algebraic form in every respect. It specifies the decision variables, defines the objective, and lists the constraints. It differs mainly in being somewhat more formal and regular, to facilitate computer processing. Each variable is named in a var statement, and each constraint by a statement that begins with subject to and a name like Time or B_limit for the constraint. Multiplication requires an explicit * operator, and the ≤ relation is written <=."
   ]
  },
  {
   "cell_type": "code",
   "execution_count": 1,
   "metadata": {},
   "outputs": [],
   "source": [
    "from amplpy import AMPL, Environment"
   ]
  },
  {
   "cell_type": "code",
   "execution_count": 3,
   "metadata": {},
   "outputs": [],
   "source": [
    "#this is for windows only. after dockerizing not required anymore.\n",
    "#ampl = AMPL(Environment('D:\\\\amplide.mswin64\\\\amplide.mswin64')) \n",
    "ampl = AMPL(Environment('/opt/ampl.linux64')) "
   ]
  },
  {
   "cell_type": "code",
   "execution_count": 4,
   "metadata": {},
   "outputs": [],
   "source": [
    "#ampl.option['solver'] = 'cplexamp'\n",
    "#we can do this to set the solver we want."
   ]
  },
  {
   "cell_type": "code",
   "execution_count": 5,
   "metadata": {},
   "outputs": [],
   "source": [
    "ampl.read('./Model1.mod') #read the model\n",
    "#reads the file into AMPL, just as if you had \n",
    "#typed it line-by-line at ampl: prompt in the ampl IDE"
   ]
  },
  {
   "cell_type": "code",
   "execution_count": 6,
   "metadata": {},
   "outputs": [
    {
     "name": "stdout",
     "output_type": "stream",
     "text": [
      "MINOS 5.51: optimal solution found.\n",
      "2 iterations, objective 270000\n",
      "\n",
      "\"option abs_boundtol 9.094947017729282e-13;\"\n",
      "or \"option rel_boundtol 1.5158245029548803e-16;\"\n",
      "will change deduced dual values.\n",
      "\n"
     ]
    }
   ],
   "source": [
    "ampl.solve() \n",
    "#(OR): ampl.eval('objective Profit; solve;')\n",
    "#After we read the model, all we need to do is solve()."
   ]
  },
  {
   "cell_type": "markdown",
   "metadata": {},
   "source": [
    "The message MINOS 5.5 directly following the solve command indicates that AMPL used version 5.5 of a solver called MINOS. We have used MINOS and several other solvers for the examples in this book. You may have a different collection of solvers available on your computer, but any solver should give you the same optimal objective value for a linear program. Often there is more than one solution that achieves the optimal objective, however, in which case different solvers may report different optimal values for the variables. (Commands for choosing and controlling solvers will be explained in Section 11.2.)"
   ]
  }
 ],
 "metadata": {
  "kernelspec": {
   "display_name": "Python 3",
   "language": "python",
   "name": "python3"
  },
  "language_info": {
   "codemirror_mode": {
    "name": "ipython",
    "version": 3
   },
   "file_extension": ".py",
   "mimetype": "text/x-python",
   "name": "python",
   "nbconvert_exporter": "python",
   "pygments_lexer": "ipython3",
   "version": "3.7.1"
  }
 },
 "nbformat": 4,
 "nbformat_minor": 2
}
