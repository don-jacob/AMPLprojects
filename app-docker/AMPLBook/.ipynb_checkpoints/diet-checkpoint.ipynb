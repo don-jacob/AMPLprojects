{
 "cells": [
  {
   "cell_type": "code",
   "execution_count": 47,
   "metadata": {},
   "outputs": [
    {
     "data": {
      "text/plain": [
       "\"\\ndf = pd.DataFrame(\\n    index=[('FOOD', foods)], \\n    columns=[\\n        {'cost' : [3.59, 2.59, 2.29, 2.89, 1.89, 1.99, 1.99, 2.49], \\n         'f_min': [2, 2, 2, 2, 2, 2, 2, 2], \\n         'f_max': [10, 10, 10, 10, 10, 10, 10, 10]}\\n    ]\\n)\\n\""
      ]
     },
     "execution_count": 47,
     "metadata": {},
     "output_type": "execute_result"
    }
   ],
   "source": [
    "import pandas as pd\n",
    "foods = ['BEEF', 'CHK', 'FISH', 'HAM', 'MCH', 'MTL', 'SPG', 'TUR']\n",
    "nutrients = ['A', 'C', 'B1', 'B2', 'NA', 'CAL']\n",
    "data1 = {\n",
    "    'cost' : [3.59, 2.59, 2.29, 2.89, 1.89, 1.99, 1.99, 2.49], \n",
    "    'f_min': [2, 2, 2, 2, 2, 2, 2, 2],\n",
    "    'f_max': [10, 10, 10, 10, 10, 10, 10, 10]\n",
    "}\n",
    "\n",
    "data2 = {\n",
    "    'n_min': [700, 700, 700, 700, 0, 16000], \n",
    "    'n_max': [20000, 20000, 20000, 20000, 50000, 24000]\n",
    "}\n",
    "\n",
    "\"\"\"\n",
    "df = pd.DataFrame(\n",
    "    index=[('FOOD', foods)], \n",
    "    columns=[\n",
    "        {'cost' : [3.59, 2.59, 2.29, 2.89, 1.89, 1.99, 1.99, 2.49], \n",
    "         'f_min': [2, 2, 2, 2, 2, 2, 2, 2], \n",
    "         'f_max': [10, 10, 10, 10, 10, 10, 10, 10]}\n",
    "    ]\n",
    ")\n",
    "\"\"\""
   ]
  },
  {
   "cell_type": "code",
   "execution_count": 48,
   "metadata": {},
   "outputs": [],
   "source": [
    "df1 = pd.DataFrame(data=data1, index=foods)\n",
    "df1.index.name='FOOD'"
   ]
  },
  {
   "cell_type": "code",
   "execution_count": 49,
   "metadata": {},
   "outputs": [],
   "source": [
    "df2 = pd.DataFrame(data=data2, index=nutrients)\n",
    "df2.index.name='nutrients'"
   ]
  },
  {
   "cell_type": "code",
   "execution_count": 46,
   "metadata": {},
   "outputs": [
    {
     "ename": "TypeError",
     "evalue": "An entity called FOOD cannot be found.",
     "output_type": "error",
     "traceback": [
      "\u001b[1;31m---------------------------------------------------------------------------\u001b[0m",
      "\u001b[1;31mTypeError\u001b[0m                                 Traceback (most recent call last)",
      "\u001b[1;32m<ipython-input-46-148d2584db92>\u001b[0m in \u001b[0;36m<module>\u001b[1;34m\u001b[0m\n\u001b[0;32m      1\u001b[0m \u001b[1;32mfrom\u001b[0m \u001b[0mamplpy\u001b[0m \u001b[1;32mimport\u001b[0m \u001b[0mAMPL\u001b[0m\u001b[1;33m,\u001b[0m \u001b[0mEnvironment\u001b[0m\u001b[1;33m\u001b[0m\u001b[1;33m\u001b[0m\u001b[0m\n\u001b[0;32m      2\u001b[0m \u001b[0mampl\u001b[0m \u001b[1;33m=\u001b[0m \u001b[0mAMPL\u001b[0m\u001b[1;33m(\u001b[0m\u001b[0mEnvironment\u001b[0m\u001b[1;33m(\u001b[0m\u001b[1;34m'D:\\\\amplide.mswin64\\\\amplide.mswin64'\u001b[0m\u001b[1;33m)\u001b[0m\u001b[1;33m)\u001b[0m\u001b[1;33m\u001b[0m\u001b[1;33m\u001b[0m\u001b[0m\n\u001b[1;32m----> 3\u001b[1;33m \u001b[0mampl\u001b[0m\u001b[1;33m.\u001b[0m\u001b[0mgetSet\u001b[0m\u001b[1;33m(\u001b[0m\u001b[1;34m'FOOD'\u001b[0m\u001b[1;33m)\u001b[0m\u001b[1;33m.\u001b[0m\u001b[0msetValues\u001b[0m\u001b[1;33m(\u001b[0m\u001b[0mlist\u001b[0m\u001b[1;33m(\u001b[0m\u001b[0mdf1\u001b[0m\u001b[1;33m.\u001b[0m\u001b[0mindex\u001b[0m\u001b[1;33m.\u001b[0m\u001b[0mvalues\u001b[0m\u001b[1;33m)\u001b[0m\u001b[1;33m)\u001b[0m\u001b[1;33m\u001b[0m\u001b[1;33m\u001b[0m\u001b[0m\n\u001b[0m\u001b[0;32m      4\u001b[0m \u001b[0mampl\u001b[0m\u001b[1;33m.\u001b[0m\u001b[0mgetSet\u001b[0m\u001b[1;33m(\u001b[0m\u001b[1;34m'NUTR'\u001b[0m\u001b[1;33m)\u001b[0m\u001b[1;33m.\u001b[0m\u001b[0msetValues\u001b[0m\u001b[1;33m(\u001b[0m\u001b[0mlist\u001b[0m\u001b[1;33m(\u001b[0m\u001b[0mdf2\u001b[0m\u001b[1;33m.\u001b[0m\u001b[0mindex\u001b[0m\u001b[1;33m.\u001b[0m\u001b[0mvalues\u001b[0m\u001b[1;33m)\u001b[0m\u001b[1;33m)\u001b[0m\u001b[1;33m\u001b[0m\u001b[1;33m\u001b[0m\u001b[0m\n",
      "\u001b[1;32m~\\Anaconda3\\envs\\opt\\lib\\site-packages\\amplpy\\ampl.py\u001b[0m in \u001b[0;36mgetSet\u001b[1;34m(self, name)\u001b[0m\n\u001b[0;32m    230\u001b[0m         return lock_and_call(\n\u001b[0;32m    231\u001b[0m             \u001b[1;32mlambda\u001b[0m\u001b[1;33m:\u001b[0m \u001b[0mSet\u001b[0m\u001b[1;33m(\u001b[0m\u001b[0mself\u001b[0m\u001b[1;33m.\u001b[0m\u001b[0m_impl\u001b[0m\u001b[1;33m.\u001b[0m\u001b[0mgetSet\u001b[0m\u001b[1;33m(\u001b[0m\u001b[0mname\u001b[0m\u001b[1;33m)\u001b[0m\u001b[1;33m)\u001b[0m\u001b[1;33m,\u001b[0m\u001b[1;33m\u001b[0m\u001b[1;33m\u001b[0m\u001b[0m\n\u001b[1;32m--> 232\u001b[1;33m             \u001b[0mself\u001b[0m\u001b[1;33m.\u001b[0m\u001b[0m_lock\u001b[0m\u001b[1;33m\u001b[0m\u001b[1;33m\u001b[0m\u001b[0m\n\u001b[0m\u001b[0;32m    233\u001b[0m         )\n\u001b[0;32m    234\u001b[0m \u001b[1;33m\u001b[0m\u001b[0m\n",
      "\u001b[1;32m~\\Anaconda3\\envs\\opt\\lib\\site-packages\\amplpy\\utils.py\u001b[0m in \u001b[0;36mlock_and_call\u001b[1;34m(call, lock)\u001b[0m\n\u001b[0;32m     12\u001b[0m     \u001b[0mlock\u001b[0m\u001b[1;33m.\u001b[0m\u001b[0macquire\u001b[0m\u001b[1;33m(\u001b[0m\u001b[1;33m)\u001b[0m\u001b[1;33m\u001b[0m\u001b[1;33m\u001b[0m\u001b[0m\n\u001b[0;32m     13\u001b[0m     \u001b[1;32mtry\u001b[0m\u001b[1;33m:\u001b[0m\u001b[1;33m\u001b[0m\u001b[1;33m\u001b[0m\u001b[0m\n\u001b[1;32m---> 14\u001b[1;33m         \u001b[0mresult\u001b[0m \u001b[1;33m=\u001b[0m \u001b[0mcall\u001b[0m\u001b[1;33m(\u001b[0m\u001b[1;33m)\u001b[0m\u001b[1;33m\u001b[0m\u001b[1;33m\u001b[0m\u001b[0m\n\u001b[0m\u001b[0;32m     15\u001b[0m     \u001b[1;32mexcept\u001b[0m \u001b[0mException\u001b[0m\u001b[1;33m:\u001b[0m\u001b[1;33m\u001b[0m\u001b[1;33m\u001b[0m\u001b[0m\n\u001b[0;32m     16\u001b[0m         \u001b[0mlock\u001b[0m\u001b[1;33m.\u001b[0m\u001b[0mrelease\u001b[0m\u001b[1;33m(\u001b[0m\u001b[1;33m)\u001b[0m\u001b[1;33m\u001b[0m\u001b[1;33m\u001b[0m\u001b[0m\n",
      "\u001b[1;32m~\\Anaconda3\\envs\\opt\\lib\\site-packages\\amplpy\\ampl.py\u001b[0m in \u001b[0;36m<lambda>\u001b[1;34m()\u001b[0m\n\u001b[0;32m    229\u001b[0m         \"\"\"\n\u001b[0;32m    230\u001b[0m         return lock_and_call(\n\u001b[1;32m--> 231\u001b[1;33m             \u001b[1;32mlambda\u001b[0m\u001b[1;33m:\u001b[0m \u001b[0mSet\u001b[0m\u001b[1;33m(\u001b[0m\u001b[0mself\u001b[0m\u001b[1;33m.\u001b[0m\u001b[0m_impl\u001b[0m\u001b[1;33m.\u001b[0m\u001b[0mgetSet\u001b[0m\u001b[1;33m(\u001b[0m\u001b[0mname\u001b[0m\u001b[1;33m)\u001b[0m\u001b[1;33m)\u001b[0m\u001b[1;33m,\u001b[0m\u001b[1;33m\u001b[0m\u001b[1;33m\u001b[0m\u001b[0m\n\u001b[0m\u001b[0;32m    232\u001b[0m             \u001b[0mself\u001b[0m\u001b[1;33m.\u001b[0m\u001b[0m_lock\u001b[0m\u001b[1;33m\u001b[0m\u001b[1;33m\u001b[0m\u001b[0m\n\u001b[0;32m    233\u001b[0m         )\n",
      "\u001b[1;31mTypeError\u001b[0m: An entity called FOOD cannot be found."
     ]
    }
   ],
   "source": [
    "#from amplpy import AMPL, Environment\n",
    "#ampl = AMPL(Environment('D:\\\\amplide.mswin64\\\\amplide.mswin64'))\n",
    "#ampl.getSet('FOOD').setValues(list(df1.index.values))\n",
    "#ampl.getSet('NUTR').setValues(list(df2.index.values))"
   ]
  }
 ],
 "metadata": {
  "kernelspec": {
   "display_name": "Python 3",
   "language": "python",
   "name": "python3"
  },
  "language_info": {
   "codemirror_mode": {
    "name": "ipython",
    "version": 3
   },
   "file_extension": ".py",
   "mimetype": "text/x-python",
   "name": "python",
   "nbconvert_exporter": "python",
   "pygments_lexer": "ipython3",
   "version": "3.7.1"
  }
 },
 "nbformat": 4,
 "nbformat_minor": 2
}
