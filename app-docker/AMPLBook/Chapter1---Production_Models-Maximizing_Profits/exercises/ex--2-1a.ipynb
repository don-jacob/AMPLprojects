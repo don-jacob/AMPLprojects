{
 "cells": [
  {
   "cell_type": "markdown",
   "metadata": {},
   "source": [
    "### Exercise 1-2. \n",
    "The steel model of this chapter can be further modified to reflect various changes in production requirements. For each part below, explain the modifications to Figures 1-6a and 1-6b that\n",
    "would be required to achieve the desired changes. (Make each change separately, rather than accumulating the changes from one part to the next.)\n",
    "\n",
    "(a) How would you change the constraints so that total hours used by all products must equal the total hours available for each stage? Solve the linear program with this change, and verify that you get the same results. Explain why, in this case, there is no difference in the solution.\n",
    "\n",
    "(b) How would you add to the model to restrict the total weight of all products to be less than a new parameter, max_weight? Solve the linear program for a weight limit of 6500 tons, and explain how this extra restriction changes the results.\n",
    "\n",
    "(c) The incentive system for mill managers may tend to encourage them to produce as many tons as possible. How would you change the objective function to maximize total tons? For the data of our example, does this make a difference to the optimal solution?\n",
    "    \n",
    "(d) Suppose that instead of the lower bounds represented by commit[p] in our model, we want to require that each product represent a certain share of the total tons produced. In the algebraic notation of Figure 1-1, this new constraint might be represented as \n",
    "    \n",
    "\\begin{equation*}\n",
    "X_j >= s_j \\thinspace \\sum_{k \\thinspace \\epsilon \\thinspace P} X_k \\thinspace , for \\thinspace each \\thinspace  j \\thinspace \\epsilon \\thinspace P\n",
    "\\end{equation*}\n",
    "        \n",
    "where sj is the minimum share associated with project j. How would you change the AMPL model to use this constraint in place of the lower bounds commit[p]? If the minimum shares are 0.4 for bands and plate, and 0.1 for coils, what is the solution ? Verify that if you change the minimum shares to 0.5 for bands and plate, and 0.1 for coils, the linear program gives an optimal solution that produces nothing, at zero profit. Explain why this makes sense.\n",
    "      \n",
    "(e) Suppose there is an additional finishing stage for plates only, with a capacity of 20 hours and a rate of 150 tons per hour. Explain how you could modify the data, without changing the model, to incorporate this new stage.\n"
   ]
  },
  {
   "cell_type": "code",
   "execution_count": 92,
   "metadata": {},
   "outputs": [],
   "source": [
    "import pandas as pd\n",
    "from amplpy import AMPL, Environment"
   ]
  },
  {
   "cell_type": "code",
   "execution_count": 93,
   "metadata": {},
   "outputs": [],
   "source": [
    "ampl = AMPL(Environment('/opt/ampl.linux64'))"
   ]
  },
  {
   "cell_type": "code",
   "execution_count": 94,
   "metadata": {},
   "outputs": [],
   "source": [
    "ampl.reset()"
   ]
  },
  {
   "cell_type": "code",
   "execution_count": 95,
   "metadata": {},
   "outputs": [],
   "source": [
    "ampl.read('./ex--1-2a.mod')"
   ]
  },
  {
   "cell_type": "code",
   "execution_count": 96,
   "metadata": {},
   "outputs": [],
   "source": [
    "ampl.readData('./ex--1-2a.dat')"
   ]
  },
  {
   "cell_type": "code",
   "execution_count": 97,
   "metadata": {},
   "outputs": [],
   "source": [
    "variables = ('bands','coils','plate')\n",
    "constraints = ('reheat','roll')"
   ]
  },
  {
   "cell_type": "code",
   "execution_count": 98,
   "metadata": {},
   "outputs": [
    {
     "name": "stdout",
     "output_type": "stream",
     "text": [
      "subject to Time{s in Stage} : sum{p in Products} 1/tonsPerHour[p,s]*X[p]\n",
      "   <= maxHours[s];\n",
      "\n",
      "Variables and their bounds\n",
      "var X['bands'] >=1000, <=6000;\n",
      "var X['coils'] >=0, <=4000;\n",
      "var X['plate'] >=750, <=3500;\n",
      "\n",
      "Constraints and their limits\n",
      "subject to Time['reheat']:\n",
      "\t0.005*X['bands'] + 0.005*X['coils'] + 0.005*X['plate'] <= 35;\n",
      "subject to Time['roll']:\n",
      "\t0.005*X['bands'] + 0.00714286*X['coils'] + 0.00625*X['plate'] <= 40;\n",
      "\n",
      "Objective Function\n",
      "maximize Total_Profit:\n",
      "\t25*X['bands'] + 30*X['coils'] + 29*X['plate'];\n"
     ]
    }
   ],
   "source": [
    "print(ampl.getConstraint('Time'))\n",
    "#print(ampl.getConstraint('Time').get('reheat'))\n",
    "#print(ampl.getConstraint('Time').get('roll'))\n",
    "print()\n",
    "print('Variables and their bounds')\n",
    "for i in ampl.getVariables():\n",
    "    [print(i[1].get(j)) for j in variables]\n",
    "print()\n",
    "print('Constraints and their limits')\n",
    "for i in ampl.getConstraints():\n",
    "    [print(i[1].get(j)) for j in constraints]\n",
    "print()\n",
    "print('Objective Function')\n",
    "print(ampl.getObjective('Total_Profit').get())"
   ]
  },
  {
   "cell_type": "code",
   "execution_count": 99,
   "metadata": {},
   "outputs": [
    {
     "name": "stdout",
     "output_type": "stream",
     "text": [
      "maximize Total_Profit:\n",
      "\t25*X['bands'] + 30*X['coils'] + 29*X['plate'];\n",
      "\n",
      "subject to Time['reheat']:\n",
      "\t0.005*X['bands'] + 0.005*X['coils'] + 0.005*X['plate'] <= 35;\n",
      "\n",
      "subject to Time['roll']:\n",
      "\t0.005*X['bands'] + 0.00714286*X['coils'] + 0.00625*X['plate'] <= 40;\n",
      "\n"
     ]
    }
   ],
   "source": [
    "ampl.eval('expand Total_Profit;')\n",
    "ampl.eval('expand Time;')"
   ]
  },
  {
   "cell_type": "code",
   "execution_count": 100,
   "metadata": {},
   "outputs": [
    {
     "name": "stdout",
     "output_type": "stream",
     "text": [
      "Coefficients of X['bands']:\n",
      "\tTime['reheat']   0.005\n",
      "\tTime['roll']     0.005\n",
      "\tTotal_Profit    25\n",
      "\n",
      "Coefficients of X['coils']:\n",
      "\tTime['reheat']   0.005\n",
      "\tTime['roll']     0.00714286\n",
      "\tTotal_Profit    30\n",
      "\n",
      "Coefficients of X['plate']:\n",
      "\tTime['reheat']   0.005\n",
      "\tTime['roll']     0.00625\n",
      "\tTotal_Profit    29\n",
      "\n"
     ]
    }
   ],
   "source": [
    "for variable in variables:\n",
    "    ampl.eval('expand X[\"{}\"];'.format(variable))"
   ]
  },
  {
   "cell_type": "code",
   "execution_count": 101,
   "metadata": {},
   "outputs": [
    {
     "name": "stdout",
     "output_type": "stream",
     "text": [
      "_nvars = 3\n",
      "_ncons = 2\n",
      "\n"
     ]
    }
   ],
   "source": [
    "ampl.eval('display _nvars, _ncons;')"
   ]
  },
  {
   "cell_type": "code",
   "execution_count": 102,
   "metadata": {},
   "outputs": [
    {
     "name": "stdout",
     "output_type": "stream",
     "text": [
      "minos\n",
      "cplex\n"
     ]
    }
   ],
   "source": [
    "print(ampl.getOption('solver'))\n",
    "ampl.setOption('solver','cplex')\n",
    "print(ampl.getOption('solver'))"
   ]
  },
  {
   "cell_type": "code",
   "execution_count": 103,
   "metadata": {},
   "outputs": [
    {
     "name": "stdout",
     "output_type": "stream",
     "text": [
      "CPLEX 12.8.0.0: optimal solution; objective 190458.3333\n",
      "3 dual simplex iterations (0 in phase I)\n"
     ]
    }
   ],
   "source": [
    "ampl.solve()"
   ]
  },
  {
   "cell_type": "code",
   "execution_count": 104,
   "metadata": {},
   "outputs": [
    {
     "name": "stdout",
     "output_type": "stream",
     "text": [
      "190458.3333333333\n"
     ]
    }
   ],
   "source": [
    "print(ampl.getObjective('Total_Profit').get().value())"
   ]
  },
  {
   "cell_type": "markdown",
   "metadata": {},
   "source": [
    "#### Shadow Price or Dual Price or Marginal Price"
   ]
  },
  {
   "cell_type": "code",
   "execution_count": 105,
   "metadata": {},
   "outputs": [
    {
     "name": "stdout",
     "output_type": "stream",
     "text": [
      "Total_Profit = 190458\n",
      "\n",
      "   index0    |  Time.dual  \n",
      "  'reheat'   | 2666.6666666666652\n",
      "   'roll'    | 2333.3333333333339\n",
      "\n"
     ]
    }
   ],
   "source": [
    "ampl.eval('display Total_Profit;')\n",
    "print(ampl.getConstraint('Time').getValues())"
   ]
  },
  {
   "cell_type": "markdown",
   "metadata": {},
   "source": [
    "### Decision Variable Solution and Reduced Cost"
   ]
  },
  {
   "cell_type": "code",
   "execution_count": 106,
   "metadata": {},
   "outputs": [
    {
     "data": {
      "text/html": [
       "<div>\n",
       "<style scoped>\n",
       "    .dataframe tbody tr th:only-of-type {\n",
       "        vertical-align: middle;\n",
       "    }\n",
       "\n",
       "    .dataframe tbody tr th {\n",
       "        vertical-align: top;\n",
       "    }\n",
       "\n",
       "    .dataframe thead th {\n",
       "        text-align: right;\n",
       "    }\n",
       "</style>\n",
       "<table border=\"1\" class=\"dataframe\">\n",
       "  <thead>\n",
       "    <tr style=\"text-align: right;\">\n",
       "      <th></th>\n",
       "      <th>X_LowerBound</th>\n",
       "      <th>X_Solution</th>\n",
       "      <th>X_UpperBound</th>\n",
       "      <th>X_ReducedCosts</th>\n",
       "    </tr>\n",
       "    <tr>\n",
       "      <th>DecisionVariable_X</th>\n",
       "      <th></th>\n",
       "      <th></th>\n",
       "      <th></th>\n",
       "      <th></th>\n",
       "    </tr>\n",
       "  </thead>\n",
       "  <tbody>\n",
       "    <tr>\n",
       "      <th>bands</th>\n",
       "      <td>1000.0</td>\n",
       "      <td>3208.333333</td>\n",
       "      <td>6000.0</td>\n",
       "      <td>3.552714e-15</td>\n",
       "    </tr>\n",
       "    <tr>\n",
       "      <th>coils</th>\n",
       "      <td>0.0</td>\n",
       "      <td>291.666667</td>\n",
       "      <td>4000.0</td>\n",
       "      <td>0.000000e+00</td>\n",
       "    </tr>\n",
       "    <tr>\n",
       "      <th>plate</th>\n",
       "      <td>750.0</td>\n",
       "      <td>3500.000000</td>\n",
       "      <td>3500.0</td>\n",
       "      <td>1.083333e+00</td>\n",
       "    </tr>\n",
       "  </tbody>\n",
       "</table>\n",
       "</div>"
      ],
      "text/plain": [
       "                    X_LowerBound   X_Solution  X_UpperBound  X_ReducedCosts\n",
       "DecisionVariable_X                                                         \n",
       "bands                     1000.0  3208.333333        6000.0    3.552714e-15\n",
       "coils                        0.0   291.666667        4000.0    0.000000e+00\n",
       "plate                      750.0  3500.000000        3500.0    1.083333e+00"
      ]
     },
     "execution_count": 106,
     "metadata": {},
     "output_type": "execute_result"
    }
   ],
   "source": [
    "X_result = list()\n",
    "for p in variables:\n",
    "    X_result.append([\n",
    "        p,\n",
    "        ampl.getVariable('X').get(p).lb(), \n",
    "        ampl.getVariable('X').get(p).value(),\n",
    "        ampl.getVariable('X').get(p).ub(),\n",
    "        ampl.getVariable('X').get(p).rc()\n",
    "    ])\n",
    "df_X_result = pd.DataFrame(X_result)\n",
    "df_X_result.rename(columns={0:'DecisionVariable_X',\n",
    "                            1:'X_LowerBound',\n",
    "                            2:'X_Solution',\n",
    "                            3:'X_UpperBound',\n",
    "                            4:'X_ReducedCosts'},\n",
    "                   inplace=True)\n",
    "df_X_result.set_index('DecisionVariable_X',inplace=True)\n",
    "df_X_result"
   ]
  },
  {
   "cell_type": "code",
   "execution_count": 118,
   "metadata": {},
   "outputs": [
    {
     "name": "stdout",
     "output_type": "stream",
     "text": [
      "   index0    |      X      \n",
      "  'bands'    | 3208.333333333333\n",
      "  'coils'    | 291.66666666666652\n",
      "  'plate'    |     3500    \n",
      "\n",
      "   index0    |    X.val    \n",
      "  'bands'    | 3208.333333333333\n",
      "  'coils'    | 291.66666666666652\n",
      "  'plate'    |     3500    \n",
      "\n",
      "[('bands', 3208.333333333333), ('coils', 291.6666666666665), ('plate', 3500.0)]\n",
      "{'bands': 3208.333333333333, 'coils': 291.6666666666665, 'plate': 3500.0}\n"
     ]
    }
   ],
   "source": [
    "print(ampl.getData('X'))\n",
    "values = ampl.getVariable('X').getValues()\n",
    "print(values)\n",
    "df = values.toPandas()\n",
    "print(values.toList())\n",
    "print(values.toDict())"
   ]
  },
  {
   "cell_type": "code",
   "execution_count": 119,
   "metadata": {},
   "outputs": [
    {
     "data": {
      "text/html": [
       "<div>\n",
       "<style scoped>\n",
       "    .dataframe tbody tr th:only-of-type {\n",
       "        vertical-align: middle;\n",
       "    }\n",
       "\n",
       "    .dataframe tbody tr th {\n",
       "        vertical-align: top;\n",
       "    }\n",
       "\n",
       "    .dataframe thead th {\n",
       "        text-align: right;\n",
       "    }\n",
       "</style>\n",
       "<table border=\"1\" class=\"dataframe\">\n",
       "  <thead>\n",
       "    <tr style=\"text-align: right;\">\n",
       "      <th></th>\n",
       "      <th>X.val</th>\n",
       "      <th>X.reheatRate</th>\n",
       "      <th>X.rollRate</th>\n",
       "      <th>X.reheat</th>\n",
       "      <th>X.roll</th>\n",
       "    </tr>\n",
       "  </thead>\n",
       "  <tbody>\n",
       "    <tr>\n",
       "      <th>bands</th>\n",
       "      <td>3208.333333</td>\n",
       "      <td>0.005</td>\n",
       "      <td>0.005000</td>\n",
       "      <td>16.041667</td>\n",
       "      <td>16.041667</td>\n",
       "    </tr>\n",
       "    <tr>\n",
       "      <th>coils</th>\n",
       "      <td>291.666667</td>\n",
       "      <td>0.005</td>\n",
       "      <td>0.007143</td>\n",
       "      <td>1.458333</td>\n",
       "      <td>2.083333</td>\n",
       "    </tr>\n",
       "    <tr>\n",
       "      <th>plate</th>\n",
       "      <td>3500.000000</td>\n",
       "      <td>0.005</td>\n",
       "      <td>0.006250</td>\n",
       "      <td>17.500000</td>\n",
       "      <td>21.875000</td>\n",
       "    </tr>\n",
       "  </tbody>\n",
       "</table>\n",
       "</div>"
      ],
      "text/plain": [
       "             X.val  X.reheatRate  X.rollRate   X.reheat     X.roll\n",
       "bands  3208.333333         0.005    0.005000  16.041667  16.041667\n",
       "coils   291.666667         0.005    0.007143   1.458333   2.083333\n",
       "plate  3500.000000         0.005    0.006250  17.500000  21.875000"
      ]
     },
     "execution_count": 119,
     "metadata": {},
     "output_type": "execute_result"
    }
   ],
   "source": [
    "df['X.reheatRate'] = 1/200\n",
    "df['X.rollRate'] = [1/i for i in (200,140,160)]\n",
    "df['X.reheat']=df['X.val']*df['X.reheatRate']\n",
    "df['X.roll']=df['X.val']*df['X.rollRate']\n",
    "df"
   ]
  },
  {
   "cell_type": "code",
   "execution_count": 122,
   "metadata": {},
   "outputs": [
    {
     "name": "stdout",
     "output_type": "stream",
     "text": [
      "Reheat:35.0 Roll:40.0\n"
     ]
    }
   ],
   "source": [
    "print('Reheat:{} Roll:{}'.format(df['X.reheat'].sum(),df['X.roll'].sum()))"
   ]
  },
  {
   "cell_type": "markdown",
   "metadata": {},
   "source": [
    "## Summary\n",
    "\n",
    "(a) Both constraints were binding in the original case where they were inequality (less than or equal to) constraints. We can see the constraints are already at their limit. Now making these constraints an equality constraint has no change to the solution because, we just forced the constraints to be at their limit always."
   ]
  }
 ],
 "metadata": {
  "kernelspec": {
   "display_name": "Python 3",
   "language": "python",
   "name": "python3"
  },
  "language_info": {
   "codemirror_mode": {
    "name": "ipython",
    "version": 3
   },
   "file_extension": ".py",
   "mimetype": "text/x-python",
   "name": "python",
   "nbconvert_exporter": "python",
   "pygments_lexer": "ipython3",
   "version": "3.7.1"
  }
 },
 "nbformat": 4,
 "nbformat_minor": 2
}
