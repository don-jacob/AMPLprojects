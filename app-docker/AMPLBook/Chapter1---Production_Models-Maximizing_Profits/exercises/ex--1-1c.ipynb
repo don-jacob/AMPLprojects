{
 "cells": [
  {
   "cell_type": "code",
   "execution_count": 46,
   "metadata": {},
   "outputs": [],
   "source": [
    "import pandas as pd\n",
    "from amplpy import AMPL, Environment"
   ]
  },
  {
   "cell_type": "code",
   "execution_count": 47,
   "metadata": {},
   "outputs": [],
   "source": [
    "ampl = AMPL(Environment('/opt/ampl.linux64'))"
   ]
  },
  {
   "cell_type": "code",
   "execution_count": 48,
   "metadata": {},
   "outputs": [],
   "source": [
    "ampl.reset()"
   ]
  },
  {
   "cell_type": "code",
   "execution_count": 49,
   "metadata": {},
   "outputs": [],
   "source": [
    "ampl.read('./ex--1-1c.mod')"
   ]
  },
  {
   "cell_type": "code",
   "execution_count": 50,
   "metadata": {},
   "outputs": [],
   "source": [
    "ampl.readData('./ex--1-1c.dat')"
   ]
  },
  {
   "cell_type": "code",
   "execution_count": 51,
   "metadata": {},
   "outputs": [
    {
     "name": "stdout",
     "output_type": "stream",
     "text": [
      "maximize audience_coverage:\n",
      "\t1800000*X['number_of_minutes_in_TV'] + \n",
      "\t1e+06*X['number_of_pages_in_magazine'] + \n",
      "\t250000*X['number_of_minutes_in_radio'];\n"
     ]
    }
   ],
   "source": [
    "print(ampl.getObjective('audience_coverage').get())"
   ]
  },
  {
   "cell_type": "code",
   "execution_count": 52,
   "metadata": {},
   "outputs": [
    {
     "name": "stdout",
     "output_type": "stream",
     "text": [
      "subject to constraints{c in constraint_names} : sum{p in\n",
      "  advertising_platform} constraint_list[p,c]*X[p] <= constraint_limits[c];\n",
      "subject to constraints['budget']:\n",
      "\t20000*X['number_of_minutes_in_TV'] + \n",
      "\t10000*X['number_of_pages_in_magazine'] + \n",
      "\t2000*X['number_of_minutes_in_radio'] <= 1e+06;\n",
      "subject to constraints['person-week']:\n",
      "\tX['number_of_minutes_in_TV'] + 3*X['number_of_pages_in_magazine'] + \n",
      "\tX['number_of_minutes_in_radio'] <= 100;\n"
     ]
    }
   ],
   "source": [
    "print(ampl.getConstraint('constraints'))\n",
    "print(ampl.getConstraint('constraints').get('budget'))\n",
    "print(ampl.getConstraint('constraints').get('person-week'))"
   ]
  },
  {
   "cell_type": "code",
   "execution_count": 53,
   "metadata": {},
   "outputs": [
    {
     "name": "stdout",
     "output_type": "stream",
     "text": [
      "maximize audience_coverage:\n",
      "\t1800000*X['number_of_minutes_in_TV'] + \n",
      "\t1e+06*X['number_of_pages_in_magazine'] + \n",
      "\t250000*X['number_of_minutes_in_radio'];\n",
      "\n",
      "subject to constraints['budget']:\n",
      "\t20000*X['number_of_minutes_in_TV'] + \n",
      "\t10000*X['number_of_pages_in_magazine'] + \n",
      "\t2000*X['number_of_minutes_in_radio'] <= 1e+06;\n",
      "\n",
      "subject to constraints['person-week']:\n",
      "\tX['number_of_minutes_in_TV'] + 3*X['number_of_pages_in_magazine'] + \n",
      "\tX['number_of_minutes_in_radio'] <= 100;\n",
      "\n"
     ]
    }
   ],
   "source": [
    "ampl.eval('expand audience_coverage;')\n",
    "ampl.eval('expand constraints;')"
   ]
  },
  {
   "cell_type": "code",
   "execution_count": 54,
   "metadata": {},
   "outputs": [
    {
     "name": "stdout",
     "output_type": "stream",
     "text": [
      "Coefficients of X['number_of_minutes_in_TV']:\n",
      "\tconstraints['budget']         20000\n",
      "\tconstraints['person-week']        1\n",
      "\taudience_coverage           1800000\n",
      "\n",
      "Coefficients of X['number_of_pages_in_magazine']:\n",
      "\tconstraints['budget']       10000\n",
      "\tconstraints['person-week']      3\n",
      "\taudience_coverage           1e+06\n",
      "\n",
      "Coefficients of X['number_of_minutes_in_radio']:\n",
      "\tconstraints['budget']         2000\n",
      "\tconstraints['person-week']       1\n",
      "\taudience_coverage           250000\n",
      "\n"
     ]
    }
   ],
   "source": [
    "ampl.eval('expand X[\"number_of_minutes_in_TV\"];')\n",
    "ampl.eval('expand X[\"number_of_pages_in_magazine\"];')\n",
    "ampl.eval('expand X[\"number_of_minutes_in_radio\"];')"
   ]
  },
  {
   "cell_type": "code",
   "execution_count": 55,
   "metadata": {},
   "outputs": [
    {
     "name": "stdout",
     "output_type": "stream",
     "text": [
      "_nvars = 3\n",
      "_ncons = 2\n",
      "\n"
     ]
    }
   ],
   "source": [
    "ampl.eval('display _nvars, _ncons;')"
   ]
  },
  {
   "cell_type": "code",
   "execution_count": 56,
   "metadata": {},
   "outputs": [
    {
     "name": "stdout",
     "output_type": "stream",
     "text": [
      "MINOS 5.51: optimal solution found.\n",
      "2 iterations, objective 93888888.89\n"
     ]
    }
   ],
   "source": [
    "ampl.solve()"
   ]
  },
  {
   "cell_type": "code",
   "execution_count": 57,
   "metadata": {},
   "outputs": [
    {
     "name": "stdout",
     "output_type": "stream",
     "text": [
      "93888888.88888887\n"
     ]
    }
   ],
   "source": [
    "print(ampl.getObjective('audience_coverage').get().value())"
   ]
  },
  {
   "cell_type": "markdown",
   "metadata": {},
   "source": [
    "#### Shadow Price or Dual Price or Marginal Price"
   ]
  },
  {
   "cell_type": "code",
   "execution_count": 58,
   "metadata": {},
   "outputs": [
    {
     "name": "stdout",
     "output_type": "stream",
     "text": [
      "constraints [*] :=\n",
      "     budget     86.1111\n",
      "person-week  77777.8\n",
      ";\n",
      "\n",
      "   index0    | constraints.dual\n",
      "  'budget'   | 86.1111111111111\n",
      "'person-week' | 77777.777777777825\n",
      "\n"
     ]
    }
   ],
   "source": [
    "ampl.eval('display constraints;')\n",
    "print(ampl.getConstraint('constraints').getValues())"
   ]
  },
  {
   "cell_type": "markdown",
   "metadata": {},
   "source": [
    "### Decision Variable Solution and Reduced Cost"
   ]
  },
  {
   "cell_type": "code",
   "execution_count": 61,
   "metadata": {},
   "outputs": [
    {
     "data": {
      "text/html": [
       "<div>\n",
       "<style scoped>\n",
       "    .dataframe tbody tr th:only-of-type {\n",
       "        vertical-align: middle;\n",
       "    }\n",
       "\n",
       "    .dataframe tbody tr th {\n",
       "        vertical-align: top;\n",
       "    }\n",
       "\n",
       "    .dataframe thead th {\n",
       "        text-align: right;\n",
       "    }\n",
       "</style>\n",
       "<table border=\"1\" class=\"dataframe\">\n",
       "  <thead>\n",
       "    <tr style=\"text-align: right;\">\n",
       "      <th></th>\n",
       "      <th>X_LowerBound</th>\n",
       "      <th>X_Solution</th>\n",
       "      <th>X_UpperBound</th>\n",
       "      <th>X_ReducedCosts</th>\n",
       "    </tr>\n",
       "    <tr>\n",
       "      <th>DecisionVariable_X</th>\n",
       "      <th></th>\n",
       "      <th></th>\n",
       "      <th></th>\n",
       "      <th></th>\n",
       "    </tr>\n",
       "  </thead>\n",
       "  <tbody>\n",
       "    <tr>\n",
       "      <th>number_of_minutes_in_TV</th>\n",
       "      <td>10.0</td>\n",
       "      <td>44.444444</td>\n",
       "      <td>inf</td>\n",
       "      <td>1.600711e-10</td>\n",
       "    </tr>\n",
       "    <tr>\n",
       "      <th>number_of_pages_in_magazine</th>\n",
       "      <td>0.0</td>\n",
       "      <td>0.000000</td>\n",
       "      <td>inf</td>\n",
       "      <td>-9.444444e+04</td>\n",
       "    </tr>\n",
       "    <tr>\n",
       "      <th>number_of_minutes_in_radio</th>\n",
       "      <td>0.0</td>\n",
       "      <td>55.555556</td>\n",
       "      <td>inf</td>\n",
       "      <td>-1.455192e-11</td>\n",
       "    </tr>\n",
       "  </tbody>\n",
       "</table>\n",
       "</div>"
      ],
      "text/plain": [
       "                             X_LowerBound  X_Solution  X_UpperBound  \\\n",
       "DecisionVariable_X                                                    \n",
       "number_of_minutes_in_TV              10.0   44.444444           inf   \n",
       "number_of_pages_in_magazine           0.0    0.000000           inf   \n",
       "number_of_minutes_in_radio            0.0   55.555556           inf   \n",
       "\n",
       "                             X_ReducedCosts  \n",
       "DecisionVariable_X                           \n",
       "number_of_minutes_in_TV        1.600711e-10  \n",
       "number_of_pages_in_magazine   -9.444444e+04  \n",
       "number_of_minutes_in_radio    -1.455192e-11  "
      ]
     },
     "execution_count": 61,
     "metadata": {},
     "output_type": "execute_result"
    }
   ],
   "source": [
    "X_result = list()\n",
    "items = ('number_of_minutes_in_TV',\n",
    "        'number_of_pages_in_magazine',\n",
    "        'number_of_minutes_in_radio')\n",
    "for p in items:\n",
    "    X_result.append([\n",
    "        p,\n",
    "        ampl.getVariable('X').get(p).lb(), \n",
    "        ampl.getVariable('X').get(p).value(),\n",
    "        ampl.getVariable('X').get(p).ub(),\n",
    "        ampl.getVariable('X').get(p).rc()\n",
    "    ])\n",
    "df_X_result = pd.DataFrame(X_result)\n",
    "df_X_result.rename(columns={0:'DecisionVariable_X',\n",
    "                            1:'X_LowerBound',\n",
    "                            2:'X_Solution',\n",
    "                            3:'X_UpperBound',\n",
    "                            4:'X_ReducedCosts'},\n",
    "                   inplace=True)\n",
    "df_X_result.set_index('DecisionVariable_X',inplace=True)\n",
    "df_X_result"
   ]
  },
  {
   "cell_type": "code",
   "execution_count": 63,
   "metadata": {},
   "outputs": [
    {
     "name": "stdout",
     "output_type": "stream",
     "text": [
      "   index0    |      X      \n",
      "'number_of_minutes_in_TV' | 44.444444444444429\n",
      "'number_of_minutes_in_radio' | 55.55555555555555\n",
      "'number_of_pages_in_magazine' |      0      \n",
      "\n",
      "   index0    |    X.val    \n",
      "'number_of_minutes_in_TV' | 44.444444444444429\n",
      "'number_of_minutes_in_radio' | 55.55555555555555\n",
      "'number_of_pages_in_magazine' |      0      \n",
      "\n",
      "                                 X.val\n",
      "number_of_minutes_in_TV      44.444444\n",
      "number_of_minutes_in_radio   55.555556\n",
      "number_of_pages_in_magazine   0.000000\n",
      "[('number_of_minutes_in_TV', 44.44444444444443), ('number_of_minutes_in_radio', 55.55555555555555), ('number_of_pages_in_magazine', 0.0)]\n",
      "{'number_of_minutes_in_TV': 44.44444444444443, 'number_of_minutes_in_radio': 55.55555555555555, 'number_of_pages_in_magazine': 0.0}\n"
     ]
    }
   ],
   "source": [
    "print(ampl.getData('X'))\n",
    "values = ampl.getVariable('X').getValues()\n",
    "print(values)\n",
    "print(values.toPandas())\n",
    "print(values.toList())\n",
    "print(values.toDict())"
   ]
  },
  {
   "cell_type": "markdown",
   "metadata": {},
   "source": [
    "## Summary\n",
    "\n",
    "1. Adding radio as a medium for advertisement, improved objective cost function. \n",
    "2. Shadow price for budget constraint reduced from ~$\\$$88 to ~$\\$$86. Almost no impact to this constraint.  \n",
    "3. Shadow price for person-week constraint increased significantly ~$\\$$40,000 to ~$\\$$77,777. Adding radio as a medium has now increased shadow price of person-week. Adding radio as a medium has increased the importance of person-week constraint.\n",
    "4. Finally:\n",
    " * Once again, TV medium is no more at the minimum minutes once the person-week constraint was added. \n",
    " * Magazine as a medium is not preferred anymore. Only radio and TV enters the solution, magazine is no more a pereferred medium. \n",
    " * The person-week required for TV and radio is very less while for magazine is higher. Making it attractive to allocate all the budget between TV and radio only. This is also indicative of person-week constraint causing the magazine variable to leave the solution. "
   ]
  },
  {
   "cell_type": "code",
   "execution_count": null,
   "metadata": {},
   "outputs": [],
   "source": []
  }
 ],
 "metadata": {
  "kernelspec": {
   "display_name": "Python 3",
   "language": "python",
   "name": "python3"
  },
  "language_info": {
   "codemirror_mode": {
    "name": "ipython",
    "version": 3
   },
   "file_extension": ".py",
   "mimetype": "text/x-python",
   "name": "python",
   "nbconvert_exporter": "python",
   "pygments_lexer": "ipython3",
   "version": "3.7.1"
  }
 },
 "nbformat": 4,
 "nbformat_minor": 2
}
