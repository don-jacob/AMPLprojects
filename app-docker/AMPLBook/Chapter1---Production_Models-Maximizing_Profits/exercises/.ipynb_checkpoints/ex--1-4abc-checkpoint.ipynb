{
 "cells": [
  {
   "cell_type": "markdown",
   "metadata": {},
   "source": [
    "### Exercise 1-4.\n",
    "\n",
    " \n",
    "Here is a similar profit-maximizing model, but in a different context. An automobile manufacturer produces several kinds of cars. Each kind requires a certain amount of factory time per car to produce, and yields a certain profit per car. A certain amount of factory time has been scheduled for the next week, and it is desired to use all this time; but at least a certain number of each kind of car must be manufactured to meet dealer requirements.\n",
    "\n",
    "(a) What are the data values that define this problem? How would you declare the sets and parameter values for this problem in AMPL? What are the decision variables, and how would you declare them in AMPL?\n",
    "\n",
    "(b) Assuming that the objective is to maximize total profit, how would you declare an objective in AMPL for this problem? How would you declare the constraints?\n",
    "\n",
    "(c) For purposes of experiment, suppose that there are three kinds of cars, known at the factory as T, C and L, that 120 hours are available, and that the time per car, profit per car and dealer orders for each kind of car are as follows:\n",
    "Car time profit orders\n",
    "\n",
    "|Car |time_per_hour|profit_per_car|min_order_per_car|\n",
    "|:---|             |              |             ---:|\n",
    "|T   |            1|           200|             10  |\n",
    "|C   |            2|           500|             20  |\n",
    "|L   |            3|           700|             15  |\n",
    "\n",
    "How much of each car should be produced, and what is the maximum profit? You should find that your solution specifies a fractional amount of one of the cars. As a practical matter, how could you make use of this solution?\n",
    "\n",
    "(d) If you maximize the total number of cars produced instead of the total profit, how many more cars do you make? How much less profit?\n",
    "\n",
    "(e) Each kind of car achieves a certain fuel efficiency, and the manufacturer is required by law to maintain a certain ‘‘fleet average’’ efficiency. The fleet average is computed by multiplying the efficiency of each kind of car times the number of that kind produced, summing all of the resulting products, and dividing by the total of all cars produced. Extend your AMPL model to contain a minimum fleet average efficiency constraint. Rearrange the constraint as necessary to make it linear — no variables divided into other variables.\n",
    "\n",
    "(f) Find the optimal solution for the case where cars T, C and L achieve fuel efficiencies of 50, 30 and 20 miles/gallon, and the fleet average efficiency must be at least 35 miles/gallon. Explain how this changes the production amounts and the total profit. Dealing with the fractional amounts in the solution is not so easy in this case. What might you do? If you had 10 more hours of production time, you could make more profit. Does the addition of the fleet average efficiency constraint make the extra 10 hours more or less valuable?\n",
    "\n",
    "(g) Explain how you could further refine this model to account for different production stages that have different numbers of hours available per stage, much as in the steel model of Section 1.6."
   ]
  },
  {
   "cell_type": "code",
   "execution_count": 4,
   "metadata": {},
   "outputs": [],
   "source": [
    "import pandas as pd\n",
    "from amplpy import AMPL, Environment"
   ]
  },
  {
   "cell_type": "code",
   "execution_count": 5,
   "metadata": {},
   "outputs": [],
   "source": [
    "ampl = AMPL(Environment('/opt/ampl.linux64'))\n",
    "ampl.reset()"
   ]
  },
  {
   "cell_type": "code",
   "execution_count": 6,
   "metadata": {},
   "outputs": [],
   "source": [
    "ampl.read('./ex--1-4abc.mod')"
   ]
  },
  {
   "cell_type": "code",
   "execution_count": 7,
   "metadata": {},
   "outputs": [],
   "source": [
    "ampl.readData('./ex--1-4abc.dat')"
   ]
  },
  {
   "cell_type": "code",
   "execution_count": 8,
   "metadata": {},
   "outputs": [],
   "source": [
    "variables = ('T','C','L')\n",
    "constraint_names = ('time_per_car')"
   ]
  },
  {
   "cell_type": "code",
   "execution_count": 10,
   "metadata": {},
   "outputs": [],
   "source": [
    "def model_overview(ampl=None):\n",
    "    print('Variables and their bounds')\n",
    "    for i in ampl.getVariables():\n",
    "        [print(i[1].get(j)) for j in variables]\n",
    "    print()\n",
    "    print('Constraints and their limits')\n",
    "    print(ampl.getConstraint('constraints'))\n",
    "    print()\n",
    "    print('Constraints and their limits. Alternate way to print.')\n",
    "    print(ampl.getConstraint('constraints').get('time_per_car'))\n",
    "    print()\n",
    "    for i in ampl.getConstraints():\n",
    "        print(i[1].get('time_per_car'))\n",
    "    print()\n",
    "    print('Objective Function')\n",
    "    print(ampl.getObjective('total_profit').get())"
   ]
  },
  {
   "cell_type": "code",
   "execution_count": 11,
   "metadata": {},
   "outputs": [
    {
     "name": "stdout",
     "output_type": "stream",
     "text": [
      "Variables and their bounds\n",
      "var X['T'] >=10;\n",
      "var X['C'] >=20;\n",
      "var X['L'] >=15;\n",
      "\n",
      "Constraints and their limits\n",
      "subject to constraints{c in constraint_names} : sum{i in cars}\n",
      "  constraint_list[i,c]*X[i] <= constraint_limits[c];\n",
      "\n",
      "Constraints and their limits. Alternate way to print.\n",
      "subject to constraints['time_per_car']:\n",
      "\tX['T'] + 2*X['C'] + 3*X['L'] <= 120;\n",
      "\n",
      "subject to constraints['time_per_car']:\n",
      "\tX['T'] + 2*X['C'] + 3*X['L'] <= 120;\n",
      "\n",
      "Objective Function\n",
      "maximize total_profit:\n",
      "\t200*X['T'] + 500*X['C'] + 700*X['L'];\n"
     ]
    }
   ],
   "source": [
    "model_overview(ampl=ampl)"
   ]
  },
  {
   "cell_type": "code",
   "execution_count": 12,
   "metadata": {},
   "outputs": [
    {
     "name": "stdout",
     "output_type": "stream",
     "text": [
      "maximize total_profit:\n",
      "\t200*X['T'] + 500*X['C'] + 700*X['L'];\n",
      "\n"
     ]
    }
   ],
   "source": [
    "ampl.eval('expand total_profit;')"
   ]
  },
  {
   "cell_type": "code",
   "execution_count": 13,
   "metadata": {},
   "outputs": [
    {
     "name": "stdout",
     "output_type": "stream",
     "text": [
      "subject to constraints['time_per_car']:\n",
      "\tX['T'] + 2*X['C'] + 3*X['L'] <= 120;\n",
      "\n"
     ]
    }
   ],
   "source": [
    "ampl.eval('expand constraints;')"
   ]
  },
  {
   "cell_type": "code",
   "execution_count": 14,
   "metadata": {},
   "outputs": [
    {
     "name": "stdout",
     "output_type": "stream",
     "text": [
      "Coefficients of X['T']:\n",
      "\tconstraints['time_per_car']    1\n",
      "\ttotal_profit                 200\n",
      "\n",
      "Coefficients of X['C']:\n",
      "\tconstraints['time_per_car']    2\n",
      "\ttotal_profit                 500\n",
      "\n",
      "Coefficients of X['L']:\n",
      "\tconstraints['time_per_car']    3\n",
      "\ttotal_profit                 700\n",
      "\n"
     ]
    }
   ],
   "source": [
    "for variable in variables:\n",
    "    ampl.eval('expand X[\"{}\"];'.format(variable))"
   ]
  },
  {
   "cell_type": "code",
   "execution_count": 15,
   "metadata": {},
   "outputs": [
    {
     "name": "stdout",
     "output_type": "stream",
     "text": [
      "_nvars = 3\n",
      "_ncons = 1\n",
      "\n"
     ]
    }
   ],
   "source": [
    "ampl.eval('display _nvars, _ncons;')"
   ]
  },
  {
   "cell_type": "code",
   "execution_count": 16,
   "metadata": {},
   "outputs": [
    {
     "name": "stdout",
     "output_type": "stream",
     "text": [
      "cplex\n",
      "cplex\n"
     ]
    }
   ],
   "source": [
    "print(ampl.getOption('solver'))\n",
    "ampl.setOption('solver','cplex')\n",
    "print(ampl.getOption('solver'))"
   ]
  },
  {
   "cell_type": "code",
   "execution_count": 17,
   "metadata": {},
   "outputs": [
    {
     "name": "stdout",
     "output_type": "stream",
     "text": [
      "CPLEX 12.8.0.0: optimal solution; objective 28750\n",
      "0 simplex iterations (0 in phase I)\n",
      "28750.0\n"
     ]
    }
   ],
   "source": [
    "ampl.solve()\n",
    "print(ampl.getObjective('total_profit').get().value())"
   ]
  },
  {
   "cell_type": "markdown",
   "metadata": {},
   "source": [
    "#### Shadow Price or Dual Price or Marginal Price"
   ]
  },
  {
   "cell_type": "code",
   "execution_count": 18,
   "metadata": {},
   "outputs": [
    {
     "name": "stdout",
     "output_type": "stream",
     "text": [
      "total_profit = 28750\n",
      "\n",
      "   index0    | constraints.dual\n",
      "'time_per_car' |     250     \n",
      "\n"
     ]
    }
   ],
   "source": [
    "ampl.eval('display total_profit;')\n",
    "for i in ampl.getConstraints():\n",
    "    print(i[1].getValues())\n",
    "#print(ampl.getConstraint('Time').getValues())"
   ]
  },
  {
   "cell_type": "markdown",
   "metadata": {},
   "source": [
    "### Decision Variable Solution and Reduced Cost"
   ]
  },
  {
   "cell_type": "code",
   "execution_count": 20,
   "metadata": {},
   "outputs": [
    {
     "data": {
      "text/html": [
       "<div>\n",
       "<style scoped>\n",
       "    .dataframe tbody tr th:only-of-type {\n",
       "        vertical-align: middle;\n",
       "    }\n",
       "\n",
       "    .dataframe tbody tr th {\n",
       "        vertical-align: top;\n",
       "    }\n",
       "\n",
       "    .dataframe thead th {\n",
       "        text-align: right;\n",
       "    }\n",
       "</style>\n",
       "<table border=\"1\" class=\"dataframe\">\n",
       "  <thead>\n",
       "    <tr style=\"text-align: right;\">\n",
       "      <th></th>\n",
       "      <th>X_LowerBound</th>\n",
       "      <th>X_Solution</th>\n",
       "      <th>X_UpperBound</th>\n",
       "      <th>X_ReducedCosts</th>\n",
       "    </tr>\n",
       "    <tr>\n",
       "      <th>DecisionVariable_X</th>\n",
       "      <th></th>\n",
       "      <th></th>\n",
       "      <th></th>\n",
       "      <th></th>\n",
       "    </tr>\n",
       "  </thead>\n",
       "  <tbody>\n",
       "    <tr>\n",
       "      <th>T</th>\n",
       "      <td>10.0</td>\n",
       "      <td>10.0</td>\n",
       "      <td>inf</td>\n",
       "      <td>-50.0</td>\n",
       "    </tr>\n",
       "    <tr>\n",
       "      <th>C</th>\n",
       "      <td>20.0</td>\n",
       "      <td>32.5</td>\n",
       "      <td>inf</td>\n",
       "      <td>0.0</td>\n",
       "    </tr>\n",
       "    <tr>\n",
       "      <th>L</th>\n",
       "      <td>15.0</td>\n",
       "      <td>15.0</td>\n",
       "      <td>inf</td>\n",
       "      <td>-50.0</td>\n",
       "    </tr>\n",
       "  </tbody>\n",
       "</table>\n",
       "</div>"
      ],
      "text/plain": [
       "                    X_LowerBound  X_Solution  X_UpperBound  X_ReducedCosts\n",
       "DecisionVariable_X                                                        \n",
       "T                           10.0        10.0           inf           -50.0\n",
       "C                           20.0        32.5           inf             0.0\n",
       "L                           15.0        15.0           inf           -50.0"
      ]
     },
     "execution_count": 20,
     "metadata": {},
     "output_type": "execute_result"
    }
   ],
   "source": [
    "X_result = list()\n",
    "for p in variables:\n",
    "    X_result.append([\n",
    "        p,\n",
    "        ampl.getVariable('X').get(p).lb(),\n",
    "        ampl.getVariable('X').get(p).value(),\n",
    "        ampl.getVariable('X').get(p).ub(),\n",
    "        ampl.getVariable('X').get(p).rc()\n",
    "    ])\n",
    "df_X_result = pd.DataFrame(X_result)\n",
    "df_X_result.rename(columns={0:'DecisionVariable_X',\n",
    "                            1:'X_LowerBound',\n",
    "                            2:'X_Solution',\n",
    "                            3:'X_UpperBound',\n",
    "                            4:'X_ReducedCosts'},\n",
    "                   inplace=True)\n",
    "df_X_result.set_index('DecisionVariable_X',inplace=True)\n",
    "df_X_result"
   ]
  },
  {
   "cell_type": "code",
   "execution_count": 21,
   "metadata": {},
   "outputs": [
    {
     "name": "stdout",
     "output_type": "stream",
     "text": [
      "   index0    |      X      \n",
      "    'C'      |     32.5    \n",
      "    'L'      |      15     \n",
      "    'T'      |      10     \n",
      "\n",
      "   index0    |    X.val    \n",
      "    'C'      |     32.5    \n",
      "    'L'      |      15     \n",
      "    'T'      |      10     \n",
      "\n",
      "[('C', 32.5), ('L', 15.0), ('T', 10.0)]\n",
      "{'C': 32.5, 'L': 15.0, 'T': 10.0}\n"
     ]
    }
   ],
   "source": [
    "print(ampl.getData('X'))\n",
    "values = ampl.getVariable('X').getValues()\n",
    "print(values)\n",
    "df = values.toPandas()\n",
    "print(values.toList())\n",
    "print(values.toDict())"
   ]
  },
  {
   "cell_type": "code",
   "execution_count": 22,
   "metadata": {},
   "outputs": [
    {
     "data": {
      "text/html": [
       "<div>\n",
       "<style scoped>\n",
       "    .dataframe tbody tr th:only-of-type {\n",
       "        vertical-align: middle;\n",
       "    }\n",
       "\n",
       "    .dataframe tbody tr th {\n",
       "        vertical-align: top;\n",
       "    }\n",
       "\n",
       "    .dataframe thead th {\n",
       "        text-align: right;\n",
       "    }\n",
       "</style>\n",
       "<table border=\"1\" class=\"dataframe\">\n",
       "  <thead>\n",
       "    <tr style=\"text-align: right;\">\n",
       "      <th></th>\n",
       "      <th>X_LowerBound</th>\n",
       "      <th>X_Solution</th>\n",
       "      <th>X_UpperBound</th>\n",
       "      <th>X_ReducedCosts</th>\n",
       "      <th>profit_per_car</th>\n",
       "      <th>X_Solution.floor</th>\n",
       "    </tr>\n",
       "    <tr>\n",
       "      <th>DecisionVariable_X</th>\n",
       "      <th></th>\n",
       "      <th></th>\n",
       "      <th></th>\n",
       "      <th></th>\n",
       "      <th></th>\n",
       "      <th></th>\n",
       "    </tr>\n",
       "  </thead>\n",
       "  <tbody>\n",
       "    <tr>\n",
       "      <th>T</th>\n",
       "      <td>10.0</td>\n",
       "      <td>10.0</td>\n",
       "      <td>inf</td>\n",
       "      <td>-50.0</td>\n",
       "      <td>200.0</td>\n",
       "      <td>10.0</td>\n",
       "    </tr>\n",
       "    <tr>\n",
       "      <th>C</th>\n",
       "      <td>20.0</td>\n",
       "      <td>32.5</td>\n",
       "      <td>inf</td>\n",
       "      <td>0.0</td>\n",
       "      <td>500.0</td>\n",
       "      <td>32.0</td>\n",
       "    </tr>\n",
       "    <tr>\n",
       "      <th>L</th>\n",
       "      <td>15.0</td>\n",
       "      <td>15.0</td>\n",
       "      <td>inf</td>\n",
       "      <td>-50.0</td>\n",
       "      <td>700.0</td>\n",
       "      <td>15.0</td>\n",
       "    </tr>\n",
       "  </tbody>\n",
       "</table>\n",
       "</div>"
      ],
      "text/plain": [
       "                    X_LowerBound  X_Solution  X_UpperBound  X_ReducedCosts  \\\n",
       "DecisionVariable_X                                                           \n",
       "T                           10.0        10.0           inf           -50.0   \n",
       "C                           20.0        32.5           inf             0.0   \n",
       "L                           15.0        15.0           inf           -50.0   \n",
       "\n",
       "                    profit_per_car  X_Solution.floor  \n",
       "DecisionVariable_X                                    \n",
       "T                            200.0              10.0  \n",
       "C                            500.0              32.0  \n",
       "L                            700.0              15.0  "
      ]
     },
     "execution_count": 22,
     "metadata": {},
     "output_type": "execute_result"
    }
   ],
   "source": [
    "import numpy as np\n",
    "df_result = df_X_result.join(ampl.getEntity('profit_per_car').getValues().toPandas())\n",
    "df_result['X_Solution.floor'] = df_result['X_Solution'].apply(lambda x: np.floor(x))\n",
    "df_result"
   ]
  },
  {
   "cell_type": "code",
   "execution_count": 23,
   "metadata": {},
   "outputs": [
    {
     "name": "stdout",
     "output_type": "stream",
     "text": [
      "total profit: $28750.0\n",
      "total adjusted profit: $28500.0\n",
      "diff in profit: $250.0\n"
     ]
    }
   ],
   "source": [
    "total_profit = (df_result['X_Solution'] * df_result['profit_per_car']).sum()\n",
    "total_adj_profit = (df_result['X_Solution.floor'] * df_result['profit_per_car']).sum()\n",
    "diff = total_profit - total_adj_profit\n",
    "print('total profit: ${}'.format(total_profit))\n",
    "print('total adjusted profit: ${}'.format(total_adj_profit))\n",
    "print('diff in profit: ${}'.format(diff))"
   ]
  }
 ],
 "metadata": {
  "kernelspec": {
   "display_name": "Python 3",
   "language": "python",
   "name": "python3"
  },
  "language_info": {
   "codemirror_mode": {
    "name": "ipython",
    "version": 3
   },
   "file_extension": ".py",
   "mimetype": "text/x-python",
   "name": "python",
   "nbconvert_exporter": "python",
   "pygments_lexer": "ipython3",
   "version": "3.7.1"
  }
 },
 "nbformat": 4,
 "nbformat_minor": 2
}
