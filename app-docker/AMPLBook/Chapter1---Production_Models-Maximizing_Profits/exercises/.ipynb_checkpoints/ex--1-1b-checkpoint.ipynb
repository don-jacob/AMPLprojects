{
 "cells": [
  {
   "cell_type": "markdown",
   "metadata": {},
   "source": [
    "### Exercise 1-1. \n",
    "This exercise starts with a two-variable linear program similar in structure to the one of Sections 1.1 and 1.2, but with a quite different story behind it.\n",
    "\n",
    "(a) You are in charge of an advertising campaign for a new product, with a budget of $\\$$1 million. You can advertise on TV or in magazines. One minute of TV time costs $\\$$20,000 and reaches 1.8 million potential customers; a magazine page costs $\\$$10,000 and reaches 1 million. You must sign up for at least 10 minutes of TV time. How should you spend your budget to maximize your audience? Formulate the problem in AMPL and solve it. Check the solution by hand using at least one\n",
    "of the approaches described in Section 1.1.\n",
    "\n",
    "(b) It takes creative talent to create effective advertising; in your organization, it takes three\n",
    "person-weeks to create a magazine page, and one person-week to create a TV minute. You have\n",
    "only 100 person-weeks available. Add this constraint to the model and determine how you should\n",
    "now spend your budget.\n",
    "\n",
    "(c) Radio advertising reaches a quarter million people per minute, costs $\\$$2,000 per minute, and\n",
    "requires only 1 person-day of time. How does this medium affect your solutions?\n",
    "\n",
    "(d) How does the solution change if you have to sign up for at least two magazine pages? A maximum of 120 minutes of radio?"
   ]
  },
  {
   "cell_type": "code",
   "execution_count": 1,
   "metadata": {},
   "outputs": [],
   "source": [
    "import pandas as pd\n",
    "from amplpy import AMPL, Environment"
   ]
  },
  {
   "cell_type": "code",
   "execution_count": 2,
   "metadata": {},
   "outputs": [],
   "source": [
    "ampl = AMPL(Environment('/opt/ampl.linux64'))"
   ]
  },
  {
   "cell_type": "code",
   "execution_count": 3,
   "metadata": {},
   "outputs": [],
   "source": [
    "ampl.reset()"
   ]
  },
  {
   "cell_type": "code",
   "execution_count": 4,
   "metadata": {},
   "outputs": [],
   "source": [
    "ampl.read('./ex--1-1b.mod')"
   ]
  },
  {
   "cell_type": "code",
   "execution_count": 5,
   "metadata": {},
   "outputs": [],
   "source": [
    "ampl.readData('./ex--1-1b.dat')"
   ]
  },
  {
   "cell_type": "code",
   "execution_count": 6,
   "metadata": {},
   "outputs": [
    {
     "name": "stdout",
     "output_type": "stream",
     "text": [
      "maximize audience_coverage:\n",
      "\t1800000*X['number_of_minutes_in_TV'] + \n",
      "\t1e+06*X['number_of_pages_in_magazine'];\n"
     ]
    }
   ],
   "source": [
    "print(ampl.getObjective('audience_coverage').get())"
   ]
  },
  {
   "cell_type": "code",
   "execution_count": 7,
   "metadata": {},
   "outputs": [
    {
     "name": "stdout",
     "output_type": "stream",
     "text": [
      "subject to constraints{c in constraint_names} : sum{p in\n",
      "  advertising_platform} constraint_list[p,c]*X[p] <= constraint_limits[c];\n",
      "subject to constraints['budget']:\n",
      "\t20000*X['number_of_minutes_in_TV'] + \n",
      "\t10000*X['number_of_pages_in_magazine'] <= 1e+06;\n",
      "subject to constraints['person-week']:\n",
      "\tX['number_of_minutes_in_TV'] + 3*X['number_of_pages_in_magazine'] <= \n",
      "\t100;\n"
     ]
    }
   ],
   "source": [
    "print(ampl.getConstraint('constraints'))\n",
    "print(ampl.getConstraint('constraints').get('budget'))\n",
    "print(ampl.getConstraint('constraints').get('person-week'))"
   ]
  },
  {
   "cell_type": "code",
   "execution_count": 8,
   "metadata": {},
   "outputs": [
    {
     "name": "stdout",
     "output_type": "stream",
     "text": [
      "maximize audience_coverage:\n",
      "\t1800000*X['number_of_minutes_in_TV'] + \n",
      "\t1e+06*X['number_of_pages_in_magazine'];\n",
      "\n",
      "subject to constraints['budget']:\n",
      "\t20000*X['number_of_minutes_in_TV'] + \n",
      "\t10000*X['number_of_pages_in_magazine'] <= 1e+06;\n",
      "\n",
      "subject to constraints['person-week']:\n",
      "\tX['number_of_minutes_in_TV'] + 3*X['number_of_pages_in_magazine'] <= \n",
      "\t100;\n",
      "\n"
     ]
    }
   ],
   "source": [
    "ampl.eval('expand audience_coverage;')\n",
    "ampl.eval('expand constraints;')"
   ]
  },
  {
   "cell_type": "code",
   "execution_count": 9,
   "metadata": {},
   "outputs": [
    {
     "name": "stdout",
     "output_type": "stream",
     "text": [
      "Coefficients of X['number_of_minutes_in_TV']:\n",
      "\tconstraints['budget']         20000\n",
      "\tconstraints['person-week']        1\n",
      "\taudience_coverage           1800000\n",
      "\n",
      "Coefficients of X['number_of_pages_in_magazine']:\n",
      "\tconstraints['budget']       10000\n",
      "\tconstraints['person-week']      3\n",
      "\taudience_coverage           1e+06\n",
      "\n"
     ]
    }
   ],
   "source": [
    "ampl.eval('expand X[\"number_of_minutes_in_TV\"];')\n",
    "ampl.eval('expand X[\"number_of_pages_in_magazine\"];')"
   ]
  },
  {
   "cell_type": "code",
   "execution_count": 10,
   "metadata": {},
   "outputs": [
    {
     "name": "stdout",
     "output_type": "stream",
     "text": [
      "_nvars = 2\n",
      "_ncons = 2\n",
      "\n"
     ]
    }
   ],
   "source": [
    "ampl.eval('display _nvars, _ncons;')"
   ]
  },
  {
   "cell_type": "code",
   "execution_count": 11,
   "metadata": {},
   "outputs": [
    {
     "name": "stdout",
     "output_type": "stream",
     "text": [
      "MINOS 5.51: optimal solution found.\n",
      "2 iterations, objective 9.2e+07\n"
     ]
    }
   ],
   "source": [
    "ampl.solve()"
   ]
  },
  {
   "cell_type": "code",
   "execution_count": 12,
   "metadata": {},
   "outputs": [
    {
     "name": "stdout",
     "output_type": "stream",
     "text": [
      "91999999.99999999\n"
     ]
    }
   ],
   "source": [
    "print(ampl.getObjective('audience_coverage').get().value())"
   ]
  },
  {
   "cell_type": "markdown",
   "metadata": {},
   "source": [
    "#### Shadow Price or Dual Price or Marginal Price"
   ]
  },
  {
   "cell_type": "code",
   "execution_count": 13,
   "metadata": {},
   "outputs": [
    {
     "name": "stdout",
     "output_type": "stream",
     "text": [
      "constraints [*] :=\n",
      "     budget     88\n",
      "person-week  40000\n",
      ";\n",
      "\n",
      "   index0    | constraints.dual\n",
      "  'budget'   |      88     \n",
      "'person-week' | 39999.999999999942\n",
      "\n"
     ]
    }
   ],
   "source": [
    "ampl.eval('display constraints;')\n",
    "print(ampl.getConstraint('constraints').getValues())"
   ]
  },
  {
   "cell_type": "markdown",
   "metadata": {},
   "source": [
    "### Decision Variable Solution and Reduced Cost"
   ]
  },
  {
   "cell_type": "code",
   "execution_count": 14,
   "metadata": {},
   "outputs": [
    {
     "data": {
      "text/html": [
       "<div>\n",
       "<style scoped>\n",
       "    .dataframe tbody tr th:only-of-type {\n",
       "        vertical-align: middle;\n",
       "    }\n",
       "\n",
       "    .dataframe tbody tr th {\n",
       "        vertical-align: top;\n",
       "    }\n",
       "\n",
       "    .dataframe thead th {\n",
       "        text-align: right;\n",
       "    }\n",
       "</style>\n",
       "<table border=\"1\" class=\"dataframe\">\n",
       "  <thead>\n",
       "    <tr style=\"text-align: right;\">\n",
       "      <th></th>\n",
       "      <th>X_LowerBound</th>\n",
       "      <th>X_Solution</th>\n",
       "      <th>X_UpperBound</th>\n",
       "      <th>X_ReducedCosts</th>\n",
       "    </tr>\n",
       "    <tr>\n",
       "      <th>DecisionVariable_X</th>\n",
       "      <th></th>\n",
       "      <th></th>\n",
       "      <th></th>\n",
       "      <th></th>\n",
       "    </tr>\n",
       "  </thead>\n",
       "  <tbody>\n",
       "    <tr>\n",
       "      <th>number_of_minutes_in_TV</th>\n",
       "      <td>10.0</td>\n",
       "      <td>40.0</td>\n",
       "      <td>inf</td>\n",
       "      <td>5.820766e-11</td>\n",
       "    </tr>\n",
       "    <tr>\n",
       "      <th>number_of_pages_in_magazine</th>\n",
       "      <td>0.0</td>\n",
       "      <td>20.0</td>\n",
       "      <td>inf</td>\n",
       "      <td>1.746230e-10</td>\n",
       "    </tr>\n",
       "  </tbody>\n",
       "</table>\n",
       "</div>"
      ],
      "text/plain": [
       "                             X_LowerBound  X_Solution  X_UpperBound  \\\n",
       "DecisionVariable_X                                                    \n",
       "number_of_minutes_in_TV              10.0        40.0           inf   \n",
       "number_of_pages_in_magazine           0.0        20.0           inf   \n",
       "\n",
       "                             X_ReducedCosts  \n",
       "DecisionVariable_X                           \n",
       "number_of_minutes_in_TV        5.820766e-11  \n",
       "number_of_pages_in_magazine    1.746230e-10  "
      ]
     },
     "execution_count": 14,
     "metadata": {},
     "output_type": "execute_result"
    }
   ],
   "source": [
    "X_result = list()\n",
    "items = ('number_of_minutes_in_TV',\n",
    "        'number_of_pages_in_magazine')\n",
    "for p in items:\n",
    "    X_result.append([\n",
    "        p,\n",
    "        ampl.getVariable('X').get(p).lb(), \n",
    "        ampl.getVariable('X').get(p).value(),\n",
    "        ampl.getVariable('X').get(p).ub(),\n",
    "        ampl.getVariable('X').get(p).rc()\n",
    "    ])\n",
    "df_X_result = pd.DataFrame(X_result)\n",
    "df_X_result.rename(columns={0:'DecisionVariable_X',\n",
    "                            1:'X_LowerBound',\n",
    "                            2:'X_Solution',\n",
    "                            3:'X_UpperBound',\n",
    "                            4:'X_ReducedCosts'},\n",
    "                   inplace=True)\n",
    "df_X_result.set_index('DecisionVariable_X',inplace=True)\n",
    "df_X_result"
   ]
  },
  {
   "cell_type": "code",
   "execution_count": 15,
   "metadata": {},
   "outputs": [
    {
     "name": "stdout",
     "output_type": "stream",
     "text": [
      "   index0    |      X      \n",
      "'number_of_minutes_in_TV' | 39.999999999999993\n",
      "'number_of_pages_in_magazine' | 20.000000000000004\n",
      "\n",
      "   index0    |    X.val    \n",
      "'number_of_minutes_in_TV' | 39.999999999999993\n",
      "'number_of_pages_in_magazine' | 20.000000000000004\n",
      "\n",
      "                             X.val\n",
      "number_of_minutes_in_TV       40.0\n",
      "number_of_pages_in_magazine   20.0\n",
      "[('number_of_minutes_in_TV', 39.99999999999999), ('number_of_pages_in_magazine', 20.000000000000004)]\n",
      "{'number_of_minutes_in_TV': 39.99999999999999, 'number_of_pages_in_magazine': 20.000000000000004}\n"
     ]
    }
   ],
   "source": [
    "print(ampl.getData('X'))\n",
    "values = ampl.getVariable('X').getValues()\n",
    "print(values)\n",
    "print(values.toPandas())\n",
    "print(values.toList())\n",
    "print(values.toDict())"
   ]
  },
  {
   "cell_type": "markdown",
   "metadata": {},
   "source": [
    "## Summary\n",
    "\n",
    "1. Adding persons-week constraint, made number_of_minutes_in_TV variable very attractive. \n",
    "2. Not only is it attractive but unlike exercise 1-1a, its now more attractive to use TV as a medium for advertisement than magazines.\n",
    "3. Both minimum bounds on variables TV minutes and Magazine pages does not have any effect on the solution. In the previous example, the minimum bound of 10minutes on TV minutes reduced the objective function value by $\\$$20,000. However in this example the minimum bound of 10minutes on TV minutes does not contribute to the solution."
   ]
  }
 ],
 "metadata": {
  "kernelspec": {
   "display_name": "Python 3",
   "language": "python",
   "name": "python3"
  },
  "language_info": {
   "codemirror_mode": {
    "name": "ipython",
    "version": 3
   },
   "file_extension": ".py",
   "mimetype": "text/x-python",
   "name": "python",
   "nbconvert_exporter": "python",
   "pygments_lexer": "ipython3",
   "version": "3.7.1"
  }
 },
 "nbformat": 4,
 "nbformat_minor": 2
}
