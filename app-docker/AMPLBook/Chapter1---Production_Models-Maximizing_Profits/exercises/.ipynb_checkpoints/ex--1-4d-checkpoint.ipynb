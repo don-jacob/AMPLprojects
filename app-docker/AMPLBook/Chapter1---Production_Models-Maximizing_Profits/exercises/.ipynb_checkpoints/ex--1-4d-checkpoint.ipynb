{
 "cells": [
  {
   "cell_type": "markdown",
   "metadata": {},
   "source": [
    "### Exercise 1-4.\n",
    "\n",
    " \n",
    "Here is a similar profit-maximizing model, but in a different context. An automobile manufacturer produces several kinds of cars. Each kind requires a certain amount of factory time per car to produce, and yields a certain profit per car. A certain amount of factory time has been scheduled for the next week, and it is desired to use all this time; but at least a certain number of each kind of car must be manufactured to meet dealer requirements.\n",
    "\n",
    "(a) What are the data values that define this problem? How would you declare the sets and parameter values for this problem in AMPL? What are the decision variables, and how would you declare them in AMPL?\n",
    "\n",
    "(b) Assuming that the objective is to maximize total profit, how would you declare an objective in AMPL for this problem? How would you declare the constraints?\n",
    "\n",
    "(c) For purposes of experiment, suppose that there are three kinds of cars, known at the factory as T, C and L, that 120 hours are available, and that the time per car, profit per car and dealer orders for each kind of car are as follows:\n",
    "Car time profit orders\n",
    "\n",
    "|Car |time_per_hour|profit_per_car|min_order_per_car|\n",
    "|:---|             |              |             ---:|\n",
    "|T   |            1|           200|             10  |\n",
    "|C   |            2|           500|             20  |\n",
    "|L   |            3|           700|             15  |\n",
    "\n",
    "How much of each car should be produced, and what is the maximum profit? You should find that your solution specifies a fractional amount of one of the cars. As a practical matter, how could you make use of this solution?\n",
    "\n",
    "(d) If you maximize the total number of cars produced instead of the total profit, how many more cars do you make? How much less profit?\n",
    "\n",
    "(e) Each kind of car achieves a certain fuel efficiency, and the manufacturer is required by law to maintain a certain ‘‘fleet average’’ efficiency. The fleet average is computed by multiplying the efficiency of each kind of car times the number of that kind produced, summing all of the resulting products, and dividing by the total of all cars produced. Extend your AMPL model to contain a minimum fleet average efficiency constraint. Rearrange the constraint as necessary to make it linear — no variables divided into other variables.\n",
    "\n",
    "(f) Find the optimal solution for the case where cars T, C and L achieve fuel efficiencies of 50, 30 and 20 miles/gallon, and the fleet average efficiency must be at least 35 miles/gallon. Explain how this changes the production amounts and the total profit. Dealing with the fractional amounts in the solution is not so easy in this case. What might you do? If you had 10 more hours of production time, you could make more profit. Does the addition of the fleet average efficiency constraint make the extra 10 hours more or less valuable?\n",
    "\n",
    "(g) Explain how you could further refine this model to account for different production stages that have different numbers of hours available per stage, much as in the steel model of Section 1.6."
   ]
  },
  {
   "cell_type": "code",
   "execution_count": 2,
   "metadata": {},
   "outputs": [],
   "source": [
    "import pandas as pd\n",
    "import numpy as np\n",
    "from amplpy import AMPL, Environment"
   ]
  },
  {
   "cell_type": "code",
   "execution_count": 3,
   "metadata": {},
   "outputs": [],
   "source": [
    "ampl = AMPL(Environment('/opt/ampl.linux64'))\n",
    "ampl.reset()"
   ]
  },
  {
   "cell_type": "code",
   "execution_count": 4,
   "metadata": {},
   "outputs": [],
   "source": [
    "ampl.read('./ex--1-4d.mod')"
   ]
  },
  {
   "cell_type": "code",
   "execution_count": 5,
   "metadata": {},
   "outputs": [],
   "source": [
    "ampl.readData('./ex--1-4d.dat')"
   ]
  },
  {
   "cell_type": "code",
   "execution_count": 6,
   "metadata": {},
   "outputs": [],
   "source": [
    "variables = ('T','C','L')\n",
    "constraint_names = ('time_per_car')"
   ]
  },
  {
   "cell_type": "code",
   "execution_count": 7,
   "metadata": {},
   "outputs": [],
   "source": [
    "def model_overview(ampl=None):\n",
    "    print('Variables and their bounds')\n",
    "    for i in ampl.getVariables():\n",
    "        [print(i[1].get(j)) for j in variables]\n",
    "    print()\n",
    "    print('Constraints and their limits')\n",
    "    print(ampl.getConstraint('constraints'))\n",
    "    print()\n",
    "    print('Constraints and their limits. Alternate way to print.')\n",
    "    print(ampl.getConstraint('constraints').get('time_per_car'))\n",
    "    print()\n",
    "    for i in ampl.getConstraints():\n",
    "        print(i[1].get('time_per_car'))\n",
    "    print()\n",
    "    print('Objective Function')\n",
    "    for i in ampl.getObjectives():\n",
    "        print(i[1].get())"
   ]
  },
  {
   "cell_type": "code",
   "execution_count": 8,
   "metadata": {},
   "outputs": [
    {
     "name": "stdout",
     "output_type": "stream",
     "text": [
      "maximize total_cars:\n",
      "\tX['T'] + X['C'] + X['L'];\n",
      "maximize total_profit:\n",
      "\t200*X['T'] + 500*X['C'] + 700*X['L'];\n"
     ]
    }
   ],
   "source": [
    "for i in ampl.getObjectives():\n",
    "    print(i[1].get())"
   ]
  },
  {
   "cell_type": "code",
   "execution_count": 9,
   "metadata": {},
   "outputs": [
    {
     "name": "stdout",
     "output_type": "stream",
     "text": [
      "Variables and their bounds\n",
      "var X['T'] >=10;\n",
      "var X['C'] >=20;\n",
      "var X['L'] >=15;\n",
      "\n",
      "Constraints and their limits\n",
      "subject to constraints{c in constraint_names} : sum{i in cars}\n",
      "  constraint_list[i,c]*X[i] <= constraint_limits[c];\n",
      "\n",
      "Constraints and their limits. Alternate way to print.\n",
      "subject to constraints['time_per_car']:\n",
      "\tX['T'] + 2*X['C'] + 3*X['L'] <= 120;\n",
      "\n",
      "subject to constraints['time_per_car']:\n",
      "\tX['T'] + 2*X['C'] + 3*X['L'] <= 120;\n",
      "\n",
      "Objective Function\n",
      "maximize total_cars:\n",
      "\tX['T'] + X['C'] + X['L'];\n",
      "maximize total_profit:\n",
      "\t200*X['T'] + 500*X['C'] + 700*X['L'];\n"
     ]
    }
   ],
   "source": [
    "model_overview(ampl=ampl)"
   ]
  },
  {
   "cell_type": "code",
   "execution_count": 10,
   "metadata": {},
   "outputs": [
    {
     "name": "stdout",
     "output_type": "stream",
     "text": [
      "maximize total_cars:\n",
      "\tX['T'] + X['C'] + X['L'];\n",
      "\n"
     ]
    }
   ],
   "source": [
    "ampl.eval('expand total_cars;')"
   ]
  },
  {
   "cell_type": "code",
   "execution_count": 11,
   "metadata": {},
   "outputs": [
    {
     "name": "stdout",
     "output_type": "stream",
     "text": [
      "subject to constraints['time_per_car']:\n",
      "\tX['T'] + 2*X['C'] + 3*X['L'] <= 120;\n",
      "\n"
     ]
    }
   ],
   "source": [
    "ampl.eval('expand constraints;')"
   ]
  },
  {
   "cell_type": "code",
   "execution_count": 12,
   "metadata": {},
   "outputs": [
    {
     "name": "stdout",
     "output_type": "stream",
     "text": [
      "Coefficients of X['T']:\n",
      "\tconstraints['time_per_car']    1\n",
      "\ttotal_profit                 200\n",
      "\ttotal_cars                     1\n",
      "\n",
      "Coefficients of X['C']:\n",
      "\tconstraints['time_per_car']    2\n",
      "\ttotal_profit                 500\n",
      "\ttotal_cars                     1\n",
      "\n",
      "Coefficients of X['L']:\n",
      "\tconstraints['time_per_car']    3\n",
      "\ttotal_profit                 700\n",
      "\ttotal_cars                     1\n",
      "\n"
     ]
    }
   ],
   "source": [
    "for variable in variables:\n",
    "    ampl.eval('expand X[\"{}\"];'.format(variable))"
   ]
  },
  {
   "cell_type": "code",
   "execution_count": 13,
   "metadata": {},
   "outputs": [
    {
     "name": "stdout",
     "output_type": "stream",
     "text": [
      "_nvars = 3\n",
      "_ncons = 1\n",
      "\n"
     ]
    }
   ],
   "source": [
    "ampl.eval('display _nvars, _ncons;')"
   ]
  },
  {
   "cell_type": "code",
   "execution_count": 14,
   "metadata": {},
   "outputs": [
    {
     "name": "stdout",
     "output_type": "stream",
     "text": [
      "minos\n",
      "cplex\n"
     ]
    }
   ],
   "source": [
    "print(ampl.getOption('solver'))\n",
    "ampl.setOption('solver','cplex')\n",
    "print(ampl.getOption('solver'))"
   ]
  },
  {
   "cell_type": "code",
   "execution_count": 18,
   "metadata": {},
   "outputs": [],
   "source": [
    "def get_X_result(ampl):\n",
    "    X_result = list()\n",
    "    for p in variables:\n",
    "        X_result.append([\n",
    "            p,\n",
    "            ampl.getVariable('X').get(p).lb(),\n",
    "            ampl.getVariable('X').get(p).value(),\n",
    "            ampl.getVariable('X').get(p).ub(),\n",
    "            ampl.getVariable('X').get(p).rc()\n",
    "        ])\n",
    "    df_X_result = pd.DataFrame(X_result)\n",
    "    df_X_result.rename(columns={0:'DecisionVariable_X',\n",
    "                                1:'X_LowerBound',\n",
    "                                2:'X_Solution',\n",
    "                                3:'X_UpperBound',\n",
    "                                4:'X_ReducedCosts'},\n",
    "                       inplace=True)\n",
    "    df_X_result.set_index('DecisionVariable_X',inplace=True)\n",
    "    return df_X_result"
   ]
  },
  {
   "cell_type": "markdown",
   "metadata": {},
   "source": [
    "### Maximize Number of Cars Produced"
   ]
  },
  {
   "cell_type": "code",
   "execution_count": 38,
   "metadata": {},
   "outputs": [
    {
     "name": "stdout",
     "output_type": "stream",
     "text": [
      "CPLEX 12.8.0.0: optimal solution; objective 70\n",
      "1 simplex iterations (0 in phase I)\n",
      "70.0\n",
      "27500.0\n",
      "total_cars = 70\n",
      "\n",
      "Shadow Price or Dual Price or Marginal Price\n",
      "   index0    | constraints.dual\n",
      "'time_per_car' |      1      \n",
      "\n",
      "Decision Variable Solution and Reduced Cost\n"
     ]
    },
    {
     "data": {
      "text/html": [
       "<div>\n",
       "<style scoped>\n",
       "    .dataframe tbody tr th:only-of-type {\n",
       "        vertical-align: middle;\n",
       "    }\n",
       "\n",
       "    .dataframe tbody tr th {\n",
       "        vertical-align: top;\n",
       "    }\n",
       "\n",
       "    .dataframe thead th {\n",
       "        text-align: right;\n",
       "    }\n",
       "</style>\n",
       "<table border=\"1\" class=\"dataframe\">\n",
       "  <thead>\n",
       "    <tr style=\"text-align: right;\">\n",
       "      <th></th>\n",
       "      <th>X_LowerBound</th>\n",
       "      <th>X_Solution</th>\n",
       "      <th>X_UpperBound</th>\n",
       "      <th>X_ReducedCosts</th>\n",
       "    </tr>\n",
       "    <tr>\n",
       "      <th>DecisionVariable_X</th>\n",
       "      <th></th>\n",
       "      <th></th>\n",
       "      <th></th>\n",
       "      <th></th>\n",
       "    </tr>\n",
       "  </thead>\n",
       "  <tbody>\n",
       "    <tr>\n",
       "      <th>T</th>\n",
       "      <td>10.0</td>\n",
       "      <td>35.0</td>\n",
       "      <td>inf</td>\n",
       "      <td>0.0</td>\n",
       "    </tr>\n",
       "    <tr>\n",
       "      <th>C</th>\n",
       "      <td>20.0</td>\n",
       "      <td>20.0</td>\n",
       "      <td>inf</td>\n",
       "      <td>-1.0</td>\n",
       "    </tr>\n",
       "    <tr>\n",
       "      <th>L</th>\n",
       "      <td>15.0</td>\n",
       "      <td>15.0</td>\n",
       "      <td>inf</td>\n",
       "      <td>-2.0</td>\n",
       "    </tr>\n",
       "  </tbody>\n",
       "</table>\n",
       "</div>"
      ],
      "text/plain": [
       "                    X_LowerBound  X_Solution  X_UpperBound  X_ReducedCosts\n",
       "DecisionVariable_X                                                        \n",
       "T                           10.0        35.0           inf             0.0\n",
       "C                           20.0        20.0           inf            -1.0\n",
       "L                           15.0        15.0           inf            -2.0"
      ]
     },
     "execution_count": 38,
     "metadata": {},
     "output_type": "execute_result"
    }
   ],
   "source": [
    "ampl.eval('objective total_cars;')\n",
    "ampl.solve()\n",
    "maxCars_totalCars = ampl.getObjective('total_cars').get().value()\n",
    "maxCars_totalProfit = ampl.getObjective('total_profit').get().value()\n",
    "print(maxCars_totalCars)\n",
    "print(maxCars_totalProfit)\n",
    "ampl.eval('display total_cars;')\n",
    "print('Shadow Price or Dual Price or Marginal Price')\n",
    "for i in ampl.getConstraints():\n",
    "    print(i[1].getValues())\n",
    "#print(ampl.getConstraint('Time').getValues())\n",
    "print('Decision Variable Solution and Reduced Cost')\n",
    "get_X_result(ampl)"
   ]
  },
  {
   "cell_type": "markdown",
   "metadata": {},
   "source": [
    "### Maximize Total Profit"
   ]
  },
  {
   "cell_type": "code",
   "execution_count": 39,
   "metadata": {},
   "outputs": [
    {
     "name": "stdout",
     "output_type": "stream",
     "text": [
      "CPLEX 12.8.0.0: optimal solution; objective 28750\n",
      "1 simplex iterations (0 in phase I)\n",
      "57.5\n",
      "28750.0\n",
      "Shadow Price or Dual Price or Marginal Price\n",
      "   index0    | constraints.dual\n",
      "'time_per_car' |     250     \n",
      "\n",
      "Decision Variable Solution and Reduced Cost\n"
     ]
    },
    {
     "data": {
      "text/html": [
       "<div>\n",
       "<style scoped>\n",
       "    .dataframe tbody tr th:only-of-type {\n",
       "        vertical-align: middle;\n",
       "    }\n",
       "\n",
       "    .dataframe tbody tr th {\n",
       "        vertical-align: top;\n",
       "    }\n",
       "\n",
       "    .dataframe thead th {\n",
       "        text-align: right;\n",
       "    }\n",
       "</style>\n",
       "<table border=\"1\" class=\"dataframe\">\n",
       "  <thead>\n",
       "    <tr style=\"text-align: right;\">\n",
       "      <th></th>\n",
       "      <th>X_LowerBound</th>\n",
       "      <th>X_Solution</th>\n",
       "      <th>X_UpperBound</th>\n",
       "      <th>X_ReducedCosts</th>\n",
       "    </tr>\n",
       "    <tr>\n",
       "      <th>DecisionVariable_X</th>\n",
       "      <th></th>\n",
       "      <th></th>\n",
       "      <th></th>\n",
       "      <th></th>\n",
       "    </tr>\n",
       "  </thead>\n",
       "  <tbody>\n",
       "    <tr>\n",
       "      <th>T</th>\n",
       "      <td>10.0</td>\n",
       "      <td>10.0</td>\n",
       "      <td>inf</td>\n",
       "      <td>-50.0</td>\n",
       "    </tr>\n",
       "    <tr>\n",
       "      <th>C</th>\n",
       "      <td>20.0</td>\n",
       "      <td>32.5</td>\n",
       "      <td>inf</td>\n",
       "      <td>0.0</td>\n",
       "    </tr>\n",
       "    <tr>\n",
       "      <th>L</th>\n",
       "      <td>15.0</td>\n",
       "      <td>15.0</td>\n",
       "      <td>inf</td>\n",
       "      <td>-50.0</td>\n",
       "    </tr>\n",
       "  </tbody>\n",
       "</table>\n",
       "</div>"
      ],
      "text/plain": [
       "                    X_LowerBound  X_Solution  X_UpperBound  X_ReducedCosts\n",
       "DecisionVariable_X                                                        \n",
       "T                           10.0        10.0           inf           -50.0\n",
       "C                           20.0        32.5           inf             0.0\n",
       "L                           15.0        15.0           inf           -50.0"
      ]
     },
     "execution_count": 39,
     "metadata": {},
     "output_type": "execute_result"
    }
   ],
   "source": [
    "ampl.eval('objective total_profit;')\n",
    "ampl.solve()\n",
    "maxProfit_totalCars = ampl.getObjective('total_cars').get().value()\n",
    "maxProfit_totalProfit = ampl.getObjective('total_profit').get().value()\n",
    "print(maxProfit_totalCars)\n",
    "print(maxProfit_totalProfit)\n",
    "print('Shadow Price or Dual Price or Marginal Price')\n",
    "for i in ampl.getConstraints():\n",
    "    print(i[1].getValues())\n",
    "#print(ampl.getConstraint('Time').getValues())\n",
    "print('Decision Variable Solution and Reduced Cost')\n",
    "df_X_result=get_X_result(ampl)\n",
    "df_X_result"
   ]
  },
  {
   "cell_type": "code",
   "execution_count": 40,
   "metadata": {},
   "outputs": [
    {
     "name": "stdout",
     "output_type": "stream",
     "text": [
      "   index0    |      X      \n",
      "    'C'      |     32.5    \n",
      "    'L'      |      15     \n",
      "    'T'      |      10     \n",
      "\n",
      "   index0    |    X.val    \n",
      "    'C'      |     32.5    \n",
      "    'L'      |      15     \n",
      "    'T'      |      10     \n",
      "\n",
      "[('C', 32.5), ('L', 15.0), ('T', 10.0)]\n",
      "{'C': 32.5, 'L': 15.0, 'T': 10.0}\n"
     ]
    }
   ],
   "source": [
    "print(ampl.getData('X'))\n",
    "values = ampl.getVariable('X').getValues()\n",
    "print(values)\n",
    "df = values.toPandas()\n",
    "print(values.toList())\n",
    "print(values.toDict())"
   ]
  },
  {
   "cell_type": "code",
   "execution_count": 41,
   "metadata": {},
   "outputs": [
    {
     "data": {
      "text/html": [
       "<div>\n",
       "<style scoped>\n",
       "    .dataframe tbody tr th:only-of-type {\n",
       "        vertical-align: middle;\n",
       "    }\n",
       "\n",
       "    .dataframe tbody tr th {\n",
       "        vertical-align: top;\n",
       "    }\n",
       "\n",
       "    .dataframe thead th {\n",
       "        text-align: right;\n",
       "    }\n",
       "</style>\n",
       "<table border=\"1\" class=\"dataframe\">\n",
       "  <thead>\n",
       "    <tr style=\"text-align: right;\">\n",
       "      <th></th>\n",
       "      <th>X_LowerBound</th>\n",
       "      <th>X_Solution</th>\n",
       "      <th>X_UpperBound</th>\n",
       "      <th>X_ReducedCosts</th>\n",
       "      <th>profit_per_car</th>\n",
       "      <th>X_Solution.floor</th>\n",
       "    </tr>\n",
       "    <tr>\n",
       "      <th>DecisionVariable_X</th>\n",
       "      <th></th>\n",
       "      <th></th>\n",
       "      <th></th>\n",
       "      <th></th>\n",
       "      <th></th>\n",
       "      <th></th>\n",
       "    </tr>\n",
       "  </thead>\n",
       "  <tbody>\n",
       "    <tr>\n",
       "      <th>T</th>\n",
       "      <td>10.0</td>\n",
       "      <td>10.0</td>\n",
       "      <td>inf</td>\n",
       "      <td>-50.0</td>\n",
       "      <td>200.0</td>\n",
       "      <td>10.0</td>\n",
       "    </tr>\n",
       "    <tr>\n",
       "      <th>C</th>\n",
       "      <td>20.0</td>\n",
       "      <td>32.5</td>\n",
       "      <td>inf</td>\n",
       "      <td>0.0</td>\n",
       "      <td>500.0</td>\n",
       "      <td>32.0</td>\n",
       "    </tr>\n",
       "    <tr>\n",
       "      <th>L</th>\n",
       "      <td>15.0</td>\n",
       "      <td>15.0</td>\n",
       "      <td>inf</td>\n",
       "      <td>-50.0</td>\n",
       "      <td>700.0</td>\n",
       "      <td>15.0</td>\n",
       "    </tr>\n",
       "  </tbody>\n",
       "</table>\n",
       "</div>"
      ],
      "text/plain": [
       "                    X_LowerBound  X_Solution  X_UpperBound  X_ReducedCosts  \\\n",
       "DecisionVariable_X                                                           \n",
       "T                           10.0        10.0           inf           -50.0   \n",
       "C                           20.0        32.5           inf             0.0   \n",
       "L                           15.0        15.0           inf           -50.0   \n",
       "\n",
       "                    profit_per_car  X_Solution.floor  \n",
       "DecisionVariable_X                                    \n",
       "T                            200.0              10.0  \n",
       "C                            500.0              32.0  \n",
       "L                            700.0              15.0  "
      ]
     },
     "execution_count": 41,
     "metadata": {},
     "output_type": "execute_result"
    }
   ],
   "source": [
    "df_result = df_X_result.join(ampl.getEntity('profit_per_car').getValues().toPandas())\n",
    "df_result['X_Solution.floor'] = df_result['X_Solution'].apply(lambda x: np.floor(x))\n",
    "df_result"
   ]
  },
  {
   "cell_type": "markdown",
   "metadata": {},
   "source": [
    "When maximizing profit, it resulted in fractional values. We convert that to integer and then calculate our net profit."
   ]
  },
  {
   "cell_type": "code",
   "execution_count": 42,
   "metadata": {},
   "outputs": [
    {
     "name": "stdout",
     "output_type": "stream",
     "text": [
      "total profit: $28750.0\n",
      "total adjusted profit: $28500.0\n",
      "diff in profit: $250.0\n"
     ]
    }
   ],
   "source": [
    "total_profit = (df_result['X_Solution'] * df_result['profit_per_car']).sum()\n",
    "total_adj_profit = (df_result['X_Solution.floor'] * df_result['profit_per_car']).sum()\n",
    "diff = total_profit - total_adj_profit\n",
    "print('total profit: ${}'.format(total_profit))\n",
    "print('total adjusted profit: ${}'.format(total_adj_profit))\n",
    "print('diff in profit: ${}'.format(diff))"
   ]
  },
  {
   "cell_type": "code",
   "execution_count": 47,
   "metadata": {},
   "outputs": [
    {
     "data": {
      "text/html": [
       "<div>\n",
       "<style scoped>\n",
       "    .dataframe tbody tr th:only-of-type {\n",
       "        vertical-align: middle;\n",
       "    }\n",
       "\n",
       "    .dataframe tbody tr th {\n",
       "        vertical-align: top;\n",
       "    }\n",
       "\n",
       "    .dataframe thead th {\n",
       "        text-align: right;\n",
       "    }\n",
       "</style>\n",
       "<table border=\"1\" class=\"dataframe\">\n",
       "  <thead>\n",
       "    <tr style=\"text-align: right;\">\n",
       "      <th></th>\n",
       "      <th>obj-maximize_cars_produced</th>\n",
       "      <th>obj-maximize_profit</th>\n",
       "      <th>obj-maximize_profit-adjusted</th>\n",
       "    </tr>\n",
       "    <tr>\n",
       "      <th>index</th>\n",
       "      <th></th>\n",
       "      <th></th>\n",
       "      <th></th>\n",
       "    </tr>\n",
       "  </thead>\n",
       "  <tbody>\n",
       "    <tr>\n",
       "      <th>number_of_cars_produced</th>\n",
       "      <td>70.0</td>\n",
       "      <td>57.5</td>\n",
       "      <td>57.0</td>\n",
       "    </tr>\n",
       "    <tr>\n",
       "      <th>profit</th>\n",
       "      <td>27500.0</td>\n",
       "      <td>28750.0</td>\n",
       "      <td>28500.0</td>\n",
       "    </tr>\n",
       "  </tbody>\n",
       "</table>\n",
       "</div>"
      ],
      "text/plain": [
       "                         obj-maximize_cars_produced  obj-maximize_profit  \\\n",
       "index                                                                      \n",
       "number_of_cars_produced                        70.0                 57.5   \n",
       "profit                                      27500.0              28750.0   \n",
       "\n",
       "                         obj-maximize_profit-adjusted  \n",
       "index                                                  \n",
       "number_of_cars_produced                          57.0  \n",
       "profit                                        28500.0  "
      ]
     },
     "execution_count": 47,
     "metadata": {},
     "output_type": "execute_result"
    }
   ],
   "source": [
    "df = pd.DataFrame(\n",
    "    [\n",
    "        ['number_of_cars_produced',maxCars_totalCars,maxProfit_totalCars,df_result['X_Solution.floor'].sum()],\n",
    "        ['profit',maxCars_totalProfit,maxProfit_totalProfit,total_adj_profit]\n",
    "    ],\n",
    "    columns = ('index','obj-maximize_cars_produced','obj-maximize_profit','obj-maximize_profit-adjusted')\n",
    ").set_index('index')\n",
    "df"
   ]
  },
  {
   "cell_type": "markdown",
   "metadata": {},
   "source": [
    "#### When we maximize cars produced:"
   ]
  },
  {
   "cell_type": "code",
   "execution_count": 57,
   "metadata": {},
   "outputs": [
    {
     "name": "stdout",
     "output_type": "stream",
     "text": [
      "Number of cars produced is 12.5 more than when we maximize profit\n",
      "Profit is -1250.0 less than when we maximize profit\n"
     ]
    }
   ],
   "source": [
    "row='number_of_cars_produced'\n",
    "result1 = (df.loc[df.index.isin([row]),'obj-maximize_cars_produced']-df.loc[df.index.isin([row]),'obj-maximize_profit'])[0]\n",
    "row='profit'\n",
    "result2 = (df.loc[df.index.isin([row]),'obj-maximize_cars_produced']-df.loc[df.index.isin([row]),'obj-maximize_profit'])[0]\n",
    "print('Number of cars produced is {} more than when we maximize profit'.format(result1))\n",
    "print('Profit is {} less than when we maximize profit'.format(result2))"
   ]
  },
  {
   "cell_type": "code",
   "execution_count": null,
   "metadata": {},
   "outputs": [],
   "source": []
  }
 ],
 "metadata": {
  "kernelspec": {
   "display_name": "Python 3",
   "language": "python",
   "name": "python3"
  },
  "language_info": {
   "codemirror_mode": {
    "name": "ipython",
    "version": 3
   },
   "file_extension": ".py",
   "mimetype": "text/x-python",
   "name": "python",
   "nbconvert_exporter": "python",
   "pygments_lexer": "ipython3",
   "version": "3.7.1"
  }
 },
 "nbformat": 4,
 "nbformat_minor": 2
}
