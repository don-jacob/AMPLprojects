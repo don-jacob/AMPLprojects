{
 "cells": [
  {
   "cell_type": "markdown",
   "metadata": {},
   "source": [
    "### Exercise 1-2. \n",
    "The steel model of this chapter can be further modified to reflect various changes in production requirements. For each part below, explain the modifications to Figures 1-6a and 1-6b that\n",
    "would be required to achieve the desired changes. (Make each change separately, rather than accumulating the changes from one part to the next.)\n",
    "\n",
    "(a) How would you change the constraints so that total hours used by all products must equal the total hours available for each stage? Solve the linear program with this change, and verify that you get the same results. Explain why, in this case, there is no difference in the solution.\n",
    "\n",
    "(b) How would you add to the model to restrict the total weight of all products to be less than a new parameter, max_weight? Solve the linear program for a weight limit of 6500 tons, and explain how this extra restriction changes the results.\n",
    "\n",
    "(c) The incentive system for mill managers may tend to encourage them to produce as many tons as possible. How would you change the objective function to maximize total tons? For the data of our example, does this make a difference to the optimal solution?\n",
    "    \n",
    "(d) Suppose that instead of the lower bounds represented by commit[p] in our model, we want to require that each product represent a certain share of the total tons produced. In the algebraic notation of Figure 1-1, this new constraint might be represented as \n",
    "    \n",
    "\\begin{equation*}\n",
    "X_j >= s_j \\thinspace \\sum_{k \\thinspace \\epsilon \\thinspace P} X_k \\thinspace , for \\thinspace each \\thinspace  j \\thinspace \\epsilon \\thinspace P\n",
    "\\end{equation*}\n",
    "        \n",
    "where sj is the minimum share associated with project j. How would you change the AMPL model to use this constraint in place of the lower bounds commit[p]? If the minimum shares are 0.4 for bands and plate, and 0.1 for coils, what is the solution ? Verify that if you change the minimum shares to 0.5 for bands and plate, and 0.1 for coils, the linear program gives an optimal solution that produces nothing, at zero profit. Explain why this makes sense.\n",
    "      \n",
    "(e) Suppose there is an additional finishing stage for plates only, with a capacity of 20 hours and a rate of 150 tons per hour. Explain how you could modify the data, without changing the model, to incorporate this new stage.\n"
   ]
  },
  {
   "cell_type": "code",
   "execution_count": 194,
   "metadata": {},
   "outputs": [],
   "source": [
    "import pandas as pd\n",
    "from amplpy import AMPL, Environment"
   ]
  },
  {
   "cell_type": "code",
   "execution_count": 195,
   "metadata": {},
   "outputs": [],
   "source": [
    "ampl = AMPL(Environment('/opt/ampl.linux64'))"
   ]
  },
  {
   "cell_type": "code",
   "execution_count": 196,
   "metadata": {},
   "outputs": [],
   "source": [
    "ampl.reset()"
   ]
  },
  {
   "cell_type": "code",
   "execution_count": 197,
   "metadata": {},
   "outputs": [],
   "source": [
    "ampl.read('./ex--1-2d.mod')"
   ]
  },
  {
   "cell_type": "code",
   "execution_count": 198,
   "metadata": {},
   "outputs": [],
   "source": [
    "ampl.readData('./ex--1-2d.dat')"
   ]
  },
  {
   "cell_type": "code",
   "execution_count": 199,
   "metadata": {},
   "outputs": [],
   "source": [
    "variables = ('bands','coils','plate')\n",
    "time_constraints = ('reheat','roll')"
   ]
  },
  {
   "cell_type": "code",
   "execution_count": 200,
   "metadata": {},
   "outputs": [
    {
     "name": "stdout",
     "output_type": "stream",
     "text": [
      "subject to Time{s in Stage} : sum{p in Products} 1/tonsPerHour[p,s]*X[p]\n",
      "   <= maxHours[s];\n",
      "\n",
      "Variables and their bounds\n",
      "var X['bands'] >=0, <=6000;\n",
      "var X['coils'] >=0, <=4000;\n",
      "var X['plate'] >=0, <=3500;\n",
      "\n",
      "Constraints and their limits\n",
      "subject to Time['reheat']:\n",
      "\t0.005*X['bands'] + 0.005*X['coils'] + 0.005*X['plate'] <= 35;\n",
      "subject to Time['roll']:\n",
      "\t0.005*X['bands'] + 0.00714286*X['coils'] + 0.00625*X['plate'] <= 40;\n",
      "subject to max_weight:\n",
      "\tX['bands'] + X['coils'] + X['plate'] <= 6500;\n",
      "subject to min_tons['bands']:\n",
      "\t-0.6*X['bands'] + 0.4*X['coils'] + 0.4*X['plate'] <= 0;\n",
      "subject to min_tons['coils']:\n",
      "\t0.1*X['bands'] - 0.9*X['coils'] + 0.1*X['plate'] <= 0;\n",
      "subject to min_tons['plate']:\n",
      "\t0.4*X['bands'] + 0.4*X['coils'] - 0.6*X['plate'] <= 0;\n",
      "\n",
      "Objective Function\n",
      "maximize tons_produced:\n",
      "\tX['bands'] + X['coils'] + X['plate'];\n"
     ]
    }
   ],
   "source": [
    "print(ampl.getConstraint('Time'))\n",
    "#print(ampl.getConstraint('Time').get('reheat'))\n",
    "#print(ampl.getConstraint('Time').get('roll'))\n",
    "print()\n",
    "print('Variables and their bounds')\n",
    "for i in ampl.getVariables():\n",
    "    [print(i[1].get(j)) for j in variables]\n",
    "print()\n",
    "print('Constraints and their limits')\n",
    "for i in ampl.getConstraints():\n",
    "    if i[0] == 'Time': [print(i[1].get(j)) for j in time_constraints]\n",
    "    if i[0] == 'max_weight': print(i[1].get())\n",
    "    if i[0] == 'min_tons': [print(i[1].get(j)) for j in variables]\n",
    "print()\n",
    "print('Objective Function')\n",
    "print(ampl.getObjective('tons_produced').get())"
   ]
  },
  {
   "cell_type": "code",
   "execution_count": 201,
   "metadata": {},
   "outputs": [
    {
     "name": "stdout",
     "output_type": "stream",
     "text": [
      "maximize tons_produced:\n",
      "\tX['bands'] + X['coils'] + X['plate'];\n",
      "\n",
      "subject to Time['reheat']:\n",
      "\t0.005*X['bands'] + 0.005*X['coils'] + 0.005*X['plate'] <= 35;\n",
      "\n",
      "subject to Time['roll']:\n",
      "\t0.005*X['bands'] + 0.00714286*X['coils'] + 0.00625*X['plate'] <= 40;\n",
      "\n",
      "subject to max_weight:\n",
      "\tX['bands'] + X['coils'] + X['plate'] <= 6500;\n",
      "\n",
      "subject to min_tons['bands']:\n",
      "\t-0.6*X['bands'] + 0.4*X['coils'] + 0.4*X['plate'] <= 0;\n",
      "\n",
      "subject to min_tons['coils']:\n",
      "\t0.1*X['bands'] - 0.9*X['coils'] + 0.1*X['plate'] <= 0;\n",
      "\n",
      "subject to min_tons['plate']:\n",
      "\t0.4*X['bands'] + 0.4*X['coils'] - 0.6*X['plate'] <= 0;\n",
      "\n"
     ]
    }
   ],
   "source": [
    "ampl.eval('expand tons_produced;')\n",
    "ampl.eval('expand Time;')\n",
    "ampl.eval('expand max_weight;')\n",
    "ampl.eval('expand min_tons;')"
   ]
  },
  {
   "cell_type": "code",
   "execution_count": 202,
   "metadata": {},
   "outputs": [
    {
     "name": "stdout",
     "output_type": "stream",
     "text": [
      "Coefficients of X['bands']:\n",
      "\tTime['reheat']      0.005\n",
      "\tTime['roll']        0.005\n",
      "\tmax_weight          1\n",
      "\tmin_tons['bands']  -0.6\n",
      "\tmin_tons['coils']   0.1\n",
      "\tmin_tons['plate']   0.4\n",
      "\ttons_produced       1\n",
      "\n",
      "Coefficients of X['coils']:\n",
      "\tTime['reheat']      0.005\n",
      "\tTime['roll']        0.00714286\n",
      "\tmax_weight          1\n",
      "\tmin_tons['bands']   0.4\n",
      "\tmin_tons['coils']  -0.9\n",
      "\tmin_tons['plate']   0.4\n",
      "\ttons_produced       1\n",
      "\n",
      "Coefficients of X['plate']:\n",
      "\tTime['reheat']      0.005\n",
      "\tTime['roll']        0.00625\n",
      "\tmax_weight          1\n",
      "\tmin_tons['bands']   0.4\n",
      "\tmin_tons['coils']   0.1\n",
      "\tmin_tons['plate']  -0.6\n",
      "\ttons_produced       1\n",
      "\n"
     ]
    }
   ],
   "source": [
    "for variable in variables:\n",
    "    ampl.eval('expand X[\"{}\"];'.format(variable))"
   ]
  },
  {
   "cell_type": "code",
   "execution_count": 203,
   "metadata": {},
   "outputs": [
    {
     "name": "stdout",
     "output_type": "stream",
     "text": [
      "_nvars = 3\n",
      "_ncons = 6\n",
      "\n"
     ]
    }
   ],
   "source": [
    "ampl.eval('display _nvars, _ncons;')"
   ]
  },
  {
   "cell_type": "code",
   "execution_count": 204,
   "metadata": {},
   "outputs": [
    {
     "name": "stdout",
     "output_type": "stream",
     "text": [
      "minos\n",
      "cplex\n"
     ]
    }
   ],
   "source": [
    "print(ampl.getOption('solver'))\n",
    "ampl.setOption('solver','cplex')\n",
    "print(ampl.getOption('solver'))"
   ]
  },
  {
   "cell_type": "code",
   "execution_count": 205,
   "metadata": {},
   "outputs": [
    {
     "name": "stdout",
     "output_type": "stream",
     "text": [
      "CPLEX 12.8.0.0: optimal solution; objective 6500\n",
      "3 dual simplex iterations (0 in phase I)\n"
     ]
    }
   ],
   "source": [
    "ampl.solve()"
   ]
  },
  {
   "cell_type": "code",
   "execution_count": 206,
   "metadata": {},
   "outputs": [
    {
     "name": "stdout",
     "output_type": "stream",
     "text": [
      "6500.0\n"
     ]
    }
   ],
   "source": [
    "print(ampl.getObjective('tons_produced').get().value())"
   ]
  },
  {
   "cell_type": "markdown",
   "metadata": {},
   "source": [
    "#### Shadow Price or Dual Price or Marginal Price"
   ]
  },
  {
   "cell_type": "code",
   "execution_count": 207,
   "metadata": {},
   "outputs": [
    {
     "name": "stdout",
     "output_type": "stream",
     "text": [
      "tons_produced = 6500\n",
      "\n",
      "   index0    |  Time.dual  \n",
      "  'reheat'   |      0      \n",
      "   'roll'    |      0      \n",
      "\n",
      "max_weight.dual\n",
      "     1      \n",
      "\n",
      "   index0    | min_tons.dual\n",
      "  'bands'    |      0      \n",
      "  'coils'    |      0      \n",
      "  'plate'    |      0      \n",
      "\n"
     ]
    }
   ],
   "source": [
    "ampl.eval('display tons_produced;')\n",
    "for i in ampl.getConstraints():\n",
    "    print(i[1].getValues())\n",
    "#print(ampl.getConstraint('Time').getValues())"
   ]
  },
  {
   "cell_type": "markdown",
   "metadata": {},
   "source": [
    "### Decision Variable Solution and Reduced Cost"
   ]
  },
  {
   "cell_type": "code",
   "execution_count": 208,
   "metadata": {},
   "outputs": [
    {
     "data": {
      "text/html": [
       "<div>\n",
       "<style scoped>\n",
       "    .dataframe tbody tr th:only-of-type {\n",
       "        vertical-align: middle;\n",
       "    }\n",
       "\n",
       "    .dataframe tbody tr th {\n",
       "        vertical-align: top;\n",
       "    }\n",
       "\n",
       "    .dataframe thead th {\n",
       "        text-align: right;\n",
       "    }\n",
       "</style>\n",
       "<table border=\"1\" class=\"dataframe\">\n",
       "  <thead>\n",
       "    <tr style=\"text-align: right;\">\n",
       "      <th></th>\n",
       "      <th>X_LowerBound</th>\n",
       "      <th>X_Solution</th>\n",
       "      <th>X_UpperBound</th>\n",
       "      <th>X_ReducedCosts</th>\n",
       "    </tr>\n",
       "    <tr>\n",
       "      <th>DecisionVariable_X</th>\n",
       "      <th></th>\n",
       "      <th></th>\n",
       "      <th></th>\n",
       "      <th></th>\n",
       "    </tr>\n",
       "  </thead>\n",
       "  <tbody>\n",
       "    <tr>\n",
       "      <th>bands</th>\n",
       "      <td>0.0</td>\n",
       "      <td>2600.0</td>\n",
       "      <td>6000.0</td>\n",
       "      <td>0.0</td>\n",
       "    </tr>\n",
       "    <tr>\n",
       "      <th>coils</th>\n",
       "      <td>0.0</td>\n",
       "      <td>650.0</td>\n",
       "      <td>4000.0</td>\n",
       "      <td>0.0</td>\n",
       "    </tr>\n",
       "    <tr>\n",
       "      <th>plate</th>\n",
       "      <td>0.0</td>\n",
       "      <td>3250.0</td>\n",
       "      <td>3500.0</td>\n",
       "      <td>0.0</td>\n",
       "    </tr>\n",
       "  </tbody>\n",
       "</table>\n",
       "</div>"
      ],
      "text/plain": [
       "                    X_LowerBound  X_Solution  X_UpperBound  X_ReducedCosts\n",
       "DecisionVariable_X                                                        \n",
       "bands                        0.0      2600.0        6000.0             0.0\n",
       "coils                        0.0       650.0        4000.0             0.0\n",
       "plate                        0.0      3250.0        3500.0             0.0"
      ]
     },
     "execution_count": 208,
     "metadata": {},
     "output_type": "execute_result"
    }
   ],
   "source": [
    "X_result = list()\n",
    "for p in variables:\n",
    "    X_result.append([\n",
    "        p,\n",
    "        ampl.getVariable('X').get(p).lb(), \n",
    "        ampl.getVariable('X').get(p).value(),\n",
    "        ampl.getVariable('X').get(p).ub(),\n",
    "        ampl.getVariable('X').get(p).rc()\n",
    "    ])\n",
    "df_X_result = pd.DataFrame(X_result)\n",
    "df_X_result.rename(columns={0:'DecisionVariable_X',\n",
    "                            1:'X_LowerBound',\n",
    "                            2:'X_Solution',\n",
    "                            3:'X_UpperBound',\n",
    "                            4:'X_ReducedCosts'},\n",
    "                   inplace=True)\n",
    "df_X_result.set_index('DecisionVariable_X',inplace=True)\n",
    "df_X_result"
   ]
  },
  {
   "cell_type": "code",
   "execution_count": 209,
   "metadata": {},
   "outputs": [
    {
     "name": "stdout",
     "output_type": "stream",
     "text": [
      "   index0    |      X      \n",
      "  'bands'    |     2600    \n",
      "  'coils'    |     650     \n",
      "  'plate'    |     3250    \n",
      "\n",
      "   index0    |    X.val    \n",
      "  'bands'    |     2600    \n",
      "  'coils'    |     650     \n",
      "  'plate'    |     3250    \n",
      "\n",
      "[('bands', 2600.0), ('coils', 650.0), ('plate', 3250.0)]\n",
      "{'bands': 2600.0, 'coils': 650.0, 'plate': 3250.0}\n"
     ]
    }
   ],
   "source": [
    "print(ampl.getData('X'))\n",
    "values = ampl.getVariable('X').getValues()\n",
    "print(values)\n",
    "df = values.toPandas()\n",
    "print(values.toList())\n",
    "print(values.toDict())"
   ]
  },
  {
   "cell_type": "code",
   "execution_count": 210,
   "metadata": {},
   "outputs": [
    {
     "data": {
      "text/html": [
       "<div>\n",
       "<style scoped>\n",
       "    .dataframe tbody tr th:only-of-type {\n",
       "        vertical-align: middle;\n",
       "    }\n",
       "\n",
       "    .dataframe tbody tr th {\n",
       "        vertical-align: top;\n",
       "    }\n",
       "\n",
       "    .dataframe thead th {\n",
       "        text-align: right;\n",
       "    }\n",
       "</style>\n",
       "<table border=\"1\" class=\"dataframe\">\n",
       "  <thead>\n",
       "    <tr style=\"text-align: right;\">\n",
       "      <th></th>\n",
       "      <th>X.val</th>\n",
       "      <th>X.reheatRate</th>\n",
       "      <th>X.rollRate</th>\n",
       "      <th>X.reheat</th>\n",
       "      <th>X.roll</th>\n",
       "      <th>X.ratio</th>\n",
       "    </tr>\n",
       "  </thead>\n",
       "  <tbody>\n",
       "    <tr>\n",
       "      <th>bands</th>\n",
       "      <td>2600.0</td>\n",
       "      <td>0.005</td>\n",
       "      <td>0.005000</td>\n",
       "      <td>13.00</td>\n",
       "      <td>13.000000</td>\n",
       "      <td>0.4</td>\n",
       "    </tr>\n",
       "    <tr>\n",
       "      <th>coils</th>\n",
       "      <td>650.0</td>\n",
       "      <td>0.005</td>\n",
       "      <td>0.007143</td>\n",
       "      <td>3.25</td>\n",
       "      <td>4.642857</td>\n",
       "      <td>0.1</td>\n",
       "    </tr>\n",
       "    <tr>\n",
       "      <th>plate</th>\n",
       "      <td>3250.0</td>\n",
       "      <td>0.005</td>\n",
       "      <td>0.006250</td>\n",
       "      <td>16.25</td>\n",
       "      <td>20.312500</td>\n",
       "      <td>0.5</td>\n",
       "    </tr>\n",
       "  </tbody>\n",
       "</table>\n",
       "</div>"
      ],
      "text/plain": [
       "        X.val  X.reheatRate  X.rollRate  X.reheat     X.roll  X.ratio\n",
       "bands  2600.0         0.005    0.005000     13.00  13.000000      0.4\n",
       "coils   650.0         0.005    0.007143      3.25   4.642857      0.1\n",
       "plate  3250.0         0.005    0.006250     16.25  20.312500      0.5"
      ]
     },
     "execution_count": 210,
     "metadata": {},
     "output_type": "execute_result"
    }
   ],
   "source": [
    "df['X.reheatRate'] = 1/200\n",
    "df['X.rollRate'] = [1/i for i in (200,140,160)]\n",
    "df['X.reheat']=df['X.val']*df['X.reheatRate']\n",
    "df['X.roll']=df['X.val']*df['X.rollRate']\n",
    "df['X.ratio']=df['X.val']/df['X.val'].sum()\n",
    "df"
   ]
  },
  {
   "cell_type": "code",
   "execution_count": 211,
   "metadata": {},
   "outputs": [
    {
     "name": "stdout",
     "output_type": "stream",
     "text": [
      "Reheat:32.5 Roll:37.95535714285714\n",
      "Total Production = 6500.0 tons\n",
      "total profit under new objective function = 178750.0\n"
     ]
    }
   ],
   "source": [
    "df_ = ampl.getEntity('dollarProfitPerTon').getValues().toPandas()\n",
    "df_ = df.join(df_)\n",
    "print('Reheat:{} Roll:{}'.format(df['X.reheat'].sum(),df['X.roll'].sum()))\n",
    "print('Total Production = {} tons'.format(df['X.val'].sum()))\n",
    "print('total profit under new objective function = {}'.format((df_.loc[:,'X.val'] * df_.loc[:,'dollarProfitPerTon']).sum()))"
   ]
  },
  {
   "cell_type": "markdown",
   "metadata": {},
   "source": [
    "## Summary\n",
    "\n",
    "(a) Both constraints were binding in the original case where they were inequality (less than or equal to) constraints. We can see the constraints are already at their limit. Now making these constraints an equality constraint has no change to the solution because, we just forced the constraints to be at their limit always.\n",
    "\n",
    "(b) Adding max_weight constraint:\n",
    "\n",
    "1. reduced objective function from $\\$$190071.42 to $\\$$183791.66. This is a direct result of limiting the total tons to 6500. Without this max_weight constraint, the total tons were 7000. \n",
    "\n",
    "2. the time constraint for reheat stage is no more binding. without the max_weight constraint, it was binding with a shadow price (dual price) of $\\$$1799.99. Thus also evident when we sum up the hours in the reheat stage, it has not reached the limit of 35 hours. Hence this reheat stage constraint is not binding. This is one of the main differences with the addition of max_weight constraint. \n",
    "\n",
    "3. the time constraint for roll stage is still binding but at a much lower shadow price. Its lowered from $\\$$3200 to $\\$$2333.33\n",
    "\n",
    "4. the max_weight is binding with a shadow price of $13.33\n",
    "\n",
    "5. the reduced cost for each variable bands, coils and plate has increased. With the addition of max_weight constraint, coils are now more favorable. Without this constraint, coils were not favorable and infact its production had a negative reduced cost. \n",
    "\n",
    "6. finally, we also verify that the max_weight constraint is satisfied when we sum up the tons for bands, coils and plate.\n",
    "\n",
    "(c) Changed objective function from maximizing profits to maximizing tons:\n",
    "\n",
    "1. the objective function is now solved to 6500. This was evident from the previous example itself because, the max_weight constraint had a limit of 6500 and it was binding with a non-zero shadow price. Therefore the maximizing tons produced objective function would solve to 6500 tons. Note that the objective function is now solving for tons instead of dollars. \n",
    "\n",
    "2. both the time constraints are no more binding. We can see that the reheat and roll times are 32.5 hours and 34.5 hours for week which is much below their constraint limits of 35 hours and 40 hours for a week.\n",
    "\n",
    "3. the max_weight constraint was binding with a shadow price (dual price) of 1 unit. This is indicating that the we just hit the limit on this constraint. \n",
    "\n",
    "4. finally the profits are now significantly lower at $\\$$168,000. We could have earned much better if we were maximizing profits which yeilded $\\$$183,791. In both cases, all the constraints were respected, but when we are focusing on maximizing tons we don't care much the optimal distribution of resources across the decision variables (bands, coils, plate). In the maximizing profits case the distribution was  1541.66 tons, 1458.33 tons, 3500.00 tons. In the maximizing tons produced case the distribution is 5250, 500, 750. This solve seems to want to maximize the first variable and set the other two to its minimum bounds.  \n",
    "\n",
    "(d) The minimum Tons required for each product was changed to a ratio based on the equation above. The distribution ratio equation was defined as a constraint. The minTons variable was left in the model but never used in the objective function or constraint definition.\n",
    "\n",
    "1. Interestingly adding this distribution ratio equation helped the solver find a better solution - by making sure that the distribution of bands coils and plate was a held to a certain minimum distribution ratio. The profits have increased from $\\$$168000.0 to $\\$$178750.0.\n",
    "\n",
    "2. None of the reheat and roll stage constraints are binding. The reheat constraint is at 32.5 hours and roll constraint is at 37.95 hours. The reduced cost of all decision variables are 0. It is interesting to note that, we were able to improve the profits with still hours left in the reheat and roll stage.\n",
    "\n",
    "3. When we changed the minimum share ratios from 0.4, 0.1, 0.4 to 0.5, 0.1, 0.5 for bands, coils and plate respectively: the solutions for decision variables are 0 and objective function is 0. This is because, summation of ratios are greater than 1. It is not possible to satisfy this constraint unless decision variables are 0. Recall that to get an infeasible solution, we need to find an optimal solution that will not violate any of the constraints. In this case zeros for all decision variables is the only value that maximizes the objective function while still satisfying all the constraints."
   ]
  },
  {
   "cell_type": "code",
   "execution_count": null,
   "metadata": {},
   "outputs": [],
   "source": []
  }
 ],
 "metadata": {
  "kernelspec": {
   "display_name": "Python 3",
   "language": "python",
   "name": "python3"
  },
  "language_info": {
   "codemirror_mode": {
    "name": "ipython",
    "version": 3
   },
   "file_extension": ".py",
   "mimetype": "text/x-python",
   "name": "python",
   "nbconvert_exporter": "python",
   "pygments_lexer": "ipython3",
   "version": "3.7.1"
  }
 },
 "nbformat": 4,
 "nbformat_minor": 2
}
