{
 "cells": [
  {
   "cell_type": "markdown",
   "metadata": {},
   "source": [
    "### Exercise 1-3. \n",
    "\n",
    "This exercise deals with some issues of ‘‘sensitivity’’ in the steel models.\n",
    "\n",
    "(a) For the linear program of Figures 1-5a and 1-5b, display Time and Make.rc. What do these values tell you about the solution? (You may wish to review the explanation of marginal values and reduced costs in Section 1.6.)\n",
    "\n",
    "(b) Explain why the reheat time constraints added in Figure 1-6a result in a higher production of plate and a lower production of bands.\n",
    "\n",
    "(c) Use AMPL to verify the following statements: If the available reheat time is increased from 35 to 36 in the data of Figure 1-6b, then the profit goes up by $\\$$1800 as predicted in Section 1.6. If the reheat time is further increased to 37, the profit goes up by another $\\$$1800. However, if the reheat time is increased to 38, there is a smaller increase in the profit, and further increases past 38 have no effect on the optimal profit at all. To change the reheat time to, say, 26 without changing and reading the data file over again, type the command let avail[\"reheat\"] := 36; By trying some other values of the reheat time, confirm that the profit increases by $\\$$1800 per extra hour for any number of hours between 35 and 37 9/14, but that any increase in the reheat time beyond 37 9/14 hours doesn’t give any further profit. Draw a plot of the profit versus the number of reheat hours available, for hours ≥ 35.\n",
    "\n",
    "(d) To find the slope of the plot from (c) — profit versus reheat time available — at any particular reheat time value, you need only look at the marginal value of Time[\"reheat\"]. Using this observation as an aid, extend your plot from (c) down to 25 hours of reheat time. Verify that the slope of the plot remains at $6000 per hour from 25 hours down to less than 12 hours of reheat time. Explain what happens when the available reheat time drops to 11 hours"
   ]
  },
  {
   "cell_type": "code",
   "execution_count": 102,
   "metadata": {},
   "outputs": [],
   "source": [
    "import pandas as pd\n",
    "from amplpy import AMPL, Environment"
   ]
  },
  {
   "cell_type": "code",
   "execution_count": 103,
   "metadata": {},
   "outputs": [],
   "source": [
    "ampl = AMPL(Environment('/opt/ampl.linux64'))"
   ]
  },
  {
   "cell_type": "code",
   "execution_count": 136,
   "metadata": {},
   "outputs": [],
   "source": [
    "ampl.reset()"
   ]
  },
  {
   "cell_type": "code",
   "execution_count": 137,
   "metadata": {},
   "outputs": [],
   "source": [
    "ampl.read('../Model3c.mod')"
   ]
  },
  {
   "cell_type": "code",
   "execution_count": 138,
   "metadata": {},
   "outputs": [],
   "source": [
    "ampl.readData('../Model3c.dat')"
   ]
  },
  {
   "cell_type": "code",
   "execution_count": 139,
   "metadata": {},
   "outputs": [],
   "source": [
    "variables = ('bands','coils','plate')\n",
    "time_constraints = ()"
   ]
  },
  {
   "cell_type": "code",
   "execution_count": 140,
   "metadata": {},
   "outputs": [
    {
     "name": "stdout",
     "output_type": "stream",
     "text": [
      "subject to Time: sum{p in Products} 1/tonsPerHour[p]*X[p] <= maxHours;\n",
      "\n",
      "Variables and their bounds\n",
      "var X['bands'] >=1000, <=6000;\n",
      "var X['coils'] >=500, <=4000;\n",
      "var X['plate'] >=750, <=3500;\n",
      "\n",
      "Constraints and their limits\n",
      "subject to Time:\n",
      "\t0.005*X['bands'] + 0.00714286*X['coils'] + 0.00625*X['plate'] <= 40;\n",
      "\n",
      "Objective Function\n",
      "maximize Total_Profit:\n",
      "\t25*X['bands'] + 30*X['coils'] + 29*X['plate'];\n"
     ]
    }
   ],
   "source": [
    "print(ampl.getConstraint('Time'))\n",
    "#print(ampl.getConstraint('Time').get('reheat'))\n",
    "#print(ampl.getConstraint('Time').get('roll'))\n",
    "print()\n",
    "print('Variables and their bounds')\n",
    "for i in ampl.getVariables():\n",
    "    [print(i[1].get(j)) for j in variables]\n",
    "print()\n",
    "print('Constraints and their limits')\n",
    "for i in ampl.getConstraints():\n",
    "    if time_constraints == (): \n",
    "        print(i[1].get())\n",
    "    #if i[0] == 'Time': [print(i[1].get(j)) for j in time_constraints]\n",
    "    #if i[0] == 'max_weight': print(i[1].get())\n",
    "    #if i[0] == 'min_tons': [print(i[1].get(j)) for j in variables]\n",
    "print()\n",
    "print('Objective Function')\n",
    "print(ampl.getObjective('Total_Profit').get())"
   ]
  },
  {
   "cell_type": "code",
   "execution_count": 141,
   "metadata": {},
   "outputs": [
    {
     "name": "stdout",
     "output_type": "stream",
     "text": [
      "maximize Total_Profit:\n",
      "\t25*X['bands'] + 30*X['coils'] + 29*X['plate'];\n",
      "\n",
      "subject to Time:\n",
      "\t0.005*X['bands'] + 0.00714286*X['coils'] + 0.00625*X['plate'] <= 40;\n",
      "\n"
     ]
    }
   ],
   "source": [
    "ampl.eval('expand Total_Profit;')\n",
    "ampl.eval('expand Time;')"
   ]
  },
  {
   "cell_type": "code",
   "execution_count": 142,
   "metadata": {},
   "outputs": [
    {
     "name": "stdout",
     "output_type": "stream",
     "text": [
      "Coefficients of X['bands']:\n",
      "\tTime           0.005\n",
      "\tTotal_Profit  25\n",
      "\n",
      "Coefficients of X['coils']:\n",
      "\tTime           0.00714286\n",
      "\tTotal_Profit  30\n",
      "\n",
      "Coefficients of X['plate']:\n",
      "\tTime           0.00625\n",
      "\tTotal_Profit  29\n",
      "\n"
     ]
    }
   ],
   "source": [
    "for variable in variables:\n",
    "    ampl.eval('expand X[\"{}\"];'.format(variable))"
   ]
  },
  {
   "cell_type": "code",
   "execution_count": 143,
   "metadata": {},
   "outputs": [
    {
     "name": "stdout",
     "output_type": "stream",
     "text": [
      "_nvars = 3\n",
      "_ncons = 1\n",
      "\n"
     ]
    }
   ],
   "source": [
    "ampl.eval('display _nvars, _ncons;')"
   ]
  },
  {
   "cell_type": "code",
   "execution_count": 144,
   "metadata": {},
   "outputs": [
    {
     "name": "stdout",
     "output_type": "stream",
     "text": [
      "cplex\n",
      "cplex\n"
     ]
    }
   ],
   "source": [
    "print(ampl.getOption('solver'))\n",
    "ampl.setOption('solver','cplex')\n",
    "print(ampl.getOption('solver'))"
   ]
  },
  {
   "cell_type": "code",
   "execution_count": 145,
   "metadata": {},
   "outputs": [
    {
     "name": "stdout",
     "output_type": "stream",
     "text": [
      "CPLEX 12.8.0.0: optimal solution; objective 194828.5714\n",
      "1 dual simplex iterations (0 in phase I)\n"
     ]
    }
   ],
   "source": [
    "ampl.solve()"
   ]
  },
  {
   "cell_type": "code",
   "execution_count": 146,
   "metadata": {},
   "outputs": [
    {
     "name": "stdout",
     "output_type": "stream",
     "text": [
      "194828.57142857142\n"
     ]
    }
   ],
   "source": [
    "print(ampl.getObjective('Total_Profit').get().value())"
   ]
  },
  {
   "cell_type": "markdown",
   "metadata": {},
   "source": [
    "#### Shadow Price or Dual Price or Marginal Price"
   ]
  },
  {
   "cell_type": "code",
   "execution_count": 147,
   "metadata": {},
   "outputs": [
    {
     "name": "stdout",
     "output_type": "stream",
     "text": [
      "Total_Profit = 194829\n",
      "\n",
      " Time.dual  \n",
      "    4640    \n",
      "\n"
     ]
    }
   ],
   "source": [
    "ampl.eval('display Total_Profit;')\n",
    "for i in ampl.getConstraints():\n",
    "    print(i[1].getValues())\n",
    "#print(ampl.getConstraint('Time').getValues())"
   ]
  },
  {
   "cell_type": "markdown",
   "metadata": {},
   "source": [
    "### Decision Variable Solution and Reduced Cost"
   ]
  },
  {
   "cell_type": "code",
   "execution_count": 148,
   "metadata": {},
   "outputs": [
    {
     "data": {
      "text/html": [
       "<div>\n",
       "<style scoped>\n",
       "    .dataframe tbody tr th:only-of-type {\n",
       "        vertical-align: middle;\n",
       "    }\n",
       "\n",
       "    .dataframe tbody tr th {\n",
       "        vertical-align: top;\n",
       "    }\n",
       "\n",
       "    .dataframe thead th {\n",
       "        text-align: right;\n",
       "    }\n",
       "</style>\n",
       "<table border=\"1\" class=\"dataframe\">\n",
       "  <thead>\n",
       "    <tr style=\"text-align: right;\">\n",
       "      <th></th>\n",
       "      <th>X_LowerBound</th>\n",
       "      <th>X_Solution</th>\n",
       "      <th>X_UpperBound</th>\n",
       "      <th>X_ReducedCosts</th>\n",
       "    </tr>\n",
       "    <tr>\n",
       "      <th>DecisionVariable_X</th>\n",
       "      <th></th>\n",
       "      <th></th>\n",
       "      <th></th>\n",
       "      <th></th>\n",
       "    </tr>\n",
       "  </thead>\n",
       "  <tbody>\n",
       "    <tr>\n",
       "      <th>bands</th>\n",
       "      <td>1000.0</td>\n",
       "      <td>6000.000000</td>\n",
       "      <td>6000.0</td>\n",
       "      <td>1.800000</td>\n",
       "    </tr>\n",
       "    <tr>\n",
       "      <th>coils</th>\n",
       "      <td>500.0</td>\n",
       "      <td>500.000000</td>\n",
       "      <td>4000.0</td>\n",
       "      <td>-3.142857</td>\n",
       "    </tr>\n",
       "    <tr>\n",
       "      <th>plate</th>\n",
       "      <td>750.0</td>\n",
       "      <td>1028.571429</td>\n",
       "      <td>3500.0</td>\n",
       "      <td>0.000000</td>\n",
       "    </tr>\n",
       "  </tbody>\n",
       "</table>\n",
       "</div>"
      ],
      "text/plain": [
       "                    X_LowerBound   X_Solution  X_UpperBound  X_ReducedCosts\n",
       "DecisionVariable_X                                                         \n",
       "bands                     1000.0  6000.000000        6000.0        1.800000\n",
       "coils                      500.0   500.000000        4000.0       -3.142857\n",
       "plate                      750.0  1028.571429        3500.0        0.000000"
      ]
     },
     "execution_count": 148,
     "metadata": {},
     "output_type": "execute_result"
    }
   ],
   "source": [
    "X_result = list()\n",
    "for p in variables:\n",
    "    X_result.append([\n",
    "        p,\n",
    "        ampl.getVariable('X').get(p).lb(), \n",
    "        ampl.getVariable('X').get(p).value(),\n",
    "        ampl.getVariable('X').get(p).ub(),\n",
    "        ampl.getVariable('X').get(p).rc()\n",
    "    ])\n",
    "df_X_result = pd.DataFrame(X_result)\n",
    "df_X_result.rename(columns={0:'DecisionVariable_X',\n",
    "                            1:'X_LowerBound',\n",
    "                            2:'X_Solution',\n",
    "                            3:'X_UpperBound',\n",
    "                            4:'X_ReducedCosts'},\n",
    "                   inplace=True)\n",
    "df_X_result.set_index('DecisionVariable_X',inplace=True)\n",
    "df_X_result"
   ]
  },
  {
   "cell_type": "code",
   "execution_count": 149,
   "metadata": {},
   "outputs": [
    {
     "name": "stdout",
     "output_type": "stream",
     "text": [
      "   index0    |      X      \n",
      "  'bands'    |     6000    \n",
      "  'coils'    |     500     \n",
      "  'plate'    | 1028.5714285714287\n",
      "\n",
      "   index0    |    X.val    \n",
      "  'bands'    |     6000    \n",
      "  'coils'    |     500     \n",
      "  'plate'    | 1028.5714285714287\n",
      "\n",
      "[('bands', 6000.0), ('coils', 500.0), ('plate', 1028.5714285714287)]\n",
      "{'bands': 6000.0, 'coils': 500.0, 'plate': 1028.5714285714287}\n"
     ]
    }
   ],
   "source": [
    "print(ampl.getData('X'))\n",
    "values = ampl.getVariable('X').getValues()\n",
    "print(values)\n",
    "df = values.toPandas()\n",
    "print(values.toList())\n",
    "print(values.toDict())"
   ]
  },
  {
   "cell_type": "code",
   "execution_count": 150,
   "metadata": {},
   "outputs": [
    {
     "data": {
      "text/html": [
       "<div>\n",
       "<style scoped>\n",
       "    .dataframe tbody tr th:only-of-type {\n",
       "        vertical-align: middle;\n",
       "    }\n",
       "\n",
       "    .dataframe tbody tr th {\n",
       "        vertical-align: top;\n",
       "    }\n",
       "\n",
       "    .dataframe thead th {\n",
       "        text-align: right;\n",
       "    }\n",
       "</style>\n",
       "<table border=\"1\" class=\"dataframe\">\n",
       "  <thead>\n",
       "    <tr style=\"text-align: right;\">\n",
       "      <th></th>\n",
       "      <th>X.val</th>\n",
       "      <th>X.rollRate</th>\n",
       "      <th>X.roll</th>\n",
       "      <th>X.ratio</th>\n",
       "    </tr>\n",
       "  </thead>\n",
       "  <tbody>\n",
       "    <tr>\n",
       "      <th>bands</th>\n",
       "      <td>6000.000000</td>\n",
       "      <td>0.005000</td>\n",
       "      <td>30.000000</td>\n",
       "      <td>0.796964</td>\n",
       "    </tr>\n",
       "    <tr>\n",
       "      <th>coils</th>\n",
       "      <td>500.000000</td>\n",
       "      <td>0.007143</td>\n",
       "      <td>3.571429</td>\n",
       "      <td>0.066414</td>\n",
       "    </tr>\n",
       "    <tr>\n",
       "      <th>plate</th>\n",
       "      <td>1028.571429</td>\n",
       "      <td>0.006250</td>\n",
       "      <td>6.428571</td>\n",
       "      <td>0.136622</td>\n",
       "    </tr>\n",
       "  </tbody>\n",
       "</table>\n",
       "</div>"
      ],
      "text/plain": [
       "             X.val  X.rollRate     X.roll   X.ratio\n",
       "bands  6000.000000    0.005000  30.000000  0.796964\n",
       "coils   500.000000    0.007143   3.571429  0.066414\n",
       "plate  1028.571429    0.006250   6.428571  0.136622"
      ]
     },
     "execution_count": 150,
     "metadata": {},
     "output_type": "execute_result"
    }
   ],
   "source": [
    "df['X.rollRate'] = [1/i for i in (200,140,160)]\n",
    "df['X.roll']=df['X.val']*df['X.rollRate']\n",
    "df['X.ratio']=df['X.val']/df['X.val'].sum()\n",
    "df"
   ]
  },
  {
   "cell_type": "code",
   "execution_count": 151,
   "metadata": {},
   "outputs": [
    {
     "name": "stdout",
     "output_type": "stream",
     "text": [
      "Roll:40.0\n",
      "Total Production = 7528.571428571428 tons\n",
      "total profit under new objective function = 194828.57142857142\n"
     ]
    }
   ],
   "source": [
    "df_ = ampl.getEntity('dollarProfitPerTon').getValues().toPandas()\n",
    "df_ = df.join(df_)\n",
    "print('Roll:{}'.format(df['X.roll'].sum()))\n",
    "print('Total Production = {} tons'.format(df['X.val'].sum()))\n",
    "print('total profit under new objective function = {}'.format((df_.loc[:,'X.val'] * df_.loc[:,'dollarProfitPerTon']).sum()))"
   ]
  },
  {
   "cell_type": "markdown",
   "metadata": {},
   "source": [
    "## Summary\n",
    "\n",
    "(a) Interpretation of Shadow Price/Dual Price and Reduced Cost:\n",
    "\n",
    "1. Shadow Price (Dual Price): The objective function has value of $\\$$194828.57 and the Time constraint, has a shadow price of $\\$$4640. This means that if we increased the time constraint limit of 40 hours by 1 hour to 41 hour, then the objective function (total profit) would increase from $\\$$194828.57 to $\\$$199468.57 ($\\$$199468.57-$\\$$194828.57 = $\\$$4640.0)\n",
    "\n",
    "2. Reduced Cost: Firstly reduced cost applies to decision variables. Reduced cost is non zero for decision variables that are solved at their min or max bounds. In this case bands are at max of 6000 tons and has a reduced cost of $\\$$1.8 while coils are at min of 500 tons and has a reduced cost of $\\$$-3.14. \n",
    "\n",
    "    * If max bound of bands was increased by 1 unit from 6000 tons to 6001, this would increase the objective function (total profit) from $\\$$194828.57 to $\\$$194830.37 ($\\$$194830.37-$\\$$194828.57=$\\$$1.8=Reduced Cost of 699).\n",
    "    * If min bound of coils was increased by 1 unit from 500 tons to 501, this would decrease the objective function (total profit) from $\\$$194828.57142857142 to $\\$$194825.42857142858 ($\\$$194828.57142857142-$\\$$194825.42857142858=$\\$$3.142857142840512)."
   ]
  },
  {
   "cell_type": "code",
   "execution_count": 117,
   "metadata": {},
   "outputs": [
    {
     "data": {
      "text/plain": [
       "-3.142857142840512"
      ]
     },
     "execution_count": 117,
     "metadata": {},
     "output_type": "execute_result"
    }
   ],
   "source": [
    "194825.42857142858-194828.57142857142"
   ]
  },
  {
   "cell_type": "code",
   "execution_count": null,
   "metadata": {},
   "outputs": [],
   "source": []
  }
 ],
 "metadata": {
  "kernelspec": {
   "display_name": "Python 3",
   "language": "python",
   "name": "python3"
  },
  "language_info": {
   "codemirror_mode": {
    "name": "ipython",
    "version": 3
   },
   "file_extension": ".py",
   "mimetype": "text/x-python",
   "name": "python",
   "nbconvert_exporter": "python",
   "pygments_lexer": "ipython3",
   "version": "3.7.1"
  }
 },
 "nbformat": 4,
 "nbformat_minor": 2
}
