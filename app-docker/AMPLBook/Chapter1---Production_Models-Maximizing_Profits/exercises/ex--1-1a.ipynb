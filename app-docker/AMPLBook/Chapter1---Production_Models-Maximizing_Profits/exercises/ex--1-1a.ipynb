{
 "cells": [
  {
   "cell_type": "code",
   "execution_count": 10,
   "metadata": {},
   "outputs": [],
   "source": [
    "import pandas as pd\n",
    "from amplpy import AMPL, Environment"
   ]
  },
  {
   "cell_type": "code",
   "execution_count": 11,
   "metadata": {},
   "outputs": [],
   "source": [
    "ampl = AMPL(Environment('/opt/ampl.linux64'))"
   ]
  },
  {
   "cell_type": "code",
   "execution_count": 12,
   "metadata": {},
   "outputs": [],
   "source": [
    "ampl.reset()"
   ]
  },
  {
   "cell_type": "code",
   "execution_count": 13,
   "metadata": {},
   "outputs": [],
   "source": [
    "ampl.read('./Ex--1-1a.mod')"
   ]
  },
  {
   "cell_type": "code",
   "execution_count": 14,
   "metadata": {},
   "outputs": [],
   "source": [
    "ampl.readData('./Ex--1-1a.dat')"
   ]
  },
  {
   "cell_type": "code",
   "execution_count": 15,
   "metadata": {},
   "outputs": [
    {
     "name": "stdout",
     "output_type": "stream",
     "text": [
      "maximize audience_coverage:\n",
      "\t1800000*X['number_of_minutes_in_TV'] + \n",
      "\t1e+06*X['number_of_pages_in_magazine'];\n",
      "subject to Budget:\n",
      "\t20000*X['number_of_minutes_in_TV'] + \n",
      "\t10000*X['number_of_pages_in_magazine'] <= 1e+06;\n"
     ]
    }
   ],
   "source": [
    "print(ampl.getObjective('audience_coverage').get())\n",
    "print(ampl.getConstraint('Budget').get())"
   ]
  },
  {
   "cell_type": "code",
   "execution_count": 16,
   "metadata": {},
   "outputs": [
    {
     "name": "stdout",
     "output_type": "stream",
     "text": [
      "maximize audience_coverage:\n",
      "\t1800000*X['number_of_minutes_in_TV'] + \n",
      "\t1e+06*X['number_of_pages_in_magazine'];\n",
      "\n",
      "subject to Budget:\n",
      "\t20000*X['number_of_minutes_in_TV'] + \n",
      "\t10000*X['number_of_pages_in_magazine'] <= 1e+06;\n",
      "\n"
     ]
    }
   ],
   "source": [
    "ampl.eval('expand audience_coverage;')\n",
    "ampl.eval('expand Budget;')"
   ]
  },
  {
   "cell_type": "code",
   "execution_count": 17,
   "metadata": {},
   "outputs": [
    {
     "name": "stdout",
     "output_type": "stream",
     "text": [
      "Coefficients of X['number_of_minutes_in_TV']:\n",
      "\tBudget               20000\n",
      "\taudience_coverage  1800000\n",
      "\n",
      "Coefficients of X['number_of_pages_in_magazine']:\n",
      "\tBudget             10000\n",
      "\taudience_coverage  1e+06\n",
      "\n"
     ]
    }
   ],
   "source": [
    "ampl.eval('expand X[\"number_of_minutes_in_TV\"];')\n",
    "ampl.eval('expand X[\"number_of_pages_in_magazine\"];')"
   ]
  },
  {
   "cell_type": "code",
   "execution_count": 18,
   "metadata": {},
   "outputs": [
    {
     "name": "stdout",
     "output_type": "stream",
     "text": [
      "_nvars = 2\n",
      "_ncons = 1\n",
      "\n"
     ]
    }
   ],
   "source": [
    "ampl.eval('display _nvars, _ncons;')"
   ]
  },
  {
   "cell_type": "code",
   "execution_count": 19,
   "metadata": {},
   "outputs": [
    {
     "name": "stdout",
     "output_type": "stream",
     "text": [
      "MINOS 5.51: optimal solution found.\n",
      "1 iterations, objective 9.8e+07\n"
     ]
    }
   ],
   "source": [
    "ampl.solve()"
   ]
  },
  {
   "cell_type": "code",
   "execution_count": 20,
   "metadata": {},
   "outputs": [
    {
     "name": "stdout",
     "output_type": "stream",
     "text": [
      "98000000.0\n"
     ]
    }
   ],
   "source": [
    "print(ampl.getObjective('audience_coverage').get().value())"
   ]
  },
  {
   "cell_type": "markdown",
   "metadata": {},
   "source": [
    "#### Shadow Price or Dual Price or Marginal Price"
   ]
  },
  {
   "cell_type": "code",
   "execution_count": 21,
   "metadata": {},
   "outputs": [
    {
     "name": "stdout",
     "output_type": "stream",
     "text": [
      "Budget = 100\n",
      "\n",
      "Budget.dual \n",
      "100.00000000000001\n",
      "\n"
     ]
    }
   ],
   "source": [
    "ampl.eval('display Budget;')\n",
    "print(ampl.getConstraint('Budget').getValues())"
   ]
  },
  {
   "cell_type": "markdown",
   "metadata": {},
   "source": [
    "### Decision Variable Solution and Reduced Cost"
   ]
  },
  {
   "cell_type": "code",
   "execution_count": 22,
   "metadata": {},
   "outputs": [
    {
     "data": {
      "text/html": [
       "<div>\n",
       "<style scoped>\n",
       "    .dataframe tbody tr th:only-of-type {\n",
       "        vertical-align: middle;\n",
       "    }\n",
       "\n",
       "    .dataframe tbody tr th {\n",
       "        vertical-align: top;\n",
       "    }\n",
       "\n",
       "    .dataframe thead th {\n",
       "        text-align: right;\n",
       "    }\n",
       "</style>\n",
       "<table border=\"1\" class=\"dataframe\">\n",
       "  <thead>\n",
       "    <tr style=\"text-align: right;\">\n",
       "      <th></th>\n",
       "      <th>X_LowerBound</th>\n",
       "      <th>X_Solution</th>\n",
       "      <th>X_UpperBound</th>\n",
       "      <th>X_ReducedCosts</th>\n",
       "    </tr>\n",
       "    <tr>\n",
       "      <th>DecisionVariable_X</th>\n",
       "      <th></th>\n",
       "      <th></th>\n",
       "      <th></th>\n",
       "      <th></th>\n",
       "    </tr>\n",
       "  </thead>\n",
       "  <tbody>\n",
       "    <tr>\n",
       "      <th>number_of_minutes_in_TV</th>\n",
       "      <td>10.0</td>\n",
       "      <td>10.0</td>\n",
       "      <td>inf</td>\n",
       "      <td>-2.000000e+05</td>\n",
       "    </tr>\n",
       "    <tr>\n",
       "      <th>number_of_pages_in_magazine</th>\n",
       "      <td>0.0</td>\n",
       "      <td>80.0</td>\n",
       "      <td>inf</td>\n",
       "      <td>-1.164153e-10</td>\n",
       "    </tr>\n",
       "  </tbody>\n",
       "</table>\n",
       "</div>"
      ],
      "text/plain": [
       "                             X_LowerBound  X_Solution  X_UpperBound  \\\n",
       "DecisionVariable_X                                                    \n",
       "number_of_minutes_in_TV              10.0        10.0           inf   \n",
       "number_of_pages_in_magazine           0.0        80.0           inf   \n",
       "\n",
       "                             X_ReducedCosts  \n",
       "DecisionVariable_X                           \n",
       "number_of_minutes_in_TV       -2.000000e+05  \n",
       "number_of_pages_in_magazine   -1.164153e-10  "
      ]
     },
     "execution_count": 22,
     "metadata": {},
     "output_type": "execute_result"
    }
   ],
   "source": [
    "X_result = list()\n",
    "items = ('number_of_minutes_in_TV',\n",
    "        'number_of_pages_in_magazine')\n",
    "for p in items:\n",
    "    X_result.append([\n",
    "        p,\n",
    "        ampl.getVariable('X').get(p).lb(), \n",
    "        ampl.getVariable('X').get(p).value(),\n",
    "        ampl.getVariable('X').get(p).ub(),\n",
    "        ampl.getVariable('X').get(p).rc()\n",
    "    ])\n",
    "df_X_result = pd.DataFrame(X_result)\n",
    "df_X_result.rename(columns={0:'DecisionVariable_X',\n",
    "                            1:'X_LowerBound',\n",
    "                            2:'X_Solution',\n",
    "                            3:'X_UpperBound',\n",
    "                            4:'X_ReducedCosts'},\n",
    "                   inplace=True)\n",
    "df_X_result.set_index('DecisionVariable_X',inplace=True)\n",
    "df_X_result"
   ]
  },
  {
   "cell_type": "code",
   "execution_count": 23,
   "metadata": {},
   "outputs": [
    {
     "name": "stdout",
     "output_type": "stream",
     "text": [
      "   index0    |      X      \n",
      "'number_of_minutes_in_TV' |      10     \n",
      "'number_of_pages_in_magazine' |      80     \n",
      "\n",
      "   index0    |    X.val    \n",
      "'number_of_minutes_in_TV' |      10     \n",
      "'number_of_pages_in_magazine' |      80     \n",
      "\n",
      "                             X.val\n",
      "number_of_minutes_in_TV       10.0\n",
      "number_of_pages_in_magazine   80.0\n",
      "[('number_of_minutes_in_TV', 10.0), ('number_of_pages_in_magazine', 80.0)]\n",
      "{'number_of_minutes_in_TV': 10.0, 'number_of_pages_in_magazine': 80.0}\n"
     ]
    }
   ],
   "source": [
    "print(ampl.getData('X'))\n",
    "values = ampl.getVariable('X').getValues()\n",
    "print(values)\n",
    "print(values.toPandas())\n",
    "print(values.toList())\n",
    "print(values.toDict())"
   ]
  }
 ],
 "metadata": {
  "kernelspec": {
   "display_name": "Python 3",
   "language": "python",
   "name": "python3"
  },
  "language_info": {
   "codemirror_mode": {
    "name": "ipython",
    "version": 3
   },
   "file_extension": ".py",
   "mimetype": "text/x-python",
   "name": "python",
   "nbconvert_exporter": "python",
   "pygments_lexer": "ipython3",
   "version": "3.7.1"
  }
 },
 "nbformat": 4,
 "nbformat_minor": 2
}
