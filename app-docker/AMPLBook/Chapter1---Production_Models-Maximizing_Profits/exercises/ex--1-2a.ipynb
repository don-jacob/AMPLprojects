{
 "cells": [
  {
   "cell_type": "markdown",
   "metadata": {},
   "source": [
    "### Exercise 1-2. \n",
    "The steel model of this chapter can be further modified to reflect various changes in production requirements. For each part below, explain the modifications to Figures 1-6a and 1-6b that\n",
    "would be required to achieve the desired changes. (Make each change separately, rather than accumulating the changes from one part to the next.)\n",
    "\n",
    "(a) How would you change the constraints so that total hours used by all products must equal the total hours available for each stage? Solve the linear program with this change, and verify that you get the same results. Explain why, in this case, there is no difference in the solution.\n",
    "\n",
    "(b) How would you add to the model to restrict the total weight of all products to be less than a new parameter, max_weight? Solve the linear program for a weight limit of 6500 tons, and explain how this extra restriction changes the results.\n",
    "\n",
    "(c) The incentive system for mill managers may tend to encourage them to produce as many tons as possible. How would you change the objective function to maximize total tons? For the data of our example, does this make a difference to the optimal solution?\n",
    "    \n",
    "(d) Suppose that instead of the lower bounds represented by commit[p] in our model, we want to require that each product represent a certain share of the total tons produced. In the algebraic notation of Figure 1-1, this new constraint might be represented as \n",
    "    \n",
    "\\begin{equation*}\n",
    "X_j >= s_j \\thinspace \\sum_{k \\thinspace \\epsilon \\thinspace P} X_k \\thinspace , for \\thinspace each \\thinspace  j \\thinspace \\epsilon \\thinspace P\n",
    "\\end{equation*}\n",
    "        \n",
    "where sj is the minimum share associated with project j. How would you change the AMPL model to use this constraint in place of the lower bounds commit[p]? If the minimum shares are 0.4 for bands and plate, and 0.1 for coils, what is the solution ? Verify that if you change the minimum shares to 0.5 for bands and plate, and 0.1 for coils, the linear program gives an optimal solution that produces nothing, at zero profit. Explain why this makes sense.\n",
    "      \n",
    "(e) Suppose there is an additional finishing stage for plates only, with a capacity of 20 hours and a rate of 150 tons per hour. Explain how you could modify the data, without changing the model, to incorporate this new stage.\n"
   ]
  },
  {
   "cell_type": "code",
   "execution_count": 1,
   "metadata": {},
   "outputs": [],
   "source": [
    "import pandas as pd\n",
    "from amplpy import AMPL, Environment"
   ]
  },
  {
   "cell_type": "code",
   "execution_count": 2,
   "metadata": {},
   "outputs": [],
   "source": [
    "ampl = AMPL(Environment('/opt/ampl.linux64'))"
   ]
  },
  {
   "cell_type": "code",
   "execution_count": 3,
   "metadata": {},
   "outputs": [],
   "source": [
    "ampl.reset()"
   ]
  },
  {
   "cell_type": "code",
   "execution_count": 4,
   "metadata": {},
   "outputs": [],
   "source": [
    "ampl.read('./ex--1-2a.mod')"
   ]
  },
  {
   "cell_type": "code",
   "execution_count": 5,
   "metadata": {},
   "outputs": [],
   "source": [
    "ampl.readData('./ex--1-2a.dat')"
   ]
  },
  {
   "cell_type": "code",
   "execution_count": 63,
   "metadata": {},
   "outputs": [
    {
     "name": "stdout",
     "output_type": "stream",
     "text": [
      "maximize audience_coverage:\n",
      "\t1800000*X['number_of_minutes_in_TV'] + \n",
      "\t1e+06*X['number_of_pages_in_magazine'] + \n",
      "\t250000*X['number_of_minutes_in_radio'];\n"
     ]
    }
   ],
   "source": [
    "print(ampl.getObjective('audience_coverage').get())"
   ]
  },
  {
   "cell_type": "code",
   "execution_count": 64,
   "metadata": {},
   "outputs": [
    {
     "name": "stdout",
     "output_type": "stream",
     "text": [
      "subject to constraints{c in constraint_names} : sum{p in\n",
      "  advertising_platform} constraint_list[p,c]*X[p] <= constraint_limits[c];\n",
      "subject to constraints['budget']:\n",
      "\t20000*X['number_of_minutes_in_TV'] + \n",
      "\t10000*X['number_of_pages_in_magazine'] + \n",
      "\t2000*X['number_of_minutes_in_radio'] <= 1e+06;\n",
      "subject to constraints['person-week']:\n",
      "\tX['number_of_minutes_in_TV'] + 3*X['number_of_pages_in_magazine'] + \n",
      "\tX['number_of_minutes_in_radio'] <= 100;\n"
     ]
    }
   ],
   "source": [
    "print(ampl.getConstraint('constraints'))\n",
    "print(ampl.getConstraint('constraints').get('budget'))\n",
    "print(ampl.getConstraint('constraints').get('person-week'))"
   ]
  },
  {
   "cell_type": "code",
   "execution_count": 65,
   "metadata": {},
   "outputs": [
    {
     "name": "stdout",
     "output_type": "stream",
     "text": [
      "maximize audience_coverage:\n",
      "\t1800000*X['number_of_minutes_in_TV'] + \n",
      "\t1e+06*X['number_of_pages_in_magazine'] + \n",
      "\t250000*X['number_of_minutes_in_radio'];\n",
      "\n",
      "subject to constraints['budget']:\n",
      "\t20000*X['number_of_minutes_in_TV'] + \n",
      "\t10000*X['number_of_pages_in_magazine'] + \n",
      "\t2000*X['number_of_minutes_in_radio'] <= 1e+06;\n",
      "\n",
      "subject to constraints['person-week']:\n",
      "\tX['number_of_minutes_in_TV'] + 3*X['number_of_pages_in_magazine'] + \n",
      "\tX['number_of_minutes_in_radio'] <= 100;\n",
      "\n"
     ]
    }
   ],
   "source": [
    "ampl.eval('expand audience_coverage;')\n",
    "ampl.eval('expand constraints;')"
   ]
  },
  {
   "cell_type": "code",
   "execution_count": 66,
   "metadata": {},
   "outputs": [
    {
     "name": "stdout",
     "output_type": "stream",
     "text": [
      "Coefficients of X['number_of_minutes_in_TV']:\n",
      "\tconstraints['budget']         20000\n",
      "\tconstraints['person-week']        1\n",
      "\taudience_coverage           1800000\n",
      "\n",
      "Coefficients of X['number_of_pages_in_magazine']:\n",
      "\tconstraints['budget']       10000\n",
      "\tconstraints['person-week']      3\n",
      "\taudience_coverage           1e+06\n",
      "\n",
      "Coefficients of X['number_of_minutes_in_radio']:\n",
      "\tconstraints['budget']         2000\n",
      "\tconstraints['person-week']       1\n",
      "\taudience_coverage           250000\n",
      "\n"
     ]
    }
   ],
   "source": [
    "ampl.eval('expand X[\"number_of_minutes_in_TV\"];')\n",
    "ampl.eval('expand X[\"number_of_pages_in_magazine\"];')\n",
    "ampl.eval('expand X[\"number_of_minutes_in_radio\"];')"
   ]
  },
  {
   "cell_type": "code",
   "execution_count": 67,
   "metadata": {},
   "outputs": [
    {
     "name": "stdout",
     "output_type": "stream",
     "text": [
      "_nvars = 3\n",
      "_ncons = 2\n",
      "\n"
     ]
    }
   ],
   "source": [
    "ampl.eval('display _nvars, _ncons;')"
   ]
  },
  {
   "cell_type": "code",
   "execution_count": 68,
   "metadata": {},
   "outputs": [
    {
     "name": "stdout",
     "output_type": "stream",
     "text": [
      "MINOS 5.51: optimal solution found.\n",
      "2 iterations, objective 93700000\n"
     ]
    }
   ],
   "source": [
    "ampl.solve()"
   ]
  },
  {
   "cell_type": "code",
   "execution_count": 69,
   "metadata": {},
   "outputs": [
    {
     "name": "stdout",
     "output_type": "stream",
     "text": [
      "93699999.99999999\n"
     ]
    }
   ],
   "source": [
    "print(ampl.getObjective('audience_coverage').get().value())"
   ]
  },
  {
   "cell_type": "markdown",
   "metadata": {},
   "source": [
    "#### Shadow Price or Dual Price or Marginal Price"
   ]
  },
  {
   "cell_type": "code",
   "execution_count": 70,
   "metadata": {},
   "outputs": [
    {
     "name": "stdout",
     "output_type": "stream",
     "text": [
      "constraints [*] :=\n",
      "     budget     86.1111\n",
      "person-week  77777.8\n",
      ";\n",
      "\n",
      "   index0    | constraints.dual\n",
      "  'budget'   | 86.111111111111086\n",
      "'person-week' | 77777.777777777839\n",
      "\n"
     ]
    }
   ],
   "source": [
    "ampl.eval('display constraints;')\n",
    "print(ampl.getConstraint('constraints').getValues())"
   ]
  },
  {
   "cell_type": "markdown",
   "metadata": {},
   "source": [
    "### Decision Variable Solution and Reduced Cost"
   ]
  },
  {
   "cell_type": "code",
   "execution_count": 71,
   "metadata": {},
   "outputs": [
    {
     "data": {
      "text/html": [
       "<div>\n",
       "<style scoped>\n",
       "    .dataframe tbody tr th:only-of-type {\n",
       "        vertical-align: middle;\n",
       "    }\n",
       "\n",
       "    .dataframe tbody tr th {\n",
       "        vertical-align: top;\n",
       "    }\n",
       "\n",
       "    .dataframe thead th {\n",
       "        text-align: right;\n",
       "    }\n",
       "</style>\n",
       "<table border=\"1\" class=\"dataframe\">\n",
       "  <thead>\n",
       "    <tr style=\"text-align: right;\">\n",
       "      <th></th>\n",
       "      <th>X_LowerBound</th>\n",
       "      <th>X_Solution</th>\n",
       "      <th>X_UpperBound</th>\n",
       "      <th>X_ReducedCosts</th>\n",
       "    </tr>\n",
       "    <tr>\n",
       "      <th>DecisionVariable_X</th>\n",
       "      <th></th>\n",
       "      <th></th>\n",
       "      <th></th>\n",
       "      <th></th>\n",
       "    </tr>\n",
       "  </thead>\n",
       "  <tbody>\n",
       "    <tr>\n",
       "      <th>number_of_minutes_in_TV</th>\n",
       "      <td>10.0</td>\n",
       "      <td>44.0</td>\n",
       "      <td>99999.0</td>\n",
       "      <td>3.783498e-10</td>\n",
       "    </tr>\n",
       "    <tr>\n",
       "      <th>number_of_pages_in_magazine</th>\n",
       "      <td>2.0</td>\n",
       "      <td>2.0</td>\n",
       "      <td>99999.0</td>\n",
       "      <td>-9.444444e+04</td>\n",
       "    </tr>\n",
       "    <tr>\n",
       "      <th>number_of_minutes_in_radio</th>\n",
       "      <td>0.0</td>\n",
       "      <td>50.0</td>\n",
       "      <td>120.0</td>\n",
       "      <td>0.000000e+00</td>\n",
       "    </tr>\n",
       "  </tbody>\n",
       "</table>\n",
       "</div>"
      ],
      "text/plain": [
       "                             X_LowerBound  X_Solution  X_UpperBound  \\\n",
       "DecisionVariable_X                                                    \n",
       "number_of_minutes_in_TV              10.0        44.0       99999.0   \n",
       "number_of_pages_in_magazine           2.0         2.0       99999.0   \n",
       "number_of_minutes_in_radio            0.0        50.0         120.0   \n",
       "\n",
       "                             X_ReducedCosts  \n",
       "DecisionVariable_X                           \n",
       "number_of_minutes_in_TV        3.783498e-10  \n",
       "number_of_pages_in_magazine   -9.444444e+04  \n",
       "number_of_minutes_in_radio     0.000000e+00  "
      ]
     },
     "execution_count": 71,
     "metadata": {},
     "output_type": "execute_result"
    }
   ],
   "source": [
    "X_result = list()\n",
    "items = ('number_of_minutes_in_TV',\n",
    "        'number_of_pages_in_magazine',\n",
    "        'number_of_minutes_in_radio')\n",
    "for p in items:\n",
    "    X_result.append([\n",
    "        p,\n",
    "        ampl.getVariable('X').get(p).lb(), \n",
    "        ampl.getVariable('X').get(p).value(),\n",
    "        ampl.getVariable('X').get(p).ub(),\n",
    "        ampl.getVariable('X').get(p).rc()\n",
    "    ])\n",
    "df_X_result = pd.DataFrame(X_result)\n",
    "df_X_result.rename(columns={0:'DecisionVariable_X',\n",
    "                            1:'X_LowerBound',\n",
    "                            2:'X_Solution',\n",
    "                            3:'X_UpperBound',\n",
    "                            4:'X_ReducedCosts'},\n",
    "                   inplace=True)\n",
    "df_X_result.set_index('DecisionVariable_X',inplace=True)\n",
    "df_X_result"
   ]
  },
  {
   "cell_type": "code",
   "execution_count": 72,
   "metadata": {},
   "outputs": [
    {
     "name": "stdout",
     "output_type": "stream",
     "text": [
      "   index0    |      X      \n",
      "'number_of_minutes_in_TV' | 43.999999999999993\n",
      "'number_of_minutes_in_radio' | 49.999999999999993\n",
      "'number_of_pages_in_magazine' |      2      \n",
      "\n",
      "   index0    |    X.val    \n",
      "'number_of_minutes_in_TV' | 43.999999999999993\n",
      "'number_of_minutes_in_radio' | 49.999999999999993\n",
      "'number_of_pages_in_magazine' |      2      \n",
      "\n",
      "[('number_of_minutes_in_TV', 43.99999999999999), ('number_of_minutes_in_radio', 49.99999999999999), ('number_of_pages_in_magazine', 2.0)]\n",
      "{'number_of_minutes_in_TV': 43.99999999999999, 'number_of_minutes_in_radio': 49.99999999999999, 'number_of_pages_in_magazine': 2.0}\n"
     ]
    }
   ],
   "source": [
    "print(ampl.getData('X'))\n",
    "values = ampl.getVariable('X').getValues()\n",
    "print(values)\n",
    "values.toPandas()\n",
    "print(values.toList())\n",
    "print(values.toDict())"
   ]
  },
  {
   "cell_type": "markdown",
   "metadata": {},
   "source": [
    "## Summary\n",
    "\n",
    "1. Adding radio as a medium for advertisement, improved objective cost function. \n",
    "2. Shadow price for budget constraint reduced from ~$\\$$88 to ~$\\$$86. Almost no impact to this constraint.  \n",
    "3. Shadow price for person-week constraint increased significantly ~$\\$$40,000 to ~$\\$$77,777. Adding radio as a medium has now increased shadow price of person-week. Adding radio as a medium has increased the importance of person-week constraint.\n",
    "4. Finally:\n",
    " * Once again, TV medium is no more at the minimum minutes once the person-week constraint was added. \n",
    " * Magazine as a medium is not preferred anymore. Only radio and TV enters the solution, magazine is no more a pereferred medium. \n",
    " * The person-week required for TV and radio is very less while for magazine is higher. Making it attractive to allocate all the budget between TV and radio only. This is also indicative of person-week constraint causing the magazine variable to leave the solution. \n",
    "5. Adding an upper bound of 120 radio minutes as no impact to the solution. The objective remains same as in 1-1c. The reduced costs and constraint shadow prices (dual prices) also has no change because the radio minutes variable (=50) is in between the min and max bounds. \n",
    "6. Adding the min pages for the magazine, \n",
    "    \n",
    "    (a) reduced the objective cost function from $\\$$93.88million to $\\$$93.7million. \n",
    "    \n",
    "    (b) Adding this min bound did not cause any change to the shadow price for either constraints. \n",
    "    \n",
    "    (c) This means that at a min bound of 2 magazine pages, there is no additional impact to the constraints. \n",
    "    \n",
    "    (d) The min bound of 2 magazine pages, did not impact reduced costs for all three variables.\n",
    "    \n",
    "    (e) An interesting observation is that, adding a min bound of 2 pages, made the solution for all variables an integer value. In the previous case (1-1c), the solutions were non-integers. \n",
    "7. A note here is that, TV minute and Magazine pages variables have no upper bounds. This was modelled by setting the upper bounds to 9999. "
   ]
  },
  {
   "cell_type": "code",
   "execution_count": null,
   "metadata": {},
   "outputs": [],
   "source": []
  }
 ],
 "metadata": {
  "kernelspec": {
   "display_name": "Python 3",
   "language": "python",
   "name": "python3"
  },
  "language_info": {
   "codemirror_mode": {
    "name": "ipython",
    "version": 3
   },
   "file_extension": ".py",
   "mimetype": "text/x-python",
   "name": "python",
   "nbconvert_exporter": "python",
   "pygments_lexer": "ipython3",
   "version": "3.7.1"
  }
 },
 "nbformat": 4,
 "nbformat_minor": 2
}
